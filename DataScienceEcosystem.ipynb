{
  "metadata": {
    "kernelspec": {
      "name": "python",
      "display_name": "Python (Pyodide)",
      "language": "python"
    },
    "language_info": {
      "codemirror_mode": {
        "name": "python",
        "version": 3
      },
      "file_extension": ".py",
      "mimetype": "text/x-python",
      "name": "python",
      "nbconvert_exporter": "python",
      "pygments_lexer": "ipython3",
      "version": "3.8"
    }
  },
  "nbformat_minor": 5,
  "nbformat": 4,
  "cells": [
    {
      "id": "7cd9a932-4722-47a2-ab9f-0c015ea1809f",
      "cell_type": "markdown",
      "source": "# Data Science Tools and Ecosystem",
      "metadata": {}
    },
    {
      "id": "75bec653-4b17-465b-a477-7af4ad44cfc1",
      "cell_type": "markdown",
      "source": "In this notebook, Data Science Tools and Ecosystem are summarized.",
      "metadata": {}
    },
    {
      "id": "e07108cd-d1e9-4652-a58a-ecb34f2885ba",
      "cell_type": "markdown",
      "source": "**Objectives:**\n* List popular languages used in Data Science\n* Give common libraries used in Data Science\n* Provide a table of data science tools\n* Give some examples of the evaluation of arithmetic expressions",
      "metadata": {}
    },
    {
      "id": "3ee4be9d-635b-4942-96f8-2a7c75db15b1",
      "cell_type": "markdown",
      "source": "Some of the popular languages that Data Scientists use are:\n1. Python\n2. R\n3. SQL",
      "metadata": {}
    },
    {
      "id": "d90f2b05-f619-4c13-9e0d-0edc878b0c75",
      "cell_type": "markdown",
      "source": "Some of the commonly used libraries used by Data Scientists include:\n1. Pandas\n2. NumPy\n3. Scikit-learn\n4. TensorFlow\n5. PyTorch\n6. Keras",
      "metadata": {}
    },
    {
      "id": "af0f0ab3-2873-40a6-a998-38819e7a4a22",
      "cell_type": "markdown",
      "source": "|Data Science Tools|\n|----|\n|R Studio|\n|PyTorch|\n|Apache Hadoop|",
      "metadata": {}
    },
    {
      "id": "727c5936-f310-45cf-9222-76c83f435486",
      "cell_type": "markdown",
      "source": "### Below are a few examples of evaluating arithmetic expressions in Python",
      "metadata": {}
    },
    {
      "id": "b2fe7434-dd07-4fb7-8525-a918aed61967",
      "cell_type": "code",
      "source": "\"This is a simple arithmetic expression to multiply and then add integers\"\n(3*4)+5",
      "metadata": {
        "trusted": true
      },
      "outputs": [
        {
          "execution_count": 5,
          "output_type": "execute_result",
          "data": {
            "text/plain": "17"
          },
          "metadata": {}
        }
      ],
      "execution_count": 5
    },
    {
      "id": "4ca4d222-64f9-49ec-86f4-64627377353c",
      "cell_type": "code",
      "source": "\"This will convert 200 minutes to hours by dividing by 60\"\n200/60",
      "metadata": {
        "trusted": true
      },
      "outputs": [
        {
          "execution_count": 6,
          "output_type": "execute_result",
          "data": {
            "text/plain": "3.3333333333333335"
          },
          "metadata": {}
        }
      ],
      "execution_count": 6
    },
    {
      "id": "943acbe9-bbfb-42e6-8963-c585258ade08",
      "cell_type": "markdown",
      "source": "## Author\nJeffrey R. Oliver",
      "metadata": {}
    },
    {
      "id": "22487f99-df14-4f20-badf-35b55c907400",
      "cell_type": "code",
      "source": "",
      "metadata": {
        "trusted": true
      },
      "outputs": [],
      "execution_count": null
    }
  ]
}