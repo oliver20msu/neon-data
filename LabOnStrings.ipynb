{
  "metadata": {
    "kernelspec": {
      "name": "python",
      "display_name": "Python (Pyodide)",
      "language": "python"
    },
    "language_info": {
      "codemirror_mode": {
        "name": "python",
        "version": 3
      },
      "file_extension": ".py",
      "mimetype": "text/x-python",
      "name": "python",
      "nbconvert_exporter": "python",
      "pygments_lexer": "ipython3",
      "version": "3.8"
    }
  },
  "nbformat_minor": 5,
  "nbformat": 4,
  "cells": [
    {
      "id": "b1690f41-bdf7-4a05-9c18-170fc8d42a90",
      "cell_type": "code",
      "source": "name = \"Age of Ultron\"",
      "metadata": {
        "trusted": true
      },
      "outputs": [],
      "execution_count": 3
    },
    {
      "id": "0bfa5c1d-dd95-4ba9-934c-7d4491e7f8be",
      "cell_type": "code",
      "source": "name",
      "metadata": {
        "trusted": true
      },
      "outputs": [
        {
          "execution_count": 4,
          "output_type": "execute_result",
          "data": {
            "text/plain": "'Age of Ultron'"
          },
          "metadata": {}
        }
      ],
      "execution_count": 4
    },
    {
      "id": "832e928b-d639-4e22-85f1-beeab9dd5151",
      "cell_type": "code",
      "source": "#Show the nth letter\nprint(name[4])",
      "metadata": {
        "trusted": true
      },
      "outputs": [
        {
          "name": "stdout",
          "output_type": "stream",
          "text": "o\n"
        }
      ],
      "execution_count": 33
    },
    {
      "id": "dc409f59-7a78-479e-8fcc-1a3d997fc820",
      "cell_type": "code",
      "source": "print(name[3])",
      "metadata": {
        "trusted": true
      },
      "outputs": [
        {
          "name": "stdout",
          "output_type": "stream",
          "text": " \n"
        }
      ],
      "execution_count": 6
    },
    {
      "id": "7b172253-f081-479e-a556-ea1cbd4c1f8f",
      "cell_type": "code",
      "source": "print(name[6])",
      "metadata": {
        "trusted": true
      },
      "outputs": [
        {
          "name": "stdout",
          "output_type": "stream",
          "text": " \n"
        }
      ],
      "execution_count": 7
    },
    {
      "id": "36e4d56d-39c3-470f-944a-8ceac4e38c19",
      "cell_type": "code",
      "source": "print(name[2])",
      "metadata": {
        "trusted": true
      },
      "outputs": [
        {
          "name": "stdout",
          "output_type": "stream",
          "text": "e\n"
        }
      ],
      "execution_count": 8
    },
    {
      "id": "cc161cfa-156e-4a82-9084-f56a7d76d282",
      "cell_type": "code",
      "source": "print(name[0])",
      "metadata": {
        "trusted": true
      },
      "outputs": [
        {
          "name": "stdout",
          "output_type": "stream",
          "text": "A\n"
        }
      ],
      "execution_count": 11
    },
    {
      "id": "7fdb13ae-6baf-4cd6-91dc-85be0679d690",
      "cell_type": "code",
      "source": "print(name[1])",
      "metadata": {
        "trusted": true
      },
      "outputs": [
        {
          "name": "stdout",
          "output_type": "stream",
          "text": "g\n"
        }
      ],
      "execution_count": 12
    },
    {
      "id": "1d6fe0b2-2acd-47de-804b-a62127a3df64",
      "cell_type": "code",
      "source": "print(name[5])",
      "metadata": {
        "trusted": true
      },
      "outputs": [
        {
          "name": "stdout",
          "output_type": "stream",
          "text": "f\n"
        }
      ],
      "execution_count": 13
    },
    {
      "id": "24eeaef0-4fc2-4176-abfd-b62e25a72ef1",
      "cell_type": "code",
      "source": "print(name[7])",
      "metadata": {
        "trusted": true
      },
      "outputs": [
        {
          "name": "stdout",
          "output_type": "stream",
          "text": "U\n"
        }
      ],
      "execution_count": 14
    },
    {
      "id": "1cc560f0-4442-4b1d-a80b-a693d7aa2779",
      "cell_type": "code",
      "source": "print(name[-1])",
      "metadata": {
        "trusted": true
      },
      "outputs": [
        {
          "name": "stdout",
          "output_type": "stream",
          "text": "n\n"
        }
      ],
      "execution_count": 15
    },
    {
      "id": "08481835-1f7c-4bb5-9c80-3ea5a1bdc221",
      "cell_type": "code",
      "source": "print(name[-3])",
      "metadata": {
        "trusted": true
      },
      "outputs": [
        {
          "name": "stdout",
          "output_type": "stream",
          "text": "r\n"
        }
      ],
      "execution_count": 16
    },
    {
      "id": "7aaaeb5a-a9c2-4193-a4ed-d159c4b656ff",
      "cell_type": "code",
      "source": "print(name[-4])",
      "metadata": {
        "trusted": true
      },
      "outputs": [
        {
          "name": "stdout",
          "output_type": "stream",
          "text": "t\n"
        }
      ],
      "execution_count": 17
    },
    {
      "id": "1d0beffb-a6e8-4e37-ad2d-163ec56214dc",
      "cell_type": "code",
      "source": "print(name[-13])",
      "metadata": {
        "trusted": true
      },
      "outputs": [
        {
          "name": "stdout",
          "output_type": "stream",
          "text": "A\n"
        }
      ],
      "execution_count": 18
    },
    {
      "id": "5501305e-ab1b-4840-a902-be524521efdc",
      "cell_type": "code",
      "source": "#Get the length of your string variable\n\nlen(name)",
      "metadata": {
        "trusted": true
      },
      "outputs": [
        {
          "execution_count": 32,
          "output_type": "execute_result",
          "data": {
            "text/plain": "13"
          },
          "metadata": {}
        }
      ],
      "execution_count": 32
    },
    {
      "id": "583b9182-6493-497e-a3c4-bfede50d6729",
      "cell_type": "code",
      "source": "len(\"Age of Ultron\")",
      "metadata": {
        "trusted": true
      },
      "outputs": [
        {
          "execution_count": 20,
          "output_type": "execute_result",
          "data": {
            "text/plain": "13"
          },
          "metadata": {}
        }
      ],
      "execution_count": 20
    },
    {
      "id": "f1f0f7e8-5290-4c04-956f-f6a48e13e322",
      "cell_type": "code",
      "source": "name[0-3]",
      "metadata": {
        "trusted": true
      },
      "outputs": [
        {
          "execution_count": 21,
          "output_type": "execute_result",
          "data": {
            "text/plain": "'r'"
          },
          "metadata": {}
        }
      ],
      "execution_count": 21
    },
    {
      "id": "9ecda32b-fbf8-4760-87f2-bd4e2e98192d",
      "cell_type": "code",
      "source": "#Slicing: take a range of the letters\n\nname[0:3]",
      "metadata": {
        "trusted": true
      },
      "outputs": [
        {
          "execution_count": 31,
          "output_type": "execute_result",
          "data": {
            "text/plain": "'Age'"
          },
          "metadata": {}
        }
      ],
      "execution_count": 31
    },
    {
      "id": "9a312b4f-9ad2-4994-bd19-0c8e95ab330d",
      "cell_type": "code",
      "source": "name[-6:-1]",
      "metadata": {
        "trusted": true
      },
      "outputs": [
        {
          "execution_count": 28,
          "output_type": "execute_result",
          "data": {
            "text/plain": "'Ultro'"
          },
          "metadata": {}
        }
      ],
      "execution_count": 28
    },
    {
      "id": "e8096559-2df1-4927-a379-ddaa830fca2f",
      "cell_type": "code",
      "source": "#every nth element\nname[::3]",
      "metadata": {
        "trusted": true
      },
      "outputs": [
        {
          "execution_count": 30,
          "output_type": "execute_result",
          "data": {
            "text/plain": "'A  tn'"
          },
          "metadata": {}
        }
      ],
      "execution_count": 30
    },
    {
      "id": "bcd0ede7-8e70-401e-a78e-5d6c876901d4",
      "cell_type": "code",
      "source": "",
      "metadata": {
        "trusted": true
      },
      "outputs": [],
      "execution_count": null
    }
  ]
}