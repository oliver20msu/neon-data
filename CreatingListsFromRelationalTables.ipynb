{
 "cells": [
  {
   "cell_type": "markdown",
   "id": "e7b35dc7-b2fb-4fc5-9800-e0f6960b6d4b",
   "metadata": {},
   "source": [
    "# Basics"
   ]
  },
  {
   "cell_type": "code",
   "execution_count": null,
   "id": "56ecd122-14e2-4e0e-a40e-c77bd6ad32f3",
   "metadata": {},
   "outputs": [],
   "source": [
    "# 1. Initiate an empty list\n",
    "dynamic_numbers = []\n",
    "\n",
    "# 2. Use append() to add elements\n",
    "print(f\"Current list: {dynamic_numbers}\") # Output: Current list: []\n",
    "\n",
    "dynamic_numbers.append(5)\n",
    "print(f\"After appending 5: {dynamic_numbers}\") # Output: After appending 5: [5]\n",
    "\n",
    "dynamic_numbers.append(10)\n",
    "print(f\"After appending 10: {dynamic_numbers}\") # Output: After appending 10: [5, 10]\n",
    "\n",
    "# You can even append results of calculations or user input\n",
    "num_from_user = int(input(\"Enter another number: \")) # Let's say user enters 15\n",
    "dynamic_numbers.append(num_from_user * 2) # Append 15 * 2 = 30\n",
    "print(f\"After user input: {dynamic_numbers}\") # Output: After user input: [5, 10, 30]"
   ]
  },
  {
   "cell_type": "markdown",
   "id": "6af627fd-bcd5-41d4-b34f-79f2342c57d4",
   "metadata": {},
   "source": [
    "# With dataframe"
   ]
  },
  {
   "cell_type": "code",
   "execution_count": null,
   "id": "04498f6f-74ce-4ac3-af37-edac0116f756",
   "metadata": {},
   "outputs": [],
   "source": [
    "import pandas as pd\n",
    "customers_df = pd.read_csv('customers.csv')\n",
    "orders_df = pd.read_csv('orders.csv')\n",
    "\n",
    "# Select only active customers from New York\n",
    "ny_active_customers = customers_df[(customers_df['status'] == 'active') & (customers_df['city'] == 'New York')]\n",
    "\n",
    "# Get a list of customer IDs from these active customers\n",
    "customer_ids = ny_active_customers['customer_id'].tolist()"
   ]
  },
  {
   "cell_type": "markdown",
   "id": "1148ee0f-4db3-4bb7-8141-0f334f5554d5",
   "metadata": {},
   "source": [
    "# Do stuff with the data"
   ]
  },
  {
   "cell_type": "code",
   "execution_count": null,
   "id": "b5ac8661-412b-443d-a491-2dd6a3e1447d",
   "metadata": {},
   "outputs": [],
   "source": [
    "#e.g. compute total sales from\n",
    "total_sales = ny_active_customer_orders['order_total'].sum()"
   ]
  },
  {
   "cell_type": "markdown",
   "id": "4670ffa7-f4c6-4dd9-b615-378f1de30805",
   "metadata": {},
   "source": [
    "# Define a function to do something with the data"
   ]
  },
  {
   "cell_type": "code",
   "execution_count": null,
   "id": "27385d65-8ad1-410a-9bd1-18cdb974e973",
   "metadata": {},
   "outputs": [],
   "source": [
    "# Create new dataframe column 'order_size' by applying the 'categorize_order_size' function to 'order_total'\n",
    "def categorize_order_size(order_total):\n",
    "    if order_total < 50:\n",
    "        return \"Small\"\n",
    "    elif 50 <= order_total < 200:\n",
    "        return \"Medium\"\n",
    "    else:\n",
    "        return \"Large\"\n",
    "\n",
    "# Apply the function to a new column in the DataFrame\n",
    "ny_active_customer_orders['order_size'] = ny_active_customer_orders['order_total'].apply(categorize_order_size)\n",
    "\n",
    "# You can then use f-strings to report\n",
    "print(f\"Total sales from active NY customers: ${total_sales:.2f}\")\n",
    "print(f\"Order size distribution:\\n{ny_active_customer_orders['order_size'].value_counts()}\")"
   ]
  }
 ],
 "metadata": {
  "kernelspec": {
   "display_name": "Python 3 (ipykernel)",
   "language": "python",
   "name": "python3"
  },
  "language_info": {
   "codemirror_mode": {
    "name": "ipython",
    "version": 3
   },
   "file_extension": ".py",
   "mimetype": "text/x-python",
   "name": "python",
   "nbconvert_exporter": "python",
   "pygments_lexer": "ipython3",
   "version": "3.12.7"
  }
 },
 "nbformat": 4,
 "nbformat_minor": 5
}
