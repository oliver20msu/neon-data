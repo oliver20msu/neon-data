{
  "metadata": {
    "kernelspec": {
      "name": "python",
      "display_name": "Python (Pyodide)",
      "language": "python"
    },
    "language_info": {
      "codemirror_mode": {
        "name": "python",
        "version": 3
      },
      "file_extension": ".py",
      "mimetype": "text/x-python",
      "name": "python",
      "nbconvert_exporter": "python",
      "pygments_lexer": "ipython3",
      "version": "3.8"
    }
  },
  "nbformat_minor": 5,
  "nbformat": 4,
  "cells": [
    {
      "id": "187b3d96-35dc-4f14-9734-f95d9c6888be",
      "cell_type": "code",
      "source": "#Range -- two versions. Both return \"range(0,3)\"\n\nrange(0,3)\nrange(3)",
      "metadata": {
        "trusted": true
      },
      "outputs": [
        {
          "execution_count": 2,
          "output_type": "execute_result",
          "data": {
            "text/plain": "range(0, 3)"
          },
          "metadata": {}
        }
      ],
      "execution_count": 2
    },
    {
      "id": "91be4986-c8e6-4461-8c6c-0776f77095fd",
      "cell_type": "code",
      "source": "# For loop\n\ndates = [1982,1990,2003] #Define a list\nN = len(dates) #Define the length of the list\n\nfor i in range(N): #NB: this step defines \"i\" as the looping variable, so to speak (it doesn't have to be i but often is, a nod to statistics)\n    print(dates[i]) #Print all the items (i) in the list (dates)",
      "metadata": {
        "trusted": true
      },
      "outputs": [
        {
          "name": "stdout",
          "output_type": "stream",
          "text": "1982\n1990\n2003\n"
        }
      ],
      "execution_count": 4
    },
    {
      "id": "000289e5-5124-4fd5-8fd0-0d4d086307d1",
      "cell_type": "code",
      "source": "#So, you have some data in a list, let's say\n\nSupers=[\"Megatron\",\"Starblitz\",\"Sykout\",\"Range\"]\nSupers",
      "metadata": {
        "trusted": true
      },
      "outputs": [
        {
          "execution_count": 6,
          "output_type": "execute_result",
          "data": {
            "text/plain": "['Megatron', 'Starblitz', 'Sykout', 'Range']"
          },
          "metadata": {}
        }
      ],
      "execution_count": 6
    },
    {
      "id": "50462536-15b4-4812-a793-99521f8072e8",
      "cell_type": "code",
      "source": "Supers.append(\"Molitron\")\nSupers",
      "metadata": {
        "trusted": true
      },
      "outputs": [
        {
          "execution_count": 14,
          "output_type": "execute_result",
          "data": {
            "text/plain": "['Megatron', 'Starblitz', 'Sykout', 'Range', 'Molitron']"
          },
          "metadata": {}
        }
      ],
      "execution_count": 14
    },
    {
      "id": "e1ddafbb-49b0-4bbb-8452-f1bbf8401b95",
      "cell_type": "code",
      "source": "#I define a range\n\nRange=len(Supers)\nprint(f\"We can see we have {Range} objects in our defined range. Which is called ... 'Range'.\")",
      "metadata": {
        "trusted": true
      },
      "outputs": [
        {
          "name": "stdout",
          "output_type": "stream",
          "text": "We can see we have 5 objects in our defined range. Which is called ... 'Range'.\n"
        }
      ],
      "execution_count": 16
    },
    {
      "id": "61e4c737-2b7d-4b33-bde7-ab1d6e18a790",
      "cell_type": "code",
      "source": "#Now we want to do something for all the individuals in this range (we've creatively named Range) within our list, \"Supers\" --- in this case, print...\n## Do something for all items in a list within a given range.\n\nfor i in range(Range):\n    print(Supers[i])\n",
      "metadata": {
        "trusted": true
      },
      "outputs": [
        {
          "name": "stdout",
          "output_type": "stream",
          "text": "Megatron\nStarblitz\nSykout\nRange\nMolitron\n"
        }
      ],
      "execution_count": 17
    },
    {
      "id": "34b1b53b-791e-4822-b2b9-7c381c280da4",
      "cell_type": "code",
      "source": "#Keep in mind that we have defined Range as a number, starting from left to right. So, \"for i in range(Range)\" means \"Do this Range (5) times going from left to right in the list.\"\n\nRange",
      "metadata": {
        "trusted": true
      },
      "outputs": [
        {
          "execution_count": 18,
          "output_type": "execute_result",
          "data": {
            "text/plain": "5"
          },
          "metadata": {}
        }
      ],
      "execution_count": 18
    },
    {
      "id": "2cc67a8f-4d7f-4e3a-8831-56b297362637",
      "cell_type": "code",
      "source": "#You can do this for just a range of numbers like this:\n\nfor i in range(0,2):\n    print(i)",
      "metadata": {
        "trusted": true
      },
      "outputs": [
        {
          "name": "stdout",
          "output_type": "stream",
          "text": "0\n1\n"
        }
      ],
      "execution_count": 20
    },
    {
      "id": "f5021a82-68bf-4175-9011-20098dc1a2f1",
      "cell_type": "code",
      "source": "Supers",
      "metadata": {
        "trusted": true
      },
      "outputs": [
        {
          "execution_count": 22,
          "output_type": "execute_result",
          "data": {
            "text/plain": "['Megatron', 'Starblitz', 'Sykout', 'Range', 'Molitron']"
          },
          "metadata": {}
        }
      ],
      "execution_count": 22
    },
    {
      "id": "0e31180a-834a-4ba7-896a-406e3edbabd2",
      "cell_type": "code",
      "source": "#Loop to change items in a list\n## Rename a range in a list\n\nSquoopers=[\"Mayday\",\"Freeden\",\"THREE\",\"FOUR\",\"FIVE\",\"Errorbot\",\"Dashbor\",\"Steamroller\",\"Mayhem\",\"Golem\"]\nfor i in range(2,5):\n    print(\"Before Squooper\",i,\"is\",Squoopers[i])\n    Squoopers[i]=\"Megalabot\"\n    print(\"After Squooper\",i,\"is\",Squoopers[i])",
      "metadata": {
        "trusted": true
      },
      "outputs": [
        {
          "name": "stdout",
          "output_type": "stream",
          "text": "Before Squooper 2 is THREE\nAfter Squooper 2 is Megalabot\nBefore Squooper 3 is FOUR\nAfter Squooper 3 is Megalabot\nBefore Squooper 4 is FIVE\nAfter Squooper 4 is Megalabot\n"
        }
      ],
      "execution_count": 23
    },
    {
      "id": "c2d9dde0-a1f0-47e3-ab66-74357632616f",
      "cell_type": "code",
      "source": "Squoopers",
      "metadata": {
        "trusted": true
      },
      "outputs": [
        {
          "execution_count": 24,
          "output_type": "execute_result",
          "data": {
            "text/plain": "['Mayday',\n 'Freeden',\n 'Megalabot',\n 'Megalabot',\n 'Megalabot',\n 'Errorbot',\n 'Dashbor',\n 'Steamroller',\n 'Mayhem',\n 'Golem']"
          },
          "metadata": {}
        }
      ],
      "execution_count": 24
    },
    {
      "id": "b4a1186d-923d-4880-b760-4db1aab57be0",
      "cell_type": "code",
      "source": "#Enumerate a list\n\nfor i, Squoopers in enumerate(Squoopers):\n    print(i,Squoopers)",
      "metadata": {
        "trusted": true
      },
      "outputs": [
        {
          "name": "stdout",
          "output_type": "stream",
          "text": "0 Mayday\n1 Freeden\n2 Megalabot\n3 Megalabot\n4 Megalabot\n5 Errorbot\n6 Dashbor\n7 Steamroller\n8 Mayhem\n9 Golem\n"
        }
      ],
      "execution_count": 25
    },
    {
      "id": "e46b9ba5-3dbf-4aea-b3a8-0151ccd00082",
      "cell_type": "code",
      "source": "#While -- execute a loop until a certain condition\n## Be careful on this one -- it can create infinite loops if you don't close the condition all the way!\n\nEmerg=[1982,1994,1995,1998,2001,2002,2004,2005,2007,2009,2012,2015,2016,2017,2018,2022,2023,2024]\n\nindex=0 #Tells us where to start -- I think haha. Your just defining any word as 0 -- I picked index\nyear=Emerg[0] #Finds 1982, our first object in the list\n\nwhile(year != 2022):\n    print(year)\n    index=index + 1\n    year=Emerg[index]\n\nprint(\"It took \", index ,\"repetitions to get out of loop.\")",
      "metadata": {
        "trusted": true
      },
      "outputs": [
        {
          "name": "stdout",
          "output_type": "stream",
          "text": "1982\n1994\n1995\n1998\n2001\n2002\n2004\n2005\n2007\n2009\n2012\n2015\n2016\n2017\n2018\nIt took  15 repetitions to get out of loop.\n"
        }
      ],
      "execution_count": 3
    },
    {
      "id": "8ee82c2d-e9ab-4ead-9cd9-e6079c7b8e12",
      "cell_type": "code",
      "source": "#Clarification\n\n## Create a list\nLIST=[1,2,3,4,5,6,7,8,9,10]\n\n## Define length of the list using 'len'\n### i.e. How long is the list 'LIST'?\nLENGTH_of_list=len(LIST)\n\n## Define and give a name to the statistical concept of i (each and every item one by one)\nfor each_and_every_item in range(LENGTH_of_list):\n\n    ## Print the list 'LIST', each and every item\n    print(LIST[each_and_every_item])",
      "metadata": {
        "trusted": true
      },
      "outputs": [
        {
          "name": "stdout",
          "output_type": "stream",
          "text": "1\n2\n3\n4\n5\n6\n7\n8\n9\n10\n"
        }
      ],
      "execution_count": 7
    },
    {
      "id": "87229109-953b-41f5-9556-80af43a187e2",
      "cell_type": "markdown",
      "source": "# HOMEWORK!",
      "metadata": {}
    },
    {
      "id": "a09ebbdb-da84-4479-a878-6d312cda4283",
      "cell_type": "code",
      "source": "range(-5,5)",
      "metadata": {
        "trusted": true
      },
      "outputs": [
        {
          "execution_count": 8,
          "output_type": "execute_result",
          "data": {
            "text/plain": "range(-5, 5)"
          },
          "metadata": {}
        }
      ],
      "execution_count": 8
    },
    {
      "id": "0b81439b-29eb-4ae2-afa8-cfc5a2a3cad1",
      "cell_type": "code",
      "source": "#alt:\n\nfor a in range(-5,6):\n    print(a)",
      "metadata": {
        "trusted": true
      },
      "outputs": [
        {
          "name": "stdout",
          "output_type": "stream",
          "text": "-5\n-4\n-3\n-2\n-1\n0\n1\n2\n3\n4\n5\n"
        }
      ],
      "execution_count": 11
    },
    {
      "id": "279a5965-3391-480b-8b9d-745222fc51e7",
      "cell_type": "code",
      "source": "Genres=[ 'rock', 'R&B', 'Soundtrack', 'R&B', 'soul', 'pop']\nN=len(Genres)\n\nfor b in range(N):\n    print(Genres[b])",
      "metadata": {
        "trusted": true
      },
      "outputs": [
        {
          "name": "stdout",
          "output_type": "stream",
          "text": "rock\nR&B\nSoundtrack\nR&B\nsoul\npop\n"
        }
      ],
      "execution_count": 13
    },
    {
      "id": "5bc2d724-1235-4733-9316-18942ce9c750",
      "cell_type": "code",
      "source": "alist=[5,2,3,11,211,3,15]\nR=len(alist)\nfor e in range(R):\n    print(alist[e])",
      "metadata": {
        "trusted": true
      },
      "outputs": [
        {
          "name": "stdout",
          "output_type": "stream",
          "text": "5\n2\n3\n11\n211\n3\n15\n"
        }
      ],
      "execution_count": 14
    },
    {
      "id": "48b34702-1725-478c-8b33-72c23c8d7cfd",
      "cell_type": "code",
      "source": "alist",
      "metadata": {
        "trusted": true
      },
      "outputs": [
        {
          "execution_count": 15,
          "output_type": "execute_result",
          "data": {
            "text/plain": "[5, 2, 3, 11, 211, 3, 15]"
          },
          "metadata": {}
        }
      ],
      "execution_count": 15
    },
    {
      "id": "e8a19337-b65a-48f6-8ac2-9eebd4c1c32e",
      "cell_type": "code",
      "source": "SQ=['red','yellow','green','purple','blue']\nfor r in SQ:\n    print(r)",
      "metadata": {
        "trusted": true
      },
      "outputs": [
        {
          "name": "stdout",
          "output_type": "stream",
          "text": "red\nyellow\ngreen\npurple\nblue\n"
        }
      ],
      "execution_count": 16
    },
    {
      "id": "ca8c6b88-9e20-4598-9d5d-84e1bd0197d6",
      "cell_type": "code",
      "source": "### This is their solution code, but seems off. cf. the one I cobbled together below...\n\nPlayListRatings = [10, 9.5, 10, 8, 7.5, 5, 10, 10]\ns=0\nRT=PlayListRatings[0]\nwhile(s<len(PlayListRatings) and RT >= 6):\n    print(RT) \n    RT = PlayListRatings[s]\n    s=s+1",
      "metadata": {
        "trusted": true
      },
      "outputs": [
        {
          "name": "stdout",
          "output_type": "stream",
          "text": "10\n10\n9.5\n10\n8\n7.5\n"
        }
      ],
      "execution_count": 21
    },
    {
      "id": "cd8c04b9-1a8e-422b-aebd-250802d06c46",
      "cell_type": "code",
      "source": "PlayListRatings = [10, 9.5, 10, 8, 7.5, 4, 10, 10]\ns=0 #Tells us where to start -- I think haha. Your just defining any word as 0 -- I picked index\nRT=PlayListRatings[0] #Finds 10??, our first object in the list\n\nwhile(s<len(PlayListRatings) and RT>=6):\n    print(RT)\n    s=s + 1\n    RT=PlayListRatings[s]\n\nprint(\"It took \", s ,\"repetitions to get out of loop.\")",
      "metadata": {
        "trusted": true
      },
      "outputs": [
        {
          "name": "stdout",
          "output_type": "stream",
          "text": "10\n9.5\n10\n8\n7.5\nIt took  5 repetitions to get out of loop.\n"
        }
      ],
      "execution_count": 26
    },
    {
      "id": "9b22001a-612e-46ff-bc5c-b72ee01fb8a0",
      "cell_type": "markdown",
      "source": "# How to remember while loops\n1. What's the race (list)\n2. Start at the beginning (0)\n3. Find the starting line\n4. Race until the finish line\n5. Post race results! (print positions one at a time for all who finished)\n7. DNFs (see below):",
      "metadata": {}
    },
    {
      "id": "1a33e69f-429a-4e29-9c06-c050b926f682",
      "cell_type": "code",
      "source": "RT=PlayListRatings[s]\nRT",
      "metadata": {
        "trusted": true
      },
      "outputs": [
        {
          "execution_count": 27,
          "output_type": "execute_result",
          "data": {
            "text/plain": "4"
          },
          "metadata": {}
        }
      ],
      "execution_count": 27
    },
    {
      "id": "2ffb4734-6fda-450b-9aaa-a5452c915060",
      "cell_type": "code",
      "source": "squares = ['orange', 'orange', 'purple', 'blue ', 'orange']\nnew_squares = []\nj = 0\nwhile(j < len(squares) and squares[j] == 'orange'):\n    new_squares.append(squares[j])\n    j = j + 1\nprint (new_squares)",
      "metadata": {
        "trusted": true
      },
      "outputs": [],
      "execution_count": null
    }
  ]
}