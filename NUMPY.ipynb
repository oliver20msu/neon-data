{
 "cells": [
  {
   "cell_type": "code",
   "execution_count": 5,
   "id": "825e644f-2116-4cbd-b2a1-3bbd593d35d7",
   "metadata": {},
   "outputs": [
    {
     "data": {
      "text/plain": [
       "array([0, 1, 2, 3, 4])"
      ]
     },
     "execution_count": 5,
     "metadata": {},
     "output_type": "execute_result"
    }
   ],
   "source": [
    "# np arrays --- similar to lists\n",
    "# This is known as casting a list to a numpy array:\n",
    "\n",
    "import numpy as np\n",
    "a=np.array([0,1,2,3,4]) # Casting a list to a numpy array\n",
    "a"
   ]
  },
  {
   "cell_type": "code",
   "execution_count": 7,
   "id": "1901d3b1-875d-4e49-b9cd-18409d7b3953",
   "metadata": {},
   "outputs": [
    {
     "name": "stdout",
     "output_type": "stream",
     "text": [
      "<class 'numpy.ndarray'>\n"
     ]
    }
   ],
   "source": [
    "# Check type\n",
    "\n",
    "print(type(a))"
   ]
  },
  {
   "cell_type": "code",
   "execution_count": 16,
   "id": "ae0ed38d-ae6e-4076-8d7e-dc17b17de8ec",
   "metadata": {},
   "outputs": [
    {
     "name": "stdout",
     "output_type": "stream",
     "text": [
      "int32\n"
     ]
    }
   ],
   "source": [
    "print(a.dtype)"
   ]
  },
  {
   "cell_type": "markdown",
   "id": "acd7d4d9-fdb6-4211-b5f7-5a7cccc1563f",
   "metadata": {},
   "source": [
    "# Attributes"
   ]
  },
  {
   "cell_type": "code",
   "execution_count": 19,
   "id": "f78dafe5-a8b5-4b5d-a7ef-2107d1d11a48",
   "metadata": {},
   "outputs": [
    {
     "data": {
      "text/plain": [
       "5"
      ]
     },
     "execution_count": 19,
     "metadata": {},
     "output_type": "execute_result"
    }
   ],
   "source": [
    "#Size \n",
    "\n",
    "a.size"
   ]
  },
  {
   "cell_type": "code",
   "execution_count": 20,
   "id": "31ac525d-4aa4-4a6d-940a-8e73cf3627f1",
   "metadata": {},
   "outputs": [
    {
     "data": {
      "text/plain": [
       "1"
      ]
     },
     "execution_count": 20,
     "metadata": {},
     "output_type": "execute_result"
    }
   ],
   "source": [
    "# Number of array dimensions\n",
    "\n",
    "a.ndim"
   ]
  },
  {
   "cell_type": "code",
   "execution_count": 21,
   "id": "9176eb4f-c7a8-45d4-9b05-598fb5b3ccc8",
   "metadata": {},
   "outputs": [
    {
     "data": {
      "text/plain": [
       "(5,)"
      ]
     },
     "execution_count": 21,
     "metadata": {},
     "output_type": "execute_result"
    }
   ],
   "source": [
    "# Attribute shape (array in each dimension)\n",
    "\n",
    "a.shape"
   ]
  },
  {
   "cell_type": "code",
   "execution_count": 24,
   "id": "e42f1eaa-cd8d-4789-af4c-07c7f5eb95b6",
   "metadata": {},
   "outputs": [
    {
     "name": "stdout",
     "output_type": "stream",
     "text": [
      "<class 'numpy.ndarray'>\n",
      "float64\n"
     ]
    }
   ],
   "source": [
    "# Casting a float list and verifying it as float\n",
    "\n",
    "b=np.array([3.1,11.02,4.6,62.7,213.4,1,9990.001,4,3.2])\n",
    "print(type(b))\n",
    "print(b.dtype)"
   ]
  },
  {
   "cell_type": "code",
   "execution_count": 27,
   "id": "f74574ed-ab91-4712-87c3-848d309f03e7",
   "metadata": {},
   "outputs": [
    {
     "data": {
      "text/plain": [
       "array([ 3.14159,  1.     ,  4.     ,  1.     ,  5.     ,  9.     ,\n",
       "       44.     ,  2.22222])"
      ]
     },
     "execution_count": 27,
     "metadata": {},
     "output_type": "execute_result"
    }
   ],
   "source": [
    "# Change elements of an array in numpy\n",
    "\n",
    "lizards=np.array([3.0,1,4,1,5,9,6,2])\n",
    "lizards[0]=3.14159 # First element\n",
    "lizards[7]=2.22222 # Eighth element\n",
    "lizards[-2]=44 # Penultimate element\n",
    "lizards"
   ]
  },
  {
   "cell_type": "code",
   "execution_count": 28,
   "id": "117a22a9-a437-42a0-9e29-c9d6302ab2f7",
   "metadata": {},
   "outputs": [
    {
     "data": {
      "text/plain": [
       "array([4., 1., 5.])"
      ]
     },
     "execution_count": 28,
     "metadata": {},
     "output_type": "execute_result"
    }
   ],
   "source": [
    "# Assign to (define as part of?) new array \n",
    "\n",
    "iguanas=lizards[2:5]\n",
    "iguanas"
   ]
  },
  {
   "cell_type": "code",
   "execution_count": 29,
   "id": "e78afc18-0d4a-48de-8330-dbf3451d808d",
   "metadata": {},
   "outputs": [
    {
     "data": {
      "text/plain": [
       "array([0., 0., 0.])"
      ]
     },
     "execution_count": 29,
     "metadata": {},
     "output_type": "execute_result"
    }
   ],
   "source": [
    "# Assign new values to a range\n",
    "\n",
    "iguanas[0:3]=0,0,0\n",
    "iguanas"
   ]
  },
  {
   "cell_type": "code",
   "execution_count": 32,
   "id": "2d08d8ba-8ab2-4617-ae23-a10ee1e473f0",
   "metadata": {},
   "outputs": [],
   "source": [
    "# Vectors in classic method\n",
    "\n",
    "u=[5,3]\n",
    "v=[17,-2]\n",
    "z=[]\n",
    "for n, m in zip(u,v):\n",
    "    z.append(n+m) # You could make this subtraction as well if you are vector subtracting"
   ]
  },
  {
   "cell_type": "code",
   "execution_count": 33,
   "id": "a5478093-6429-44f8-b63b-1806f11cdce8",
   "metadata": {},
   "outputs": [
    {
     "data": {
      "text/plain": [
       "[22, 1]"
      ]
     },
     "execution_count": 33,
     "metadata": {},
     "output_type": "execute_result"
    }
   ],
   "source": [
    "z"
   ]
  },
  {
   "cell_type": "code",
   "execution_count": 35,
   "id": "591935bb-ecc7-4598-b80f-45f6a16c28ce",
   "metadata": {},
   "outputs": [
    {
     "data": {
      "text/plain": [
       "array([1, 1])"
      ]
     },
     "execution_count": 35,
     "metadata": {},
     "output_type": "execute_result"
    }
   ],
   "source": [
    "# Vectors in numpy\n",
    "\n",
    "U=np.array([1,0])\n",
    "V=np.array([0,1])\n",
    "Z=U+V\n",
    "Z"
   ]
  },
  {
   "cell_type": "markdown",
   "id": "2240c62f-5d3a-46a2-a766-a7fc0bed3a34",
   "metadata": {},
   "source": [
    "# Not totally sure which is fater tbh! Haha"
   ]
  },
  {
   "cell_type": "code",
   "execution_count": 36,
   "id": "8c882594-2bc7-4c24-8a4f-34512b3a1be5",
   "metadata": {},
   "outputs": [
    {
     "data": {
      "text/plain": [
       "[3, 4]"
      ]
     },
     "execution_count": 36,
     "metadata": {},
     "output_type": "execute_result"
    }
   ],
   "source": [
    "# Classic vector multiplication\n",
    "\n",
    "q=[1,2]\n",
    "r=[3,2]\n",
    "s=[]\n",
    "for d,f in zip(q,r):\n",
    "    s.append(d*f)\n",
    "s"
   ]
  },
  {
   "cell_type": "code",
   "execution_count": 37,
   "id": "7a0a25f6-12d4-434d-86f1-3da93518f2b9",
   "metadata": {},
   "outputs": [
    {
     "data": {
      "text/plain": [
       "array([3, 4])"
      ]
     },
     "execution_count": 37,
     "metadata": {},
     "output_type": "execute_result"
    }
   ],
   "source": [
    "#vs numpy\n",
    "\n",
    "Q=np.array([1,2])\n",
    "R=np.array([3,2])\n",
    "S=Q*R\n",
    "S"
   ]
  },
  {
   "cell_type": "code",
   "execution_count": 38,
   "id": "1c33756f-9c7c-486f-8518-ac945569b97f",
   "metadata": {},
   "outputs": [],
   "source": [
    "# Numpy does get rid of that for... business. You can see it more straightforwardly."
   ]
  },
  {
   "cell_type": "code",
   "execution_count": 39,
   "id": "09e985f2-9c34-4ee1-aa73-5af053484702",
   "metadata": {},
   "outputs": [
    {
     "data": {
      "text/plain": [
       "5"
      ]
     },
     "execution_count": 39,
     "metadata": {},
     "output_type": "execute_result"
    }
   ],
   "source": [
    "# Dot product (numerators multiplied plus denominators multiplied). A test of similarity (greater numbers are more similar)\n",
    "\n",
    "u=np.array([1,2])\n",
    "v=np.array([3,1])\n",
    "result=np.dot(u,v)\n",
    "result"
   ]
  },
  {
   "cell_type": "code",
   "execution_count": 42,
   "id": "a49dba7e-4028-4d5f-88a4-a1d4331953af",
   "metadata": {},
   "outputs": [
    {
     "data": {
      "text/plain": [
       "array([2, 3, 4, 0])"
      ]
     },
     "execution_count": 42,
     "metadata": {},
     "output_type": "execute_result"
    }
   ],
   "source": [
    "# Broadcasting using numpy\n",
    "\n",
    "u=np.array([1,2,3,-1])\n",
    "z=u+1\n",
    "z\n",
    "\n",
    "#That's pretty slick tbh..."
   ]
  },
  {
   "cell_type": "code",
   "execution_count": 45,
   "id": "d4f84eb1-fadc-48c4-994a-044cc30389ae",
   "metadata": {},
   "outputs": [
    {
     "data": {
      "text/plain": [
       "4.5"
      ]
     },
     "execution_count": 45,
     "metadata": {},
     "output_type": "execute_result"
    }
   ],
   "source": [
    "# Mean\n",
    "\n",
    "a=np.array([1,-5,3,19])\n",
    "mean_a=a.mean()\n",
    "mean_a"
   ]
  },
  {
   "cell_type": "code",
   "execution_count": 54,
   "id": "4b73e2d3-ab04-4b43-9517-735475e3c919",
   "metadata": {},
   "outputs": [
    {
     "data": {
      "text/plain": [
       "4.5"
      ]
     },
     "execution_count": 54,
     "metadata": {},
     "output_type": "execute_result"
    }
   ],
   "source": [
    "#Classic means:\n",
    "\n",
    "list=[1,-5,3,19]\n",
    "num=sum(list)\n",
    "div=len(list)\n",
    "M=num/div\n",
    "M"
   ]
  },
  {
   "cell_type": "code",
   "execution_count": 56,
   "id": "83d5006c-4bee-402c-a975-fc4f9bfdb145",
   "metadata": {},
   "outputs": [
    {
     "data": {
      "text/plain": [
       "4.5"
      ]
     },
     "execution_count": 56,
     "metadata": {},
     "output_type": "execute_result"
    }
   ],
   "source": [
    "# Even better\n",
    "\n",
    "M=sum(list)/len(list)\n",
    "M"
   ]
  },
  {
   "cell_type": "code",
   "execution_count": 57,
   "id": "a49e0a8f-5290-431a-bcaa-b37a7e395cb8",
   "metadata": {},
   "outputs": [
    {
     "data": {
      "text/plain": [
       "9"
      ]
     },
     "execution_count": 57,
     "metadata": {},
     "output_type": "execute_result"
    }
   ],
   "source": [
    "# Find max\n",
    "\n",
    "b=np.array([4,9,0,8,6,4,4,8,9])\n",
    "max_b=b.max()\n",
    "max_b"
   ]
  },
  {
   "cell_type": "code",
   "execution_count": 59,
   "id": "4597c724-1d69-41a8-831f-a46462f50adc",
   "metadata": {},
   "outputs": [
    {
     "data": {
      "text/plain": [
       "9"
      ]
     },
     "execution_count": 59,
     "metadata": {},
     "output_type": "execute_result"
    }
   ],
   "source": [
    "# Classic\n",
    "\n",
    "maxb=max(b)\n",
    "maxb"
   ]
  },
  {
   "cell_type": "code",
   "execution_count": 60,
   "id": "5cd6976d-ffb2-4510-86ad-362373ef5d6e",
   "metadata": {},
   "outputs": [
    {
     "data": {
      "text/plain": [
       "array([0.        , 0.78539816, 3.14159265])"
      ]
     },
     "execution_count": 60,
     "metadata": {},
     "output_type": "execute_result"
    }
   ],
   "source": [
    "# pi\n",
    "\n",
    "x=np.array([0,np.pi/4,np.pi])\n",
    "x"
   ]
  },
  {
   "cell_type": "code",
   "execution_count": 62,
   "id": "67e1c6a9-724c-46d2-8b2f-f1483852d610",
   "metadata": {},
   "outputs": [
    {
     "data": {
      "text/plain": [
       "array([0.00000000e+00, 7.07106781e-01, 1.22464680e-16])"
      ]
     },
     "execution_count": 62,
     "metadata": {},
     "output_type": "execute_result"
    }
   ],
   "source": [
    "# broadcast sin through array x above...\n",
    "\n",
    "y=np.sin(x)\n",
    "y"
   ]
  },
  {
   "cell_type": "code",
   "execution_count": 67,
   "id": "72a74984-8476-4a9b-957e-e5d95c12b1fb",
   "metadata": {},
   "outputs": [
    {
     "data": {
      "text/plain": [
       "array([-2., -1.,  0.,  1.,  2.])"
      ]
     },
     "execution_count": 67,
     "metadata": {},
     "output_type": "execute_result"
    }
   ],
   "source": [
    "# linespace (return evenly spaced numbers over a sequence)\n",
    "\n",
    "np.linspace(-2,2,num=5) # arguments are starting element position, ending, and number of samples"
   ]
  },
  {
   "cell_type": "code",
   "execution_count": 68,
   "id": "6d1f0351-c1fe-4523-9316-f694a539f67f",
   "metadata": {},
   "outputs": [
    {
     "data": {
      "text/plain": [
       "array([-25.        , -24.68400823, -24.36801646, -24.05202469,\n",
       "       -23.73603292, -23.42004115, -23.10404938, -22.7880576 ,\n",
       "       -22.47206583, -22.15607406, -21.84008229, -21.52409052,\n",
       "       -21.20809875, -20.89210698, -20.57611521, -20.26012344,\n",
       "       -19.94413167, -19.6281399 , -19.31214813, -18.99615636,\n",
       "       -18.68016458, -18.36417281, -18.04818104, -17.73218927,\n",
       "       -17.4161975 , -17.10020573, -16.78421396, -16.46822219,\n",
       "       -16.15223042, -15.83623865, -15.52024688, -15.20425511,\n",
       "       -14.88826334, -14.57227156, -14.25627979, -13.94028802,\n",
       "       -13.62429625, -13.30830448, -12.99231271, -12.67632094,\n",
       "       -12.36032917, -12.0443374 , -11.72834563, -11.41235386,\n",
       "       -11.09636209, -10.78037031, -10.46437854, -10.14838677,\n",
       "        -9.832395  ,  -9.51640323,  -9.20041146,  -8.88441969,\n",
       "        -8.56842792,  -8.25243615,  -7.93644438,  -7.62045261,\n",
       "        -7.30446084,  -6.98846907,  -6.67247729,  -6.35648552,\n",
       "        -6.04049375,  -5.72450198,  -5.40851021,  -5.09251844,\n",
       "        -4.77652667,  -4.4605349 ,  -4.14454313,  -3.82855136,\n",
       "        -3.51255959,  -3.19656782,  -2.88057605,  -2.56458427,\n",
       "        -2.2485925 ,  -1.93260073,  -1.61660896,  -1.30061719,\n",
       "        -0.98462542,  -0.66863365,  -0.35264188,  -0.03665011,\n",
       "         0.27934166,   0.59533343,   0.9113252 ,   1.22731697,\n",
       "         1.54330875,   1.85930052,   2.17529229,   2.49128406,\n",
       "         2.80727583,   3.1232676 ,   3.43925937,   3.75525114,\n",
       "         4.07124291,   4.38723468,   4.70322645,   5.01921822,\n",
       "         5.33520999,   5.65120177,   5.96719354,   6.28318531])"
      ]
     },
     "execution_count": 68,
     "metadata": {},
     "output_type": "execute_result"
    }
   ],
   "source": [
    "# 100 evenly spaced samples from -25 to 2*pi:\n",
    "\n",
    "x=np.linspace(-25,2*np.pi,100)\n",
    "x"
   ]
  },
  {
   "cell_type": "code",
   "execution_count": 74,
   "id": "1f2764a0-b310-4639-9764-ccee3ef9541d",
   "metadata": {},
   "outputs": [
    {
     "data": {
      "image/png": "[encoded data removed]",
      "text/plain": [
       "<Figure size 640x480 with 1 Axes>"
      ]
     },
     "metadata": {},
     "output_type": "display_data"
    }
   ],
   "source": [
    "import matplotlib.pyplot as plt\n",
    "y=np.sin(x)\n",
    "plt.plot(x,y)\n",
    "plt.show()"
   ]
  }
 ],
 "metadata": {
  "kernelspec": {
   "display_name": "Python 3 (ipykernel)",
   "language": "python",
   "name": "python3"
  },
  "language_info": {
   "codemirror_mode": {
    "name": "ipython",
    "version": 3
   },
   "file_extension": ".py",
   "mimetype": "text/x-python",
   "name": "python",
   "nbconvert_exporter": "python",
   "pygments_lexer": "ipython3",
   "version": "3.12.7"
  }
 },
 "nbformat": 4,
 "nbformat_minor": 5
}
