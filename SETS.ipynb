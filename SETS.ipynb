{
  "metadata": {
    "kernelspec": {
      "name": "python",
      "display_name": "Python (Pyodide)",
      "language": "python"
    },
    "language_info": {
      "codemirror_mode": {
        "name": "python",
        "version": 3
      },
      "file_extension": ".py",
      "mimetype": "text/x-python",
      "name": "python",
      "nbconvert_exporter": "python",
      "pygments_lexer": "ipython3",
      "version": "3.8"
    }
  },
  "nbformat_minor": 5,
  "nbformat": 4,
  "cells": [
    {
      "id": "375cf42b-c46e-46fb-baf4-34c719be82c8",
      "cell_type": "code",
      "source": "#Create a set\n\nSet1={\"pop\",\"pop\",\"pop\",\"pop\",\"rock\",\"classical\",\"punk\",\"ska\",\"hard rock\",\"death metal\"}\nSet1",
      "metadata": {
        "trusted": true
      },
      "outputs": [
        {
          "execution_count": 2,
          "output_type": "execute_result",
          "data": {
            "text/plain": "{'classical', 'death metal', 'hard rock', 'pop', 'punk', 'rock', 'ska'}"
          },
          "metadata": {}
        }
      ],
      "execution_count": 2
    },
    {
      "id": "b88b0723-ca7c-46c0-a920-d90bc71615b2",
      "cell_type": "markdown",
      "source": "# Notice that repeats are merged: a set is a list of unique objects",
      "metadata": {}
    },
    {
      "id": "f9d9894c-31f8-4a19-a838-e572829ebd0f",
      "cell_type": "code",
      "source": "#Convert list to set\n\nAlbumL=[\"centuries\",\"agents\",\"Strike force\",\"ground force\",\"battlements\",\"age\",\"age\",\"ground force\",\"power\",\"realm\",7.8,7.8,14,14,12]\nAlbumS=set(AlbumL)\nAlbumS",
      "metadata": {
        "trusted": true
      },
      "outputs": [
        {
          "execution_count": 3,
          "output_type": "execute_result",
          "data": {
            "text/plain": "{12,\n 14,\n 7.8,\n 'Strike force',\n 'age',\n 'agents',\n 'battlements',\n 'centuries',\n 'ground force',\n 'power',\n 'realm'}"
          },
          "metadata": {}
        }
      ],
      "execution_count": 3
    },
    {
      "id": "8ae375c3-facb-4ec0-9410-c9a64f63263b",
      "cell_type": "code",
      "source": "#Notice, it removes repeated objects",
      "metadata": {
        "trusted": true
      },
      "outputs": [],
      "execution_count": null
    },
    {
      "id": "20debe27-190e-4d08-9c09-b76588c4bf36",
      "cell_type": "code",
      "source": "#Create set\n\nSET2=set([\"wack\",\"flappin\",\"scream\",\"shred\",\\\n          \"bank\",\"harry\",\"flagged\",\"no go\",\"shred\",\\\n          \"max\",\"wack\"])\nSET2",
      "metadata": {
        "trusted": true
      },
      "outputs": [
        {
          "execution_count": 5,
          "output_type": "execute_result",
          "data": {
            "text/plain": "{'bank',\n 'flagged',\n 'flappin',\n 'harry',\n 'max',\n 'no go',\n 'scream',\n 'shred',\n 'wack'}"
          },
          "metadata": {}
        }
      ],
      "execution_count": 5
    },
    {
      "id": "c44ea04c-9876-481c-bfe6-a949df305cb8",
      "cell_type": "markdown",
      "source": "## Just noticed, sets also alphabetize / sort",
      "metadata": {}
    },
    {
      "id": "5018620e-2f9a-41a4-8fd2-08560cc3f654",
      "cell_type": "code",
      "source": "Dog_it=[\"husky\",\"roger\",\"tail wag\",\"Rufus\",\"Jim\",\\\n        \"Jim\",\"husky\",\"roger\",\"Jim\"]\nDOGN=set(Dog_it)\nDOGN",
      "metadata": {
        "trusted": true
      },
      "outputs": [
        {
          "execution_count": 7,
          "output_type": "execute_result",
          "data": {
            "text/plain": "{'Jim', 'Rufus', 'husky', 'roger', 'tail wag'}"
          },
          "metadata": {}
        }
      ],
      "execution_count": 7
    },
    {
      "id": "cb551b51-f71d-4536-9c3a-e8e9a974998e",
      "cell_type": "code",
      "source": "#Rename so you don't have to type all-caps DOGN anymore...\n\nDogs=DOGN\nDogs",
      "metadata": {
        "trusted": true
      },
      "outputs": [
        {
          "execution_count": 8,
          "output_type": "execute_result",
          "data": {
            "text/plain": "{'Jim', 'Rufus', 'husky', 'roger', 'tail wag'}"
          },
          "metadata": {}
        }
      ],
      "execution_count": 8
    },
    {
      "id": "318713cc-c962-4f06-9fef-c4de36c412cc",
      "cell_type": "code",
      "source": "#Add elements to the set\n\nDogs.add(\"Charlie\")\nDogs.add(\"Carson\")\nDogs.add(\"Old Husker my boy\")\nDogs.add(\"steady hand\")\nDogs.add(\"frankendog\")\nDogs.add(\"George\")\nDogs.add(\"Old Husker my boy\")\nDogs.add(\"Old Husker my boy\")\nDogs.add(\"Old Husker my boy\")\nDogs",
      "metadata": {
        "trusted": true
      },
      "outputs": [
        {
          "execution_count": 10,
          "output_type": "execute_result",
          "data": {
            "text/plain": "{'Carson',\n 'Charlie',\n 'George',\n 'Jim',\n 'Old Husker my boy',\n 'Rufus',\n 'frankendog',\n 'husky',\n 'roger',\n 'steady hand',\n 'tail wag'}"
          },
          "metadata": {}
        }
      ],
      "execution_count": 10
    },
    {
      "id": "6e50bcbe-edbb-4cef-8b72-7cc89f48cb26",
      "cell_type": "code",
      "source": "#Remove an element from a set\n\nDogs.remove(\"husky\")\nDogs",
      "metadata": {
        "trusted": true
      },
      "outputs": [
        {
          "execution_count": 11,
          "output_type": "execute_result",
          "data": {
            "text/plain": "{'Carson',\n 'Charlie',\n 'George',\n 'Jim',\n 'Old Husker my boy',\n 'Rufus',\n 'frankendog',\n 'roger',\n 'steady hand',\n 'tail wag'}"
          },
          "metadata": {}
        }
      ],
      "execution_count": 11
    },
    {
      "id": "3b2fc6e2-4b03-4e16-87f8-6665c2cb8c02",
      "cell_type": "code",
      "source": "#Add back\n\nDogs.add(\"Husky\")",
      "metadata": {
        "trusted": true
      },
      "outputs": [],
      "execution_count": 12
    },
    {
      "id": "be80b5fa-764d-4eaf-8562-b52f91775554",
      "cell_type": "code",
      "source": "Dogs",
      "metadata": {
        "trusted": true
      },
      "outputs": [
        {
          "execution_count": 13,
          "output_type": "execute_result",
          "data": {
            "text/plain": "{'Carson',\n 'Charlie',\n 'George',\n 'Husky',\n 'Jim',\n 'Old Husker my boy',\n 'Rufus',\n 'frankendog',\n 'roger',\n 'steady hand',\n 'tail wag'}"
          },
          "metadata": {}
        }
      ],
      "execution_count": 13
    },
    {
      "id": "0f4e8a96-e849-4bb2-96e8-844b63ce24c7",
      "cell_type": "code",
      "source": "# Verify if an element is in a set\n\n\"Old Husker my boy\" in Dogs",
      "metadata": {
        "trusted": true
      },
      "outputs": [
        {
          "execution_count": 14,
          "output_type": "execute_result",
          "data": {
            "text/plain": "True"
          },
          "metadata": {}
        }
      ],
      "execution_count": 14
    },
    {
      "id": "2455bd27-3225-48b0-a6e8-2aa7156a4784",
      "cell_type": "code",
      "source": "\"Facilicius\" in Dogs",
      "metadata": {
        "trusted": true
      },
      "outputs": [
        {
          "execution_count": 15,
          "output_type": "execute_result",
          "data": {
            "text/plain": "False"
          },
          "metadata": {}
        }
      ],
      "execution_count": 15
    },
    {
      "id": "0904ac36-dd28-4030-bd4a-b662941bf3e8",
      "cell_type": "code",
      "source": "\"asdfad\" in Dogs",
      "metadata": {
        "trusted": true
      },
      "outputs": [
        {
          "execution_count": 16,
          "output_type": "execute_result",
          "data": {
            "text/plain": "False"
          },
          "metadata": {}
        }
      ],
      "execution_count": 16
    },
    {
      "id": "37620416-6d67-473c-9211-1247179b2012",
      "cell_type": "code",
      "source": "\"Jim\" in Dogs",
      "metadata": {
        "trusted": true
      },
      "outputs": [
        {
          "execution_count": 17,
          "output_type": "execute_result",
          "data": {
            "text/plain": "True"
          },
          "metadata": {}
        }
      ],
      "execution_count": 17
    },
    {
      "id": "6edbcef5-4cf1-46a2-9410-544e0cc9095f",
      "cell_type": "code",
      "source": "\"Rusty\" in Dogs",
      "metadata": {
        "trusted": true
      },
      "outputs": [
        {
          "execution_count": 18,
          "output_type": "execute_result",
          "data": {
            "text/plain": "False"
          },
          "metadata": {}
        }
      ],
      "execution_count": 18
    },
    {
      "id": "2e59babf-299d-465c-9db8-2845e5ced58c",
      "cell_type": "code",
      "source": "print(\"Because 'Rusty' should be in Dogs\")\nDogs.add(\"Rusty\")",
      "metadata": {
        "trusted": true
      },
      "outputs": [
        {
          "name": "stdout",
          "output_type": "stream",
          "text": "Because 'Rusty' should be in Dogs\n"
        }
      ],
      "execution_count": 19
    },
    {
      "id": "9c594079-840b-45a3-9309-9f783e76c935",
      "cell_type": "code",
      "source": "Dogs",
      "metadata": {
        "trusted": true
      },
      "outputs": [
        {
          "execution_count": 20,
          "output_type": "execute_result",
          "data": {
            "text/plain": "{'Carson',\n 'Charlie',\n 'George',\n 'Husky',\n 'Jim',\n 'Old Husker my boy',\n 'Rufus',\n 'Rusty',\n 'frankendog',\n 'roger',\n 'steady hand',\n 'tail wag'}"
          },
          "metadata": {}
        }
      ],
      "execution_count": 20
    },
    {
      "id": "f8273016-c775-4911-bd4f-978a4d7c1934",
      "cell_type": "markdown",
      "source": "### Just noticed it's not alphabetized any more!",
      "metadata": {}
    },
    {
      "id": "be720b4a-9d2e-4deb-9d75-a55b77be8849",
      "cell_type": "code",
      "source": "#Print two sets\n\nDogs, Set1",
      "metadata": {
        "trusted": true
      },
      "outputs": [
        {
          "execution_count": 23,
          "output_type": "execute_result",
          "data": {
            "text/plain": "({'Carson',\n  'Charlie',\n  'George',\n  'Husky',\n  'Jim',\n  'Old Husker my boy',\n  'Rufus',\n  'Rusty',\n  'frankendog',\n  'roger',\n  'steady hand',\n  'tail wag'},\n {'classical', 'death metal', 'hard rock', 'pop', 'punk', 'rock', 'ska'})"
          },
          "metadata": {}
        }
      ],
      "execution_count": 23
    },
    {
      "id": "af4b538b-b679-4cce-aaab-ac4afdb9c06a",
      "cell_type": "code",
      "source": "Set1.add(\"Rusty\")\nprint(\"because 'Rusty' is a chill vibe of music genre\")",
      "metadata": {
        "trusted": true
      },
      "outputs": [
        {
          "name": "stdout",
          "output_type": "stream",
          "text": "because 'Rusty' is a chill vibe of music genre\n"
        }
      ],
      "execution_count": 24
    },
    {
      "id": "ed674536-da50-4268-98fa-738c80e43c9e",
      "cell_type": "code",
      "source": "#Find intersections\n\nintersection=Dogs & Set1\nintersection",
      "metadata": {
        "trusted": true
      },
      "outputs": [
        {
          "execution_count": 26,
          "output_type": "execute_result",
          "data": {
            "text/plain": "{'Rusty'}"
          },
          "metadata": {}
        }
      ],
      "execution_count": 26
    },
    {
      "id": "def2bc2f-5f10-48dd-931c-0b7bcb03b2d1",
      "cell_type": "code",
      "source": "print(\"Ahhhh! So Rusty is a dog's name AND a chill vibe music genre!\")",
      "metadata": {
        "trusted": true
      },
      "outputs": [
        {
          "name": "stdout",
          "output_type": "stream",
          "text": "Ahhhh! So Rusty is a dog's name AND a chill vibe music genre!\n"
        }
      ],
      "execution_count": 27
    },
    {
      "id": "65c8ca5a-09ce-4f1e-996f-b3cce40709bf",
      "cell_type": "code",
      "source": "#Find what is different in Dogs from Set 1 / what is unique to Dogs / what is unique to Dogs / exclusion\n\nDogs.difference(Set1)",
      "metadata": {
        "trusted": true
      },
      "outputs": [
        {
          "execution_count": 28,
          "output_type": "execute_result",
          "data": {
            "text/plain": "{'Carson',\n 'Charlie',\n 'George',\n 'Husky',\n 'Jim',\n 'Old Husker my boy',\n 'Rufus',\n 'frankendog',\n 'roger',\n 'steady hand',\n 'tail wag'}"
          },
          "metadata": {}
        }
      ],
      "execution_count": 28
    },
    {
      "id": "98dfee98-4fd9-4e90-9d62-7c17f04a4503",
      "cell_type": "code",
      "source": "#Now what is unique to Set 1\n\nSet1.difference(Dogs)",
      "metadata": {
        "trusted": true
      },
      "outputs": [
        {
          "execution_count": 29,
          "output_type": "execute_result",
          "data": {
            "text/plain": "{'classical', 'death metal', 'hard rock', 'pop', 'punk', 'rock', 'ska'}"
          },
          "metadata": {}
        }
      ],
      "execution_count": 29
    },
    {
      "id": "ccafbe0d-66ce-4820-9abe-8e4671e5a579",
      "cell_type": "code",
      "source": "# Just for extra practice\n\nDogs.difference(SET2)",
      "metadata": {
        "trusted": true
      },
      "outputs": [
        {
          "execution_count": 30,
          "output_type": "execute_result",
          "data": {
            "text/plain": "{'Carson',\n 'Charlie',\n 'George',\n 'Husky',\n 'Jim',\n 'Old Husker my boy',\n 'Rufus',\n 'Rusty',\n 'frankendog',\n 'roger',\n 'steady hand',\n 'tail wag'}"
          },
          "metadata": {}
        }
      ],
      "execution_count": 30
    },
    {
      "id": "1991a848-5620-4ff5-9059-3b2ccaa125d0",
      "cell_type": "code",
      "source": "Intersection2=Dogs&SET2\nIntersection2",
      "metadata": {
        "trusted": true
      },
      "outputs": [
        {
          "execution_count": 31,
          "output_type": "execute_result",
          "data": {
            "text/plain": "set()"
          },
          "metadata": {}
        }
      ],
      "execution_count": 31
    },
    {
      "id": "7dc26bab-680f-499f-a928-8eedf5b6e702",
      "cell_type": "code",
      "source": "SET2.difference(Dogs)",
      "metadata": {
        "trusted": true
      },
      "outputs": [
        {
          "execution_count": 32,
          "output_type": "execute_result",
          "data": {
            "text/plain": "{'bank',\n 'flagged',\n 'flappin',\n 'harry',\n 'max',\n 'no go',\n 'scream',\n 'shred',\n 'wack'}"
          },
          "metadata": {}
        }
      ],
      "execution_count": 32
    },
    {
      "id": "e726a5a4-9624-4bb1-a7a2-31ec86884de1",
      "cell_type": "code",
      "source": "Intersection3=Set1&SET2\nIntersection3",
      "metadata": {
        "trusted": true
      },
      "outputs": [
        {
          "execution_count": 33,
          "output_type": "execute_result",
          "data": {
            "text/plain": "set()"
          },
          "metadata": {}
        }
      ],
      "execution_count": 33
    },
    {
      "id": "35f7dd6b-355f-4778-959a-b32f92364aff",
      "cell_type": "code",
      "source": "SET2.difference(Set1)",
      "metadata": {
        "trusted": true
      },
      "outputs": [
        {
          "execution_count": 34,
          "output_type": "execute_result",
          "data": {
            "text/plain": "{'bank',\n 'flagged',\n 'flappin',\n 'harry',\n 'max',\n 'no go',\n 'scream',\n 'shred',\n 'wack'}"
          },
          "metadata": {}
        }
      ],
      "execution_count": 34
    },
    {
      "id": "175a5987-e3a6-49a2-8e58-db87cfc098ed",
      "cell_type": "code",
      "source": "Set1.difference(SET2)",
      "metadata": {
        "trusted": true
      },
      "outputs": [
        {
          "execution_count": 35,
          "output_type": "execute_result",
          "data": {
            "text/plain": "{'Rusty',\n 'classical',\n 'death metal',\n 'hard rock',\n 'pop',\n 'punk',\n 'rock',\n 'ska'}"
          },
          "metadata": {}
        }
      ],
      "execution_count": 35
    },
    {
      "id": "f49197f1-5d5b-4e35-a77b-6a75397b043b",
      "cell_type": "markdown",
      "source": "## Okay, practice time over now!",
      "metadata": {}
    },
    {
      "id": "48697531-f3eb-4fb4-a267-b96193e66522",
      "cell_type": "markdown",
      "source": "### NB: This kind of syntax only works with sets, not lists, and can only be used with one argument:\nCommon=Set1&SET2\n\n### This can be used on lists and with multiple arguments:\nSet1.intersection(SET2, List1, set3)",
      "metadata": {}
    },
    {
      "id": "67910176-3c94-44f1-998b-7c47874d4c6c",
      "cell_type": "code",
      "source": "#So, intersection between Dogs and the other two:\nDogs.intersection(Set1,SET2)",
      "metadata": {
        "trusted": true
      },
      "outputs": [
        {
          "execution_count": 36,
          "output_type": "execute_result",
          "data": {
            "text/plain": "set()"
          },
          "metadata": {}
        }
      ],
      "execution_count": 36
    },
    {
      "id": "864854b4-7918-4bb7-8f93-865bec115d5e",
      "cell_type": "code",
      "source": "print(\"empty set...which makes sense...until we add Rusty to SET2!\")",
      "metadata": {
        "trusted": true
      },
      "outputs": [
        {
          "name": "stdout",
          "output_type": "stream",
          "text": "empty set...which makes sense...until we add Rusty to SET2!\n"
        }
      ],
      "execution_count": 37
    },
    {
      "id": "83fc2571-59b8-4de6-901d-73e17ee6a778",
      "cell_type": "code",
      "source": "SET2.add(\"Rusty\")",
      "metadata": {
        "trusted": true
      },
      "outputs": [],
      "execution_count": 38
    },
    {
      "id": "4e65e3fe-1c8f-4845-bb2f-00936ac3ad9d",
      "cell_type": "code",
      "source": "#and now...\n\nDogs.intersection(Set1,SET2)",
      "metadata": {
        "trusted": true
      },
      "outputs": [
        {
          "execution_count": 39,
          "output_type": "execute_result",
          "data": {
            "text/plain": "{'Rusty'}"
          },
          "metadata": {}
        }
      ],
      "execution_count": 39
    },
    {
      "id": "0cb7d67a-08eb-4605-baf2-ea9ee157384d",
      "cell_type": "code",
      "source": "print(\"Balium!\")",
      "metadata": {
        "trusted": true
      },
      "outputs": [
        {
          "name": "stdout",
          "output_type": "stream",
          "text": "Balium!\n"
        }
      ],
      "execution_count": 40
    },
    {
      "id": "e7c0ce50-4d25-4af3-99a0-ddfbab436042",
      "cell_type": "code",
      "source": "#Union: the sum total of all sets (what is contained in all sets)\n\nDogs.union(Set1,SET2)",
      "metadata": {
        "trusted": true
      },
      "outputs": [
        {
          "execution_count": 41,
          "output_type": "execute_result",
          "data": {
            "text/plain": "{'Carson',\n 'Charlie',\n 'George',\n 'Husky',\n 'Jim',\n 'Old Husker my boy',\n 'Rufus',\n 'Rusty',\n 'bank',\n 'classical',\n 'death metal',\n 'flagged',\n 'flappin',\n 'frankendog',\n 'hard rock',\n 'harry',\n 'max',\n 'no go',\n 'pop',\n 'punk',\n 'rock',\n 'roger',\n 'scream',\n 'shred',\n 'ska',\n 'steady hand',\n 'tail wag',\n 'wack'}"
          },
          "metadata": {}
        }
      ],
      "execution_count": 41
    },
    {
      "id": "16c31fbe-8eda-495d-aadf-2e8e612ee97b",
      "cell_type": "code",
      "source": "#Check if a set is a superset of another\nset(Dogs).issuperset(SET2)",
      "metadata": {
        "trusted": true
      },
      "outputs": [
        {
          "execution_count": 44,
          "output_type": "execute_result",
          "data": {
            "text/plain": "False"
          },
          "metadata": {}
        }
      ],
      "execution_count": 44
    },
    {
      "id": "4135d81b-1304-4509-a873-0da4dc4dd620",
      "cell_type": "code",
      "source": "#...or a subset of another\nset(Dogs).issubset(SET2)",
      "metadata": {
        "trusted": true
      },
      "outputs": [
        {
          "execution_count": 45,
          "output_type": "execute_result",
          "data": {
            "text/plain": "False"
          },
          "metadata": {}
        }
      ],
      "execution_count": 45
    },
    {
      "id": "cbd5e99a-2337-4a9e-92c4-4e6f59520a88",
      "cell_type": "markdown",
      "source": "#HOMEWORK TIME!",
      "metadata": {}
    },
    {
      "id": "999c8bb8-ab4b-4676-a06a-1b9187061f60",
      "cell_type": "code",
      "source": "#Convert list to set\nWords_list=[\"rap\",\"cover\",\"decay\",\"fold\",\"flooded\",\"sad\",\"abandoned\"]\nWords_set=set(Words_list)\nWords=Words_list\nWords",
      "metadata": {
        "trusted": true
      },
      "outputs": [
        {
          "execution_count": 47,
          "output_type": "execute_result",
          "data": {
            "text/plain": "['rap', 'cover', 'decay', 'fold', 'flooded', 'sad', 'abandoned']"
          },
          "metadata": {}
        }
      ],
      "execution_count": 47
    },
    {
      "id": "7b0e312e-f385-410c-989e-f99ea750a6ea",
      "cell_type": "code",
      "source": "A=[1,2,2,1]\nB=set(A)",
      "metadata": {
        "trusted": true
      },
      "outputs": [],
      "execution_count": 48
    },
    {
      "id": "8afff49a-5ed0-427d-ba8a-d6101b042b5b",
      "cell_type": "code",
      "source": "sum(A)",
      "metadata": {
        "trusted": true
      },
      "outputs": [
        {
          "execution_count": 49,
          "output_type": "execute_result",
          "data": {
            "text/plain": "6"
          },
          "metadata": {}
        }
      ],
      "execution_count": 49
    },
    {
      "id": "a121dcfc-3480-4e5c-baf5-2aa807c5bf9f",
      "cell_type": "code",
      "source": "sum(B)",
      "metadata": {
        "trusted": true
      },
      "outputs": [
        {
          "execution_count": 50,
          "output_type": "execute_result",
          "data": {
            "text/plain": "3"
          },
          "metadata": {}
        }
      ],
      "execution_count": 50
    },
    {
      "id": "24ad32e0-5d4a-4a16-9d23-ae58e313ee0c",
      "cell_type": "code",
      "source": "comboS=Set1.union(SET2)\ncomboS",
      "metadata": {
        "trusted": true
      },
      "outputs": [
        {
          "execution_count": 51,
          "output_type": "execute_result",
          "data": {
            "text/plain": "{'Rusty',\n 'bank',\n 'classical',\n 'death metal',\n 'flagged',\n 'flappin',\n 'hard rock',\n 'harry',\n 'max',\n 'no go',\n 'pop',\n 'punk',\n 'rock',\n 'scream',\n 'shred',\n 'ska',\n 'wack'}"
          },
          "metadata": {}
        }
      ],
      "execution_count": 51
    },
    {
      "id": "cfcb0e1e-37d5-4d0e-9486-d0cfb2431511",
      "cell_type": "code",
      "source": "Set1.issubset(comboS)",
      "metadata": {
        "trusted": true
      },
      "outputs": [
        {
          "execution_count": 52,
          "output_type": "execute_result",
          "data": {
            "text/plain": "True"
          },
          "metadata": {}
        }
      ],
      "execution_count": 52
    },
    {
      "id": "785a84a9-85ac-410c-809d-9ed81147f7ce",
      "cell_type": "code",
      "source": "comboS.issubset(Set",
      "metadata": {
        "trusted": true
      },
      "outputs": [],
      "execution_count": null
    }
  ]
}