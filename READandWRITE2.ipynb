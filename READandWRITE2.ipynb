{
 "cells": [
  {
   "cell_type": "code",
   "execution_count": 3,
   "id": "485d2fd7-20dd-473a-b163-928b30894f40",
   "metadata": {},
   "outputs": [],
   "source": [
    "#Write a line to a file so 'r' is the read option and 'w' is the write option...\n",
    "\n",
    "exmp2 = 'Example2.txt'\n",
    "with open(exmp2, 'w') as writefile: # This defines 'Example2.txt' as 'exmp2', then specifies a write file\n",
    "    writefile.write(\"This is line A\") # This writes to the new write file"
   ]
  },
  {
   "cell_type": "code",
   "execution_count": 4,
   "id": "2a1dfcec-375e-4d14-bfa4-fb811211b168",
   "metadata": {},
   "outputs": [
    {
     "name": "stdout",
     "output_type": "stream",
     "text": [
      "This is line A\n"
     ]
    }
   ],
   "source": [
    "# This now reads the file we wrote\n",
    "\n",
    "with open(exmp2, 'r') as testwritefile:\n",
    "    print(testwritefile.read())"
   ]
  },
  {
   "cell_type": "code",
   "execution_count": 5,
   "id": "7e19fb3a-8935-452f-ac80-00d617ec9ec6",
   "metadata": {},
   "outputs": [
    {
     "data": {
      "text/plain": [
       "'Example2.txt'"
      ]
     },
     "execution_count": 5,
     "metadata": {},
     "output_type": "execute_result"
    }
   ],
   "source": [
    "exmp2"
   ]
  },
  {
   "cell_type": "code",
   "execution_count": 6,
   "id": "c2d207fe-ccb4-486b-ba05-c8b6fab77f98",
   "metadata": {},
   "outputs": [],
   "source": [
    "# Write multiple lines to file\n",
    "\n",
    "with open(exmp2,'w') as writefile:\n",
    "    writefile.write('This is line A\\n')\n",
    "    writefile.write('This is line B\\n')"
   ]
  },
  {
   "cell_type": "code",
   "execution_count": 11,
   "id": "6b552859-712a-4d7b-ae63-62d031d1c5d2",
   "metadata": {},
   "outputs": [
    {
     "name": "stdout",
     "output_type": "stream",
     "text": [
      "This is line A\n",
      "This is line B\n",
      "\n"
     ]
    }
   ],
   "source": [
    "# Verify \n",
    "\n",
    "with open(exmp2,'r') as testwritefile:\n",
    "    print(testwritefile.read())"
   ]
  },
  {
   "cell_type": "code",
   "execution_count": 12,
   "id": "bd8084dc-8d10-400c-ae6d-468734c0776f",
   "metadata": {},
   "outputs": [
    {
     "data": {
      "text/plain": [
       "['This is line A\\n', 'This is line B\\n', 'This is line C\\n']"
      ]
     },
     "execution_count": 12,
     "metadata": {},
     "output_type": "execute_result"
    }
   ],
   "source": [
    "# Sample list of text\n",
    "\n",
    "Lines=['This is line A\\n','This is line B\\n','This is line C\\n']\n",
    "Lines"
   ]
  },
  {
   "cell_type": "code",
   "execution_count": 13,
   "id": "dde871fe-a1b8-4f52-8783-028b41c1f7df",
   "metadata": {},
   "outputs": [
    {
     "name": "stdout",
     "output_type": "stream",
     "text": [
      "This is line A\n",
      "\n",
      "This is line B\n",
      "\n",
      "This is line C\n",
      "\n"
     ]
    }
   ],
   "source": [
    "# Write the stings in a list to a text file\n",
    "\n",
    "with open('Example2.txt','w')as writefile:\n",
    "    for line in Lines:\n",
    "        print(line)\n",
    "        writefile.write(line)"
   ]
  },
  {
   "cell_type": "code",
   "execution_count": 14,
   "id": "dfa39d3e-5754-4dcf-91c3-41d32b4f36bc",
   "metadata": {},
   "outputs": [
    {
     "name": "stdout",
     "output_type": "stream",
     "text": [
      "This is line A\n",
      "This is line B\n",
      "This is line C\n",
      "\n"
     ]
    }
   ],
   "source": [
    "# Verify\n",
    "\n",
    "with open('Example2.txt','r') as testwritefile:\n",
    "    print(testwritefile.read())"
   ]
  },
  {
   "cell_type": "code",
   "execution_count": 15,
   "id": "270a0c93-f3de-4056-925c-eb126b2c711d",
   "metadata": {},
   "outputs": [
    {
     "name": "stdout",
     "output_type": "stream",
     "text": [
      "Overwrite\n",
      "\n"
     ]
    }
   ],
   "source": [
    "# NB! Setting mode to 'w' overwrites all existing data in a file!\n",
    "\n",
    "with open('Example2.txt','w')as writefile:\n",
    "    writefile.write('Overwrite\\n')\n",
    "with open('Example2.txt','r')as testwritefile:\n",
    "    print(testwritefile.read())"
   ]
  },
  {
   "cell_type": "code",
   "execution_count": 16,
   "id": "7bbca853-397e-4228-9749-e3a04a269dd8",
   "metadata": {},
   "outputs": [],
   "source": [
    "# So ... to append (add without deleting a file)\n",
    "\n",
    "with open('Example2.txt','a')as testwritefile:\n",
    "    testwritefile.write('This is line C\\n')\n",
    "    testwritefile.write('This is line D\\n')\n",
    "    testwritefile.write('This is line E\\n')"
   ]
  },
  {
   "cell_type": "code",
   "execution_count": 17,
   "id": "ceb93971-9bbd-4edd-a77f-d8ee3c1cd46d",
   "metadata": {},
   "outputs": [
    {
     "name": "stdout",
     "output_type": "stream",
     "text": [
      "Overwrite\n",
      "This is line C\n",
      "This is line D\n",
      "This is line E\n",
      "\n"
     ]
    }
   ],
   "source": [
    "# Verify\n",
    "\n",
    "with open('Example2.txt','r')as testwritefile:\n",
    "    print(testwritefile.read())"
   ]
  },
  {
   "cell_type": "code",
   "execution_count": 21,
   "id": "da6f7e6c-7083-49c1-9c7a-ac2aeeb1da15",
   "metadata": {},
   "outputs": [],
   "source": [
    "# Now overwrite something cool\n",
    "\n",
    "with open('Example2.txt','w')as testwritefile:\n",
    "    testwritefile.write('The Overwriter has come\\n')"
   ]
  },
  {
   "cell_type": "code",
   "execution_count": 23,
   "id": "bb7c96ee-6d3e-4b1b-add3-532c4b56e9ee",
   "metadata": {},
   "outputs": [
    {
     "name": "stdout",
     "output_type": "stream",
     "text": [
      "The Overwriter has come\n",
      "\n"
     ]
    }
   ],
   "source": [
    "with open('Example2.txt','r')as testwritefile:\n",
    "    print(testwritefile.read())"
   ]
  },
  {
   "cell_type": "code",
   "execution_count": 25,
   "id": "4395db39-fa1b-48c0-8c3b-9f54e47dee5a",
   "metadata": {},
   "outputs": [],
   "source": [
    "# Now add stuff back\n",
    "\n",
    "with open('Example2.txt','a')as testwritefile:\n",
    "    testwritefile.write('A new age is rising...\\n')\n",
    "    testwritefile.write('Fear shall be no more\\n')\n",
    "    testwritefile.write('The age of peace has come\\n')\n",
    "    testwritefile.write('Destiny is ours\\n')"
   ]
  },
  {
   "cell_type": "code",
   "execution_count": 26,
   "id": "ac2c962a-1088-4d6f-a279-e5f0091503c5",
   "metadata": {},
   "outputs": [
    {
     "name": "stdout",
     "output_type": "stream",
     "text": [
      "The Overwriter has come\n",
      "A new age is rising...\n",
      "Fear shall be no more\n",
      "The age of peace has come\n",
      "Destiny is ours\n",
      "\n"
     ]
    }
   ],
   "source": [
    "with open('Example2.txt','r')as testwritefile:\n",
    "    print(testwritefile.read())"
   ]
  },
  {
   "cell_type": "markdown",
   "id": "05def6ea-05bd-4589-bd70-efd6175059da",
   "metadata": {},
   "source": [
    "# Additional modes:\n",
    "* r+ read and write, no truncation\n",
    "* w+ writing and reading, truncates file\n",
    "* a+ append and read, creates a new file, if none exists"
   ]
  },
  {
   "cell_type": "code",
   "execution_count": 27,
   "id": "d23a275c-fbfc-4eb9-810b-0ee8727bad0d",
   "metadata": {},
   "outputs": [
    {
     "name": "stdout",
     "output_type": "stream",
     "text": [
      "\n"
     ]
    }
   ],
   "source": [
    "# Trying out a+ mode\n",
    "\n",
    "with open('Example2.txt','a+')as testwritefile:\n",
    "    testwritefile.write('The day of trials has come, my friends\\n')\n",
    "    print(testwritefile.read()) ## WHOA!! Oh --- nm this is a design to fail! Haha"
   ]
  },
  {
   "cell_type": "code",
   "execution_count": 33,
   "id": "23c4062c-210d-40bc-a876-5c9400de37e6",
   "metadata": {},
   "outputs": [
    {
     "name": "stdout",
     "output_type": "stream",
     "text": [
      "Initial Location: 156\n",
      "Read nothing\n",
      "\n",
      "New Location : 0\n",
      "The Overwriter has come\n",
      "A new age is rising...\n",
      "Fear shall be no more\n",
      "The age of peace has come\n",
      "Destiny is ours\n",
      "The day of trials has come, my friends\n",
      "\n",
      "Location after read: 156\n"
     ]
    }
   ],
   "source": [
    "# I think this uses 'a+' to return to a start point (0 in this case) and read to the end...\n",
    "\n",
    "with open('Example2.txt', 'a+') as testwritefile:\n",
    "    print(\"Initial Location: {}\".format(testwritefile.tell())) # Returns current position in bytes\n",
    "    data = testwritefile.read() # define testwritefile as 'data'\n",
    "    if (not data):  # if not equal to the read file 'testwritefile' AKA 'data' then:\n",
    "            print('Read nothing') \n",
    "    else: \n",
    "            print(testwritefile.read()) # if equal to data, seek from point zero...\n",
    "    testwritefile.seek(0,0) # move 0 bytes from beginning.  \n",
    "\n",
    "    print(\"\\nNew Location : {}\".format(testwritefile.tell())) #printing 'new location' and the corresponding value of the new location (again, 0 in this case) to mark the return to 0\n",
    "    data = testwritefile.read() #define testwritefile as 'data' since were are starting again?\n",
    "    if (not data): # same as before...\n",
    "            print('Read nothing') \n",
    "    else: \n",
    "            print(data)\n",
    "    \n",
    "    print(\"Location after read: {}\".format(testwritefile.tell()) ) # Print 'location after read' and the value."
   ]
  },
  {
   "cell_type": "code",
   "execution_count": 38,
   "id": "665f3abc-f137-4b88-bc43-11687ac79669",
   "metadata": {},
   "outputs": [
    {
     "name": "stdout",
     "output_type": "stream",
     "text": [
      "Line 1\n",
      "Line 2\n",
      "Line 3\n",
      "Line 4\n",
      "finished\n",
      "\n"
     ]
    }
   ],
   "source": [
    "# Using 'r+', we write the following lines to a file...\n",
    "\n",
    "with open('Example2.txt', 'r+') as testwritefile:\n",
    "    testwritefile.seek(0,0) #write starting from the beginning of the file\n",
    "    testwritefile.write(\"Line 1\" + \"\\n\")\n",
    "    testwritefile.write(\"Line 2\" + \"\\n\")\n",
    "    testwritefile.write(\"Line 3\" + \"\\n\")\n",
    "    testwritefile.write(\"Line 4\" + \"\\n\")\n",
    "    testwritefile.write(\"finished\\n\")\n",
    "    testwritefile.seek(0,0)\n",
    "    print(testwritefile.read())\n",
    "\n",
    "#And we get a bunch of what was left from the old file. This is like recording over an audiocassette tape and when you're done it starts into what was there before."
   ]
  },
  {
   "cell_type": "code",
   "execution_count": 37,
   "id": "357844e5-4320-4aee-9f10-582f430bc935",
   "metadata": {},
   "outputs": [
    {
     "name": "stdout",
     "output_type": "stream",
     "text": [
      "Line 1\n",
      "Line 2\n",
      "Line 3\n",
      "Line 4\n",
      "finished\n",
      "\n"
     ]
    }
   ],
   "source": [
    "# To truncate (stop after just what we add in this block), we add 'testwritefile.truncate()'\n",
    "\n",
    "with open('Example2.txt', 'r+') as testwritefile:\n",
    "    testwritefile.seek(0,0) #write at beginning of file\n",
    "    testwritefile.write(\"Line 1\" + \"\\n\")\n",
    "    testwritefile.write(\"Line 2\" + \"\\n\")\n",
    "    testwritefile.write(\"Line 3\" + \"\\n\")\n",
    "    testwritefile.write(\"Line 4\" + \"\\n\")\n",
    "    testwritefile.write(\"finished\\n\")\n",
    "    testwritefile.truncate()\n",
    "    testwritefile.seek(0,0)\n",
    "    print(testwritefile.read())"
   ]
  },
  {
   "cell_type": "code",
   "execution_count": 43,
   "id": "39bf45d5-5c47-482a-ae72-bfd04f2141d7",
   "metadata": {},
   "outputs": [],
   "source": [
    "# Copy and create new file -- super useful! Like cloning a list! [:]\n",
    "\n",
    "with open('Example2.txt','r') as readfile:\n",
    "    with open('Example3.txt','w') as writefile:\n",
    "          for line in readfile:\n",
    "                writefile.write(line)"
   ]
  },
  {
   "cell_type": "code",
   "execution_count": 42,
   "id": "c719cc81-4921-4c38-866a-5d3557e4114e",
   "metadata": {},
   "outputs": [
    {
     "name": "stdout",
     "output_type": "stream",
     "text": [
      "Line 1\n",
      "Line 2\n",
      "Line 3\n",
      "Line 4\n",
      "finished\n",
      "\n"
     ]
    }
   ],
   "source": [
    "# Verify if the copy is successfully executed\n",
    "\n",
    "with open('Example3.txt','r') as testwritefile:\n",
    "    print(testwritefile.read())"
   ]
  },
  {
   "cell_type": "code",
   "execution_count": 46,
   "id": "f26fed0f-0a24-49d4-b4b2-51df5b00e634",
   "metadata": {},
   "outputs": [],
   "source": [
    "#Run this prior to starting the exercise\n",
    "from random import randint as rnd\n",
    "\n",
    "memReg = 'members.txt' #Defining members as memReg\n",
    "exReg = 'inactive.txt' #Defining inactive members as exReg\n",
    "fee =('yes','no') #Creating a tuple called 'fee' with two elements 'yes' and 'no'\n",
    "\n",
    "def genFiles(current,old): #Defining 'genFiles' with two arguments called 'current' and 'old'\n",
    "    with open(current,'w+') as writefile: #Creating a write file called 'writefile' with argument that takes the value of 'current' and specified mode as w+\n",
    "        writefile.write('Membership No  Date Joined  Active  \\n') #Writing in this line of text\n",
    "        data = \"{:^13}  {:<11}  {:<6}\\n\" #This is a way to format string literals (place holders for text).\n",
    "        #{:^13} placeholder for table value that means: \"center this value within a field of at least 13 characters wide.\"\n",
    "        #{:<11} \"left-align this value within a field at least 11 characters wide.\"\n",
    "        #{:<6} left-align, at least 6 characters wide\n",
    "\n",
    "        for rowno in range(20):\n",
    "            date = str(rnd(2015,2020))+ '-' + str(rnd(1,12))+'-'+str(rnd(1,25)) \n",
    "            writefile.write(data.format(rnd(10000,99999),date,fee[rnd(0,1)])) # These lines are generating random numbers from Python's 'randint' (which they've renamed to 'rnd')\n",
    "\n",
    "\n",
    "    with open(old,'w+') as writefile: \n",
    "        writefile.write('Membership No  Date Joined  Active  \\n')\n",
    "        data = \"{:^13}  {:<11}  {:<6}\\n\"\n",
    "        for rowno in range(3):\n",
    "            date = str(rnd(2015,2020))+ '-' + str(rnd(1,12))+'-'+str(rnd(1,25))\n",
    "            writefile.write(data.format(rnd(10000,99999),date,fee[1]))\n",
    "\n",
    "\n",
    "genFiles(memReg,exReg)"
   ]
  },
  {
   "cell_type": "code",
   "execution_count": 51,
   "id": "5ec152bc-a586-4a5d-8068-de97cf3c3dcb",
   "metadata": {},
   "outputs": [
    {
     "name": "stdout",
     "output_type": "stream",
     "text": [
      "Active Members: \n",
      "\n",
      "\n",
      "Membership No  Date Joined  Active  \n",
      "    62222      2016-6-8     no    \n",
      "    81257      2017-2-13    no    \n",
      "    73189      2015-1-20    no    \n",
      "    67996      2020-11-12   yes   \n",
      "    29996      2018-7-9     no    \n",
      "    70409      2015-4-13    yes   \n",
      "    14606      2016-7-10    yes   \n",
      "    13377      2019-3-16    no    \n",
      "    59725      2016-2-25    no    \n",
      "    77048      2019-10-4    yes   \n",
      "    33735      2016-3-3     yes   \n",
      "    27232      2016-8-7     yes   \n",
      "    32439      2017-5-18    no    \n",
      "    53005      2020-3-9     no    \n",
      "    68071      2015-12-10   yes   \n",
      "    68360      2015-10-23   no    \n",
      "    82230      2018-12-4    no    \n",
      "    57147      2020-9-6     no    \n",
      "    92386      2016-7-17    yes   \n",
      "    58007      2018-11-2    yes   \n",
      "\n",
      "Inactive Members: \n",
      "\n",
      "\n",
      "Membership No  Date Joined  Active  \n",
      "    57677      2016-2-12    no    \n",
      "    56959      2015-1-19    no    \n",
      "    78562      2015-1-19    no    \n",
      "\n"
     ]
    }
   ],
   "source": [
    "# To view it:\n",
    "\n",
    "memReg = 'members.txt'\n",
    "exReg = 'inactive.txt'\n",
    "cleanFiles=(memReg,exReg)\n",
    "\n",
    "\n",
    "headers = \"Membership No  Date Joined  Active  \\n\"\n",
    "with open(memReg,'r') as readFile:\n",
    "    print(\"Active Members: \\n\\n\")\n",
    "    print(readFile.read())\n",
    "    \n",
    "with open(exReg,'r') as readFile:\n",
    "    print(\"Inactive Members: \\n\\n\")\n",
    "    print(readFile.read())"
   ]
  },
  {
   "cell_type": "code",
   "execution_count": 52,
   "id": "86021f38-4179-47bf-a07e-e709ea0c9ce0",
   "metadata": {},
   "outputs": [
    {
     "name": "stdout",
     "output_type": "stream",
     "text": [
      "Error\n",
      "Inactive members in file\n",
      "Test Failed\n"
     ]
    }
   ],
   "source": [
    "def testMsg(passed):\n",
    "    if passed:\n",
    "       return 'Test Passed'\n",
    "    else :\n",
    "       return 'Test Failed'\n",
    "\n",
    "testWrite = \"testWrite.txt\"\n",
    "testAppend = \"testAppend.txt\" \n",
    "passed = True\n",
    "\n",
    "genFiles(testWrite,testAppend)\n",
    "\n",
    "with open(testWrite,'r') as file:\n",
    "    ogWrite = file.readlines()\n",
    "\n",
    "with open(testAppend,'r') as file:\n",
    "    ogAppend = file.readlines()\n",
    "\n",
    "try:\n",
    "    cleanFiles(testWrite,testAppend)\n",
    "except:\n",
    "    print('Error')\n",
    "\n",
    "with open(testWrite,'r') as file:\n",
    "    clWrite = file.readlines()\n",
    "\n",
    "with open(testAppend,'r') as file:\n",
    "    clAppend = file.readlines()\n",
    "        \n",
    "# checking if total no of rows is same, including headers\n",
    "\n",
    "if (len(ogWrite) + len(ogAppend) != len(clWrite) + len(clAppend)):\n",
    "    print(\"The number of rows do not add up. Make sure your final files have the same header and format.\")\n",
    "    passed = False\n",
    "    \n",
    "for line in clWrite:\n",
    "    if  'no' in line:\n",
    "        passed = False\n",
    "        print(\"Inactive members in file\")\n",
    "        break\n",
    "    else:\n",
    "        if line not in ogWrite:\n",
    "            print(\"Data in file does not match original file\")\n",
    "            passed = False\n",
    "print (\"{}\".format(testMsg(passed)))\n"
   ]
  },
  {
   "cell_type": "code",
   "execution_count": 54,
   "id": "2be4f104-f552-490d-ace8-82fe554f6cd2",
   "metadata": {},
   "outputs": [
    {
     "name": "stdout",
     "output_type": "stream",
     "text": [
      "Active Members: \n",
      "\n",
      "\n",
      "Membership No  Date Joined  Active  \n",
      "    67996      2020-11-12   yes   \n",
      "    70409      2015-4-13    yes   \n",
      "    14606      2016-7-10    yes   \n",
      "    77048      2019-10-4    yes   \n",
      "    33735      2016-3-3     yes   \n",
      "    27232      2016-8-7     yes   \n",
      "    68071      2015-12-10   yes   \n",
      "    92386      2016-7-17    yes   \n",
      "    58007      2018-11-2    yes   \n",
      "\n",
      "Inactive Members: \n",
      "\n",
      "\n",
      "Membership No  Date Joined  Active  \n",
      "    57677      2016-2-12    no    \n",
      "    56959      2015-1-19    no    \n",
      "    78562      2015-1-19    no    \n",
      "    62222      2016-6-8     no    \n",
      "    81257      2017-2-13    no    \n",
      "    73189      2015-1-20    no    \n",
      "    29996      2018-7-9     no    \n",
      "    13377      2019-3-16    no    \n",
      "    59725      2016-2-25    no    \n",
      "    32439      2017-5-18    no    \n",
      "    53005      2020-3-9     no    \n",
      "    68360      2015-10-23   no    \n",
      "    82230      2018-12-4    no    \n",
      "    57147      2020-9-6     no    \n",
      "\n"
     ]
    }
   ],
   "source": [
    "# Clean it out --- Great code basis for having a list for which you want to transfer out or sort those individuals that meet a certain criterion in one of the variables...\n",
    "\n",
    "\n",
    "def cleanFiles(currentMem,exMem):\n",
    "    with open(currentMem,'r+') as writeFile: \n",
    "        with open(exMem,'a+') as appendFile:\n",
    "            #get the data\n",
    "            writeFile.seek(0)\n",
    "            members = writeFile.readlines()\n",
    "            #remove header\n",
    "            header = members[0]\n",
    "            members.pop(0)\n",
    "\n",
    "            # Append to a list based on a certain characteristic in one of the variable values.\n",
    "            inactive = [member for member in members if ('no' in member)] # This is a really powerful shorthand way to say 'Go through the list of members in the list 'member' and if 'no', append to list 'inactive'\n",
    "                        ## I.e. \"member is the thing you are going to append to 'inactive' if a member in 'members' is 'no'\"\n",
    "            # Could also do this long-hand through the classic loop syntax as: \n",
    "            ## for member in members: \n",
    "            ## if 'no' in member:\n",
    "                    #### inactive.append(member)\n",
    "            '''\n",
    "            The above is the same as #Oh! This! haha\n",
    "\n",
    "            for member in members:\n",
    "            if 'no' in member:\n",
    "                inactive.append(member)\n",
    "            '''\n",
    "            #go to the beginning of the write file\n",
    "            writeFile.seek(0) \n",
    "            writeFile.write(header)\n",
    "            for member in members:\n",
    "                if (member in inactive):\n",
    "                    appendFile.write(member)\n",
    "                else:\n",
    "                    writeFile.write(member)      \n",
    "            writeFile.truncate()\n",
    "                \n",
    "memReg = 'members.txt'\n",
    "exReg = 'inactive.txt'\n",
    "cleanFiles(memReg,exReg)\n",
    "\n",
    "# code to help you see the files\n",
    "\n",
    "headers = \"Membership No  Date Joined  Active  \\n\"\n",
    "\n",
    "with open(memReg,'r') as readFile:\n",
    "    print(\"Active Members: \\n\\n\")\n",
    "    print(readFile.read())\n",
    "    \n",
    "with open(exReg,'r') as readFile:\n",
    "    print(\"Inactive Members: \\n\\n\")\n",
    "    print(readFile.read())"
   ]
  }
 ],
 "metadata": {
  "kernelspec": {
   "display_name": "Python 3 (ipykernel)",
   "language": "python",
   "name": "python3"
  },
  "language_info": {
   "codemirror_mode": {
    "name": "ipython",
    "version": 3
   },
   "file_extension": ".py",
   "mimetype": "text/x-python",
   "name": "python",
   "nbconvert_exporter": "python",
   "pygments_lexer": "ipython3",
   "version": "3.12.7"
  }
 },
 "nbformat": 4,
 "nbformat_minor": 5
}
