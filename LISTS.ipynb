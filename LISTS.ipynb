{
  "metadata": {
    "kernelspec": {
      "name": "python",
      "display_name": "Python (Pyodide)",
      "language": "python"
    },
    "language_info": {
      "codemirror_mode": {
        "name": "python",
        "version": 3
      },
      "file_extension": ".py",
      "mimetype": "text/x-python",
      "name": "python",
      "nbconvert_exporter": "python",
      "pygments_lexer": "ipython3",
      "version": "3.8"
    }
  },
  "nbformat_minor": 5,
  "nbformat": 4,
  "cells": [
    {
      "id": "8db6e6b9-07ba-44ad-9809-ecd876050a06",
      "cell_type": "code",
      "source": "#Create a list\n\nLIST = [\"Anatoly\",6.3,1993]\nLIST",
      "metadata": {
        "trusted": true
      },
      "outputs": [
        {
          "execution_count": 1,
          "output_type": "execute_result",
          "data": {
            "text/plain": "['Anatoly', 6.3, 1993]"
          },
          "metadata": {}
        }
      ],
      "execution_count": 1
    },
    {
      "id": "23f7ed8a-c4c6-4458-bb33-b9c25b0aa409",
      "cell_type": "code",
      "source": "#Negative indexing, e.g. displaying 1993 as 3 and -1\n## Listing goes 0,1,2 (positive) and -3,-2,-1 (negative)\n\nLIST[2]\nLIST[-1]",
      "metadata": {
        "trusted": true
      },
      "outputs": [
        {
          "execution_count": 12,
          "output_type": "execute_result",
          "data": {
            "text/plain": "1993"
          },
          "metadata": {}
        }
      ],
      "execution_count": 12
    },
    {
      "id": "6a61fa19-50f0-4669-9bb1-b4e2361ad72c",
      "cell_type": "code",
      "source": "#Nested lists and tuples\n\n[\"Anatoly\", 6.3, 1993, [\"A\",\"B\",\"C\"], (\"BEAR\",3)]",
      "metadata": {
        "trusted": true
      },
      "outputs": [
        {
          "execution_count": 13,
          "output_type": "execute_result",
          "data": {
            "text/plain": "['Anatoly', 6.3, 1993, ['A', 'B', 'C'], ('BEAR', 3)]"
          },
          "metadata": {}
        }
      ],
      "execution_count": 13
    },
    {
      "id": "de11f244-0043-4429-b191-4c89b2225d8f",
      "cell_type": "code",
      "source": "#Slicing a list\n\n#Make it...\nLIST2 = [\"NEON\",4.0,1999,\"Dr. Carlson\", 5, 2, 1,\"DOCKS\",\"HOTEL\"]\n#Slice it...\nLIST2[2:6]",
      "metadata": {
        "trusted": true
      },
      "outputs": [
        {
          "execution_count": 15,
          "output_type": "execute_result",
          "data": {
            "text/plain": "[1999, 'Dr. Carlson', 5, 2]"
          },
          "metadata": {}
        }
      ],
      "execution_count": 15
    },
    {
      "id": "715d19b1-1948-45da-bf67-4ed9f664fb50",
      "cell_type": "code",
      "source": "#Append the list (what is added is a non-iterable -- must be its own list or tuple)\n\nLIST2.append([\"OOZE\",\"Shelley\",37.8,1001])\nLIST2",
      "metadata": {
        "trusted": true,
        "jupyter": {
          "outputs_hidden": true
        },
        "collapsed": true
      },
      "outputs": [
        {
          "execution_count": 17,
          "output_type": "execute_result",
          "data": {
            "text/plain": "['NEON',\n 4.0,\n 1999,\n 'Dr. Carlson',\n 5,\n 2,\n 1,\n 'DOCKS',\n 'HOTEL',\n ['OOZE', 'Shelley', 37.8, 1001],\n ['OOZE', 'Shelley', 37.8, 1001]]"
          },
          "metadata": {}
        }
      ],
      "execution_count": 17
    },
    {
      "id": "7d869973-ce64-447c-b2db-0d4c4c874f10",
      "cell_type": "code",
      "source": "#Extend -- explodes the list\n\n## NB I added this list multiple times inadvertently by hitting ctrl. enter\n\nLIST2.extend((6,9,5,\"ALPHA MODE\"))",
      "metadata": {
        "trusted": true,
        "jupyter": {
          "outputs_hidden": true
        },
        "collapsed": true
      },
      "outputs": [
        {
          "execution_count": 23,
          "output_type": "execute_result",
          "data": {
            "text/plain": "['NEON',\n 4.0,\n 1999,\n 'Dr. Carlson',\n 5,\n 2,\n 1,\n 'DOCKS',\n 'HOTEL',\n ['OOZE', 'Shelley', 37.8, 1001],\n ['OOZE', 'Shelley', 37.8, 1001],\n 6,\n 9,\n 5,\n 'ALPHA MODE',\n 6,\n 9,\n 5,\n 'ALPHA MODE',\n 6,\n 9,\n 5,\n 'ALPHA MODE',\n 6,\n 9,\n 5,\n 'ALPHA MODE']"
          },
          "metadata": {}
        }
      ],
      "execution_count": 23
    },
    {
      "id": "d2f19932-3463-440c-a821-ac7300d6420b",
      "cell_type": "code",
      "source": "LIST2",
      "metadata": {
        "trusted": true
      },
      "outputs": [
        {
          "execution_count": 60,
          "output_type": "execute_result",
          "data": {
            "text/plain": "['NEON',\n 4.0,\n 1999,\n 'Dr. Carlson',\n 2,\n 1,\n 'DOCKS',\n 'HOTEL',\n ['OOZE', 'Shelley', 37.8, 1001],\n ['OOZE', 'Shelley', 37.8, 1001],\n 6,\n 9,\n 5,\n 6,\n 9,\n 5,\n 'ALPHA MODE',\n 'GALAXY',\n 'TROLL']"
          },
          "metadata": {}
        }
      ],
      "execution_count": 60
    },
    {
      "id": "6b82317e-ec3a-4480-8c13-8085f35120fd",
      "cell_type": "code",
      "source": "#FIXED by using LIST2.remove()\n\n##Here's the proof...\nLIST2",
      "metadata": {
        "trusted": true
      },
      "outputs": [],
      "execution_count": null
    },
    {
      "id": "9b12fdbd-309c-4345-98ff-e9bda50ddcf8",
      "cell_type": "code",
      "source": "#Here's another way to delete an element\n##Delete based on order in string\n###This is also SUBSTITUTION\n\n###First Make an list element called A\nA = [\"FAB\",22.9,7]\nprint(\"Before change\",A)\nA[0] = \"FAB IS OUT, I AM IN!\"\nprint(\"After change\", A)\n\n#Now delete an element based on order\nprint(\"Now FAB IS OUT, I AM IN is out too! HAHA!\")\ndel(A[0])\nprint(\"See:\",A)",
      "metadata": {
        "trusted": true
      },
      "outputs": [
        {
          "name": "stdout",
          "output_type": "stream",
          "text": "Before change ['FAB', 22.9, 7]\nAfter change ['FAB IS OUT, I AM IN!', 22.9, 7]\nNow FAB IS OUT, I AM IN is out too! HAHA!\nSee: [22.9, 7]\n"
        }
      ],
      "execution_count": 55
    },
    {
      "id": "ded8f2a3-81dc-41d4-a2e0-605b717143eb",
      "cell_type": "code",
      "source": "#Split a string (default splitter is blank space)\n\n\"GALAXY TROLL\".split()",
      "metadata": {
        "trusted": true
      },
      "outputs": [
        {
          "execution_count": 56,
          "output_type": "execute_result",
          "data": {
            "text/plain": "['GALAXY', 'TROLL']"
          },
          "metadata": {}
        }
      ],
      "execution_count": 56
    },
    {
      "id": "9bce237c-b51b-4602-bdf9-6908ec3cfaec",
      "cell_type": "code",
      "source": "#Break a phrase into individual words and add them to a list (this was my tinkering! haha)\n\nLIST2.extend((\"GALAXY TROLL\".split()))",
      "metadata": {
        "trusted": true
      },
      "outputs": [],
      "execution_count": 57
    },
    {
      "id": "afbbf845-9af0-4fe3-9f5b-fc864b404274",
      "cell_type": "code",
      "source": "#Proof it worked!\nLIST2",
      "metadata": {
        "trusted": true
      },
      "outputs": [
        {
          "execution_count": 58,
          "output_type": "execute_result",
          "data": {
            "text/plain": "['NEON',\n 4.0,\n 1999,\n 'Dr. Carlson',\n 2,\n 1,\n 'DOCKS',\n 'HOTEL',\n ['OOZE', 'Shelley', 37.8, 1001],\n ['OOZE', 'Shelley', 37.8, 1001],\n 6,\n 9,\n 5,\n 6,\n 9,\n 5,\n 'ALPHA MODE',\n 'GALAXY',\n 'TROLL']"
          },
          "metadata": {}
        }
      ],
      "execution_count": 58
    },
    {
      "id": "76d85b60-d7b5-4d51-81f3-95da46e16bd8",
      "cell_type": "code",
      "source": "#Split by comma\n\n\"37,16,12,41,19.2,8\".split(',')",
      "metadata": {
        "trusted": true
      },
      "outputs": [
        {
          "execution_count": 61,
          "output_type": "execute_result",
          "data": {
            "text/plain": "['37', '16', '12', '41', '19.2', '8']"
          },
          "metadata": {}
        }
      ],
      "execution_count": 61
    },
    {
      "id": "c11b4091-1609-4363-89e7-1d297ac59f61",
      "cell_type": "code",
      "source": "#Removed and extra element\nLIST2.remove([\"OOZE\",\"Shelley\",37.8,1001])",
      "metadata": {
        "trusted": true
      },
      "outputs": [],
      "execution_count": 63
    },
    {
      "id": "04824016-0dee-4daf-b4dd-7149466a17f2",
      "cell_type": "code",
      "source": "LIST2",
      "metadata": {
        "trusted": true
      },
      "outputs": [
        {
          "execution_count": 64,
          "output_type": "execute_result",
          "data": {
            "text/plain": "['NEON',\n 4.0,\n 1999,\n 'Dr. Carlson',\n 2,\n 1,\n 'DOCKS',\n 'HOTEL',\n ['OOZE', 'Shelley', 37.8, 1001],\n 6,\n 9,\n 5,\n 6,\n 9,\n 5,\n 'ALPHA MODE',\n 'GALAXY',\n 'TROLL']"
          },
          "metadata": {}
        }
      ],
      "execution_count": 64
    },
    {
      "id": "dc16646c-592e-41d9-b6cd-7ca03b3e6f7b",
      "cell_type": "code",
      "source": "#Copy by reference\n\nA = [\"EDGE PATROL\", 42.3,8]\nB = A\nprint(\"A\",A)\nprint(\"B\",B)",
      "metadata": {
        "trusted": true
      },
      "outputs": [
        {
          "name": "stdout",
          "output_type": "stream",
          "text": "A ['EDGE PATROL', 42.3, 8]\nB ['EDGE PATROL', 42.3, 8]\n"
        }
      ],
      "execution_count": 66
    },
    {
      "id": "e95d0017-e712-4298-8fe3-2125f9d9a88b",
      "cell_type": "markdown",
      "source": "# They're the same now!",
      "metadata": {}
    },
    {
      "id": "abd45e95-c0d2-4e25-a982-b3762e11e4d9",
      "cell_type": "markdown",
      "source": "\"So if you want to find and replace, identify the thing, put it equal to the new thing\"",
      "metadata": {}
    },
    {
      "id": "284f9671-b4d6-42be-87c6-db68843da22f",
      "cell_type": "code",
      "source": "#Now, if you modify A, you modify B!\n\nprint(\"First item in B list:\", B[0])\nprint(\"Here's the full A and B:\",A,B)\nprint(\"Sub EDGE as first word in A\")\nA[0] = \"EDGE\"\nprint(\"Now print the B list, and...\",B)\nprint(\"MAGIC@@!!\")",
      "metadata": {
        "trusted": true
      },
      "outputs": [
        {
          "name": "stdout",
          "output_type": "stream",
          "text": "First item in B list: scuba\nHere's the full A and B: ['scuba', 42.3, 8] ['scuba', 42.3, 8]\nSub EDGE as first word in A\nNow print the B list, and... ['EDGE', 42.3, 8]\nMAGIC@@!!\n"
        }
      ],
      "execution_count": 77
    },
    {
      "id": "57182a68-8f0f-49cc-99a9-556165f3ddac",
      "cell_type": "code",
      "source": "#Sample I'm cooking up by tinkering\n\nMISSING = [999,17,32,44,8,25,61,37,41,999,999]\nMISSING",
      "metadata": {
        "trusted": true
      },
      "outputs": [
        {
          "execution_count": 69,
          "output_type": "execute_result",
          "data": {
            "text/plain": "[999, 17, 32, 44, 8, 25, 61, 37, 41, 999, 999]"
          },
          "metadata": {}
        }
      ],
      "execution_count": 69
    },
    {
      "id": "9dd3b81d-17d5-4ef6-ade4-d2b7583fddd5",
      "cell_type": "code",
      "source": "#Tinkering was silly ... there are other operators that do the job:\n## Find and replace code:\n\nMISSING = [\"\" if item == 999 else item for item in MISSING]\nprint(MISSING)",
      "metadata": {
        "trusted": true
      },
      "outputs": [
        {
          "name": "stdout",
          "output_type": "stream",
          "text": "['', 17, 32, 44, 8, 25, 61, 37, 41, '', '']\n"
        }
      ],
      "execution_count": 71
    },
    {
      "id": "b71fea08-dce8-4d10-94fd-1f91bdfea470",
      "cell_type": "code",
      "source": "#Here's a cleaner output that deletes the unwanted value:\n## Find and replace that's really find and delete\n\nmy_list = [1, 999, 2, 999, 8, 999, 9]\nvalue_to_delete = 999\n\n# This creates a new list that *only includes* items that are NOT 999\nmy_list = [item for item in my_list if item != value_to_delete]\n\n#NB != means \"not equal to\"\n\nprint(my_list)\n# Output: [1, 2, 8, 9]",
      "metadata": {
        "trusted": true
      },
      "outputs": [
        {
          "name": "stdout",
          "output_type": "stream",
          "text": "[1, 2, 8, 9]\n"
        }
      ],
      "execution_count": 72
    },
    {
      "id": "d3c3b035-923a-4c60-b439-5a354affbb61",
      "cell_type": "code",
      "source": "#Clone new (a clone delinks the mutually referential nature of two equal thing)\n\nC = A[:]\nC",
      "metadata": {
        "trusted": true
      },
      "outputs": [
        {
          "execution_count": 78,
          "output_type": "execute_result",
          "data": {
            "text/plain": "['EDGE', 42.3, 8]"
          },
          "metadata": {}
        }
      ],
      "execution_count": 78
    },
    {
      "id": "b3ec287f-4484-43c4-a5f1-22a8dd49aeab",
      "cell_type": "code",
      "source": "#Now, you can change the clone without changing the parents\n\nprint(\"If we change C, A and B will not change\")\nC[0] = \"RAZOR DOWN\"\nprint(\"ABC in order:\",A,B,C)",
      "metadata": {
        "trusted": true
      },
      "outputs": [
        {
          "name": "stdout",
          "output_type": "stream",
          "text": "If we change C, A and B will not change\nABC in order: ['EDGE', 42.3, 8] ['EDGE', 42.3, 8] ['RAZOR DOWN', 42.3, 8]\n"
        }
      ],
      "execution_count": 79
    },
    {
      "id": "6a46e30e-7ecc-4bde-964b-e9cd51f497c9",
      "cell_type": "markdown",
      "source": "# Homework follows:",
      "metadata": {}
    },
    {
      "id": "5a9e1f31-b668-40f9-b7c7-5c7ad7098ae1",
      "cell_type": "code",
      "source": "HWLIST = [1,\"hello\",[1,2,3],\"True\"]\nHWLIST",
      "metadata": {
        "trusted": true
      },
      "outputs": [
        {
          "execution_count": 80,
          "output_type": "execute_result",
          "data": {
            "text/plain": "[1, 'hello', [1, 2, 3], 'True']"
          },
          "metadata": {}
        }
      ],
      "execution_count": 80
    },
    {
      "id": "f39c2a81-4c81-400f-a34c-1326644ac44e",
      "cell_type": "code",
      "source": "HWLIST[3]",
      "metadata": {
        "trusted": true
      },
      "outputs": [
        {
          "execution_count": 81,
          "output_type": "execute_result",
          "data": {
            "text/plain": "'True'"
          },
          "metadata": {}
        }
      ],
      "execution_count": 81
    },
    {
      "id": "2dc7d024-d854-4e4c-8bde-13148274c3a6",
      "cell_type": "code",
      "source": "HWLIST[0]",
      "metadata": {
        "trusted": true
      },
      "outputs": [
        {
          "execution_count": 82,
          "output_type": "execute_result",
          "data": {
            "text/plain": "1"
          },
          "metadata": {}
        }
      ],
      "execution_count": 82
    },
    {
      "id": "a4636eb2-c4c7-48dc-b2f8-b6e4c4de26cc",
      "cell_type": "code",
      "source": "HWLIST[3]",
      "metadata": {
        "trusted": true
      },
      "outputs": [
        {
          "execution_count": 84,
          "output_type": "execute_result",
          "data": {
            "text/plain": "'True'"
          },
          "metadata": {}
        }
      ],
      "execution_count": 84
    },
    {
      "id": "93e7ed73-ff12-417b-96a7-5fc86a171114",
      "cell_type": "code",
      "source": "HWLIST[2]",
      "metadata": {
        "trusted": true
      },
      "outputs": [
        {
          "execution_count": 85,
          "output_type": "execute_result",
          "data": {
            "text/plain": "[1, 2, 3]"
          },
          "metadata": {}
        }
      ],
      "execution_count": 85
    },
    {
      "id": "20545c49-b216-4c19-bf29-82b874d9404c",
      "cell_type": "code",
      "source": "SUB = HWLIST[2]\nSUB",
      "metadata": {
        "trusted": true
      },
      "outputs": [
        {
          "execution_count": 89,
          "output_type": "execute_result",
          "data": {
            "text/plain": "[1, 2, 3]"
          },
          "metadata": {}
        }
      ],
      "execution_count": 89
    },
    {
      "id": "0ec5a723-7242-467d-9d32-4573723f30c2",
      "cell_type": "code",
      "source": "HWLIST[1]",
      "metadata": {
        "trusted": true
      },
      "outputs": [
        {
          "execution_count": 90,
          "output_type": "execute_result",
          "data": {
            "text/plain": "'hello'"
          },
          "metadata": {}
        }
      ],
      "execution_count": 90
    },
    {
      "id": "fe22323c-e61f-400c-a1a9-de10e7c112bb",
      "cell_type": "code",
      "source": "A = [1,\"a\"]\nB = [2,1,\"d\"]\nConc = A+B\nConc",
      "metadata": {
        "trusted": true
      },
      "outputs": [
        {
          "execution_count": 91,
          "output_type": "execute_result",
          "data": {
            "text/plain": "[1, 'a', 2, 1, 'd']"
          },
          "metadata": {}
        }
      ],
      "execution_count": 91
    },
    {
      "id": "9d0a786f-d2f6-4039-9ebd-69675a3fe610",
      "cell_type": "code",
      "source": "SHOPPING = []",
      "metadata": {
        "trusted": true
      },
      "outputs": [],
      "execution_count": 92
    },
    {
      "id": "01497332-5bd2-40c3-a8fe-5f861e1a3d42",
      "cell_type": "code",
      "source": "SHOPPING.extend((\"Watch\",\"Laptop\",\"Shoes\",\"Pen\",\"Clothes\"))",
      "metadata": {
        "trusted": true
      },
      "outputs": [],
      "execution_count": 93
    },
    {
      "id": "f873cecb-e414-4937-89db-918bde6992e8",
      "cell_type": "code",
      "source": "SHOPPING",
      "metadata": {
        "trusted": true
      },
      "outputs": [
        {
          "execution_count": 94,
          "output_type": "execute_result",
          "data": {
            "text/plain": "['Watch', 'Laptop', 'Shoes', 'Pen', 'Clothes']"
          },
          "metadata": {}
        }
      ],
      "execution_count": 94
    },
    {
      "id": "bb3205bc-99b3-475f-bcbd-be2ae6cbdc1d",
      "cell_type": "code",
      "source": "SHOPPING.append(\"Football\")",
      "metadata": {
        "trusted": true
      },
      "outputs": [],
      "execution_count": 99
    },
    {
      "id": "ce0c1267-c646-4171-b1fc-48c0a76a8511",
      "cell_type": "code",
      "source": "SHOPPING",
      "metadata": {
        "trusted": true
      },
      "outputs": [
        {
          "execution_count": 104,
          "output_type": "execute_result",
          "data": {
            "text/plain": "['Watch', 'Laptop', 'Shoes', 'Pen', 'Clothes', 'Football']"
          },
          "metadata": {}
        }
      ],
      "execution_count": 104
    },
    {
      "id": "e1072d77-d81c-4b21-9f7a-1a65abbef678",
      "cell_type": "code",
      "source": "SHOPPING.append(\"Gloves\")",
      "metadata": {
        "trusted": true
      },
      "outputs": [],
      "execution_count": 105
    },
    {
      "id": "c1a63414-aace-4883-ab6d-399dcd9847e7",
      "cell_type": "code",
      "source": "SHOPPING",
      "metadata": {
        "trusted": true
      },
      "outputs": [
        {
          "execution_count": 106,
          "output_type": "execute_result",
          "data": {
            "text/plain": "['Watch', 'Laptop', 'Shoes', 'Pen', 'Clothes', 'Football', 'Gloves']"
          },
          "metadata": {}
        }
      ],
      "execution_count": 106
    },
    {
      "id": "fdd026fe-9dd9-4f1c-9266-27c3bee00c78",
      "cell_type": "code",
      "source": "SHOPPING.append(\"Bread\")",
      "metadata": {
        "trusted": true
      },
      "outputs": [],
      "execution_count": 107
    },
    {
      "id": "c1e04003-bb6e-4e83-8b02-fcff36129715",
      "cell_type": "code",
      "source": "SHOPPING.append(\"Pasta\")",
      "metadata": {
        "trusted": true
      },
      "outputs": [],
      "execution_count": 108
    },
    {
      "id": "8482213f-3df7-41a1-a909-a688b216b824",
      "cell_type": "code",
      "source": "SHOPPING.append(\"Squash\")",
      "metadata": {
        "trusted": true
      },
      "outputs": [],
      "execution_count": 109
    },
    {
      "id": "4e45ed2b-f7d0-44e6-9a70-9aba41c2e193",
      "cell_type": "code",
      "source": "SHOPPING.append(\"Taco seasoning\")",
      "metadata": {
        "trusted": true
      },
      "outputs": [],
      "execution_count": 110
    },
    {
      "id": "857c7358-96cf-49b6-b896-15107d5d91b0",
      "cell_type": "code",
      "source": "SHOPPING.append(\"Salt\")",
      "metadata": {
        "trusted": true
      },
      "outputs": [],
      "execution_count": 111
    },
    {
      "id": "f81561fd-5df8-4f29-bf0f-ff93dc89d812",
      "cell_type": "code",
      "source": "SHOPPING",
      "metadata": {
        "trusted": true
      },
      "outputs": [
        {
          "execution_count": 112,
          "output_type": "execute_result",
          "data": {
            "text/plain": "['Watch',\n 'Laptop',\n 'Shoes',\n 'Pen',\n 'Clothes',\n 'Football',\n 'Gloves',\n 'Bread',\n 'Pasta',\n 'Squash',\n 'Taco seasoning',\n 'Salt']"
          },
          "metadata": {}
        }
      ],
      "execution_count": 112
    },
    {
      "id": "46a872b2-561b-4c4b-b31b-eddce032849e",
      "cell_type": "code",
      "source": "print(SHOPPING[3])",
      "metadata": {
        "trusted": true
      },
      "outputs": [
        {
          "name": "stdout",
          "output_type": "stream",
          "text": "Pen\n"
        }
      ],
      "execution_count": 113
    },
    {
      "id": "c0c8fc68-3862-4df9-bd96-8c803b2cca8d",
      "cell_type": "code",
      "source": "print(SHOPPING[-1])",
      "metadata": {
        "trusted": true
      },
      "outputs": [
        {
          "name": "stdout",
          "output_type": "stream",
          "text": "Salt\n"
        }
      ],
      "execution_count": 114
    },
    {
      "id": "b8e2aefb-6c7f-45e5-a9a6-1cdf98a4f2a6",
      "cell_type": "code",
      "source": "SHOPPING",
      "metadata": {
        "trusted": true
      },
      "outputs": [
        {
          "execution_count": 115,
          "output_type": "execute_result",
          "data": {
            "text/plain": "['Watch',\n 'Laptop',\n 'Shoes',\n 'Pen',\n 'Clothes',\n 'Football',\n 'Gloves',\n 'Bread',\n 'Pasta',\n 'Squash',\n 'Taco seasoning',\n 'Salt']"
          },
          "metadata": {}
        }
      ],
      "execution_count": 115
    },
    {
      "id": "c85b8ae3-48d7-4248-9810-8e8582648694",
      "cell_type": "code",
      "source": "print(SHOPPING[1])\nprint(SHOPPING[2])",
      "metadata": {
        "trusted": true
      },
      "outputs": [
        {
          "name": "stdout",
          "output_type": "stream",
          "text": "Laptop\nShoes\n"
        }
      ],
      "execution_count": 117
    },
    {
      "id": "03e50bad-64a9-4d7b-b072-25c6a56d27fb",
      "cell_type": "code",
      "source": "print(SHOPPING[1:3])",
      "metadata": {
        "trusted": true
      },
      "outputs": [
        {
          "name": "stdout",
          "output_type": "stream",
          "text": "['Laptop', 'Shoes']\n"
        }
      ],
      "execution_count": 118
    },
    {
      "id": "0f09a794-bc08-48ab-b070-5429f490c641",
      "cell_type": "code",
      "source": "print(SHOPPING[3:5])",
      "metadata": {
        "trusted": true
      },
      "outputs": [
        {
          "name": "stdout",
          "output_type": "stream",
          "text": "['Pen', 'Clothes']\n"
        }
      ],
      "execution_count": 120
    },
    {
      "id": "f53cec82-f68e-43ec-a918-191ba477ec33",
      "cell_type": "code",
      "source": "print(SHOPPING[3:9])",
      "metadata": {
        "trusted": true
      },
      "outputs": [
        {
          "name": "stdout",
          "output_type": "stream",
          "text": "['Pen', 'Clothes', 'Football', 'Gloves', 'Bread', 'Pasta']\n"
        }
      ],
      "execution_count": 121
    },
    {
      "id": "155fe426-6fa4-41b3-bbef-5966314db8d3",
      "cell_type": "code",
      "source": "print(SHOPPING[6:8])",
      "metadata": {
        "trusted": true
      },
      "outputs": [
        {
          "name": "stdout",
          "output_type": "stream",
          "text": "['Gloves', 'Bread']\n"
        }
      ],
      "execution_count": 122
    },
    {
      "id": "31c5082d-04eb-455f-afda-b0605e895ba9",
      "cell_type": "code",
      "source": "print(SHOPPING[3:7])",
      "metadata": {
        "trusted": true
      },
      "outputs": [
        {
          "name": "stdout",
          "output_type": "stream",
          "text": "['Pen', 'Clothes', 'Football', 'Gloves']\n"
        }
      ],
      "execution_count": 123
    },
    {
      "id": "00508855-69fd-40d1-acae-33359973bcf7",
      "cell_type": "code",
      "source": "print(SHOPPING[3:10])",
      "metadata": {
        "trusted": true
      },
      "outputs": [
        {
          "name": "stdout",
          "output_type": "stream",
          "text": "['Pen', 'Clothes', 'Football', 'Gloves', 'Bread', 'Pasta', 'Squash']\n"
        }
      ],
      "execution_count": 124
    },
    {
      "id": "e9bd5480-b889-4a6f-978e-705e5f48abd3",
      "cell_type": "code",
      "source": "print(SHOPPING[1:11])",
      "metadata": {
        "trusted": true
      },
      "outputs": [
        {
          "name": "stdout",
          "output_type": "stream",
          "text": "['Laptop', 'Shoes', 'Pen', 'Clothes', 'Football', 'Gloves', 'Bread', 'Pasta', 'Squash', 'Taco seasoning']\n"
        }
      ],
      "execution_count": 125
    },
    {
      "id": "e919be95-c5c6-4720-ac66-3729d84bb14e",
      "cell_type": "code",
      "source": "SHOPPING[3] = \"Notebook\"\nSHOPPING",
      "metadata": {
        "trusted": true
      },
      "outputs": [
        {
          "execution_count": 126,
          "output_type": "execute_result",
          "data": {
            "text/plain": "['Watch',\n 'Laptop',\n 'Shoes',\n 'Notebook',\n 'Clothes',\n 'Football',\n 'Gloves',\n 'Bread',\n 'Pasta',\n 'Squash',\n 'Taco seasoning',\n 'Salt']"
          },
          "metadata": {}
        }
      ],
      "execution_count": 126
    },
    {
      "id": "c32606bd-c841-4c78-94dd-5950402d8492",
      "cell_type": "code",
      "source": "SHOPPING.remove(\"Clothes\"",
      "metadata": {
        "trusted": true
      },
      "outputs": [],
      "execution_count": null
    }
  ]
}