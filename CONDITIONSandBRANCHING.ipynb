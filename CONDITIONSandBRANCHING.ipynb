{
  "metadata": {
    "kernelspec": {
      "name": "python",
      "display_name": "Python (Pyodide)",
      "language": "python"
    },
    "language_info": {
      "codemirror_mode": {
        "name": "python",
        "version": 3
      },
      "file_extension": ".py",
      "mimetype": "text/x-python",
      "name": "python",
      "nbconvert_exporter": "python",
      "pygments_lexer": "ipython3",
      "version": "3.8"
    }
  },
  "nbformat_minor": 5,
  "nbformat": 4,
  "cells": [
    {
      "id": "9fcf77c8-ed93-4e7c-86fd-e91d5f11c562",
      "cell_type": "markdown",
      "source": "equal ==\n\nnot equal !=\n\ngreater than >\n\nless than <\n\ngreater than or equal to >=\n\nless than or equal to <=",
      "metadata": {}
    },
    {
      "id": "94d6a72b-6ad9-4dd0-895b-d33df6a49f88",
      "cell_type": "code",
      "source": "print(\"testing \\n a line break\")",
      "metadata": {
        "trusted": true
      },
      "outputs": [
        {
          "name": "stdout",
          "output_type": "stream",
          "text": "testing \n a line break\n"
        }
      ],
      "execution_count": 6
    },
    {
      "id": "f6d7cec5-3ead-4518-b32e-fc4504975a51",
      "cell_type": "code",
      "source": "# == as \"does X equal this?\"\n\nAge=37\nAge==38",
      "metadata": {
        "trusted": true
      },
      "outputs": [
        {
          "execution_count": 7,
          "output_type": "execute_result",
          "data": {
            "text/plain": "False"
          },
          "metadata": {}
        }
      ],
      "execution_count": 7
    },
    {
      "id": "f2fa32e8-ced1-4dcb-8811-4b902b7603fe",
      "cell_type": "code",
      "source": "Age>39",
      "metadata": {
        "trusted": true
      },
      "outputs": [
        {
          "execution_count": 8,
          "output_type": "execute_result",
          "data": {
            "text/plain": "False"
          },
          "metadata": {}
        }
      ],
      "execution_count": 8
    },
    {
      "id": "c5b67326-0725-42fd-9ac5-6afb03b66b18",
      "cell_type": "code",
      "source": "Age<39",
      "metadata": {
        "trusted": true
      },
      "outputs": [
        {
          "execution_count": 9,
          "output_type": "execute_result",
          "data": {
            "text/plain": "True"
          },
          "metadata": {}
        }
      ],
      "execution_count": 9
    },
    {
      "id": "35679930-f189-4b1b-80ac-1820e146fee5",
      "cell_type": "code",
      "source": "Age!=42",
      "metadata": {
        "trusted": true
      },
      "outputs": [
        {
          "execution_count": 10,
          "output_type": "execute_result",
          "data": {
            "text/plain": "True"
          },
          "metadata": {}
        }
      ],
      "execution_count": 10
    },
    {
      "id": "13e361d2-576d-4425-bef4-a453d12fdee8",
      "cell_type": "code",
      "source": "Age!=37",
      "metadata": {
        "trusted": true
      },
      "outputs": [
        {
          "execution_count": 11,
          "output_type": "execute_result",
          "data": {
            "text/plain": "False"
          },
          "metadata": {}
        }
      ],
      "execution_count": 11
    },
    {
      "id": "0980baa6-bdc3-4f33-a784-2fe405880bb7",
      "cell_type": "code",
      "source": "#Works for strings too\n\nFavMov=\"Dances With Wolves\"\n\"Independence Day\"==FavMov",
      "metadata": {
        "trusted": true
      },
      "outputs": [
        {
          "execution_count": 15,
          "output_type": "execute_result",
          "data": {
            "text/plain": "False"
          },
          "metadata": {}
        }
      ],
      "execution_count": 15
    },
    {
      "id": "232cf44c-e8a5-473b-ab69-945bd71a7554",
      "cell_type": "code",
      "source": "\"Indpendence Day\"!=FavMov",
      "metadata": {
        "trusted": true
      },
      "outputs": [
        {
          "execution_count": 17,
          "output_type": "execute_result",
          "data": {
            "text/plain": "True"
          },
          "metadata": {}
        }
      ],
      "execution_count": 17
    },
    {
      "id": "a5bbf3f4-2add-4f0e-8474-43e84006b1d7",
      "cell_type": "code",
      "source": "#You can do 'math with letters' using the ASCII codes e.g.:\n\n\"A\" > \"B\"",
      "metadata": {
        "trusted": true
      },
      "outputs": [
        {
          "execution_count": 24,
          "output_type": "execute_result",
          "data": {
            "text/plain": "False"
          },
          "metadata": {}
        }
      ],
      "execution_count": 24
    },
    {
      "id": "5a8b29bb-91ec-4668-870f-f76eac281009",
      "cell_type": "code",
      "source": "print(\"because the ASCII value of A is 65 and B is 66\")",
      "metadata": {
        "trusted": true
      },
      "outputs": [
        {
          "name": "stdout",
          "output_type": "stream",
          "text": "because the ASCII value of A is 65 and B is 66\n"
        }
      ],
      "execution_count": 25
    },
    {
      "id": "906f9443-3868-4804-bfbd-819cb77f62e4",
      "cell_type": "code",
      "source": "# If ... then ...! Yay! (I think...)\n\nif Age>40:\n    print(\"You are old\")\nelse:\n    print(\"You are not yet old...\")",
      "metadata": {
        "trusted": true
      },
      "outputs": [
        {
          "name": "stdout",
          "output_type": "stream",
          "text": "You are not yet old...\n"
        }
      ],
      "execution_count": 32
    },
    {
      "id": "6e2acbbc-4eca-4b78-8a3a-46c4c22c3693",
      "cell_type": "code",
      "source": "if Age!=40:\n    print(\"You may not have an over the hill birthday party this year\")\nelse:\n    print(\"You may have an over the hill birthday party\")",
      "metadata": {
        "trusted": true
      },
      "outputs": [
        {
          "name": "stdout",
          "output_type": "stream",
          "text": "You may not have an over the hill birthday party this year\n"
        }
      ],
      "execution_count": 37
    },
    {
      "id": "fd965ca6-cad7-4c28-9c76-02956bd5c272",
      "cell_type": "code",
      "source": "Age=37",
      "metadata": {
        "trusted": true
      },
      "outputs": [],
      "execution_count": 36
    },
    {
      "id": "c4f69576-3d8c-445f-a05f-6513fbd99b13",
      "cell_type": "code",
      "source": "#Multiple conditions, ranges\n\nif(Age < 35)or(Age > 65):\n    print(\"Not middle aged\")\nelse:\n    print(\"You are middle aged\")",
      "metadata": {
        "trusted": true
      },
      "outputs": [
        {
          "name": "stdout",
          "output_type": "stream",
          "text": "You are middle aged\n"
        }
      ],
      "execution_count": 49
    },
    {
      "id": "75ac0867-19bb-444c-a052-ce4b8c57bfad",
      "cell_type": "code",
      "source": "Age=66",
      "metadata": {
        "trusted": true
      },
      "outputs": [],
      "execution_count": 63
    },
    {
      "id": "fa6780a2-698a-4371-b4a3-d9e6cb623299",
      "cell_type": "code",
      "source": "#Using not\n\nage = 20\nis_adult = (age >= 18)\nprint(f\"Is age >= 18? {is_adult}\") # Output: Is age >= 18? True\n\nis_not_adult = not (age >= 18) # or simply 'not is_adult'\nprint(f\"Is age not >= 18? {is_not_adult}\") # Output: Is age not >= 18? False\n\ntemperature = 25\nif not (temperature > 30): # This condition is True because 25 is not > 30\n    print(\"It's not too hot.\")",
      "metadata": {
        "trusted": true
      },
      "outputs": [
        {
          "name": "stdout",
          "output_type": "stream",
          "text": "Is age >= 18? True\nIs age not >= 18? False\nIt's not too hot.\n"
        }
      ],
      "execution_count": 52
    },
    {
      "id": "518e3084-3148-422d-9a0a-214acf16044e",
      "cell_type": "code",
      "source": "Age=22\nMiddleAged=(Age<=65 and Age>=35)\nprint(f\"Is {Age} middle aged? {MiddleAged}\")\nNotMiddleAged=not MiddleAged\nprint(f\"Is {Age} not middle aged? {NotMiddleAged}\")\nif NotMiddleAged:\n    print(\"Not middle aged\")\nelse:\n    print(\"Middle aged\")",
      "metadata": {
        "trusted": true
      },
      "outputs": [
        {
          "name": "stdout",
          "output_type": "stream",
          "text": "Is 22 middle aged? False\nIs 22 not middle aged? True\nNot middle aged\n"
        }
      ],
      "execution_count": 77
    },
    {
      "id": "2e3a7c78-a53c-49f5-9ec5-0c9d45fa297c",
      "cell_type": "code",
      "source": "#If not than if...\n\nage = 45\n\nif age < 13:\n    print(\"Child\")\nelif age < 20: # This is checked only if age >= 13\n    print(\"Teenager\")\nelif age < 65: # This is checked only if age >= 20\n    print(\"Adult\")\nelse:          # This is checked only if age >= 65\n    print(\"Senior\")",
      "metadata": {
        "trusted": true
      },
      "outputs": [
        {
          "name": "stdout",
          "output_type": "stream",
          "text": "Adult\n"
        }
      ],
      "execution_count": 78
    },
    {
      "id": "c2b6b2a4-66e4-495f-a0b7-be3c36eaf467",
      "cell_type": "code",
      "source": "#Was an album made in the 1990s?\n\nAlbumYr=1999\n\nif (AlbumYr > 1989) and (AlbumYr < 2000):\n    print(\"Made in the 1990s!\")\nelse:\n    print(\"Not made in the 1990s\")",
      "metadata": {
        "trusted": true
      },
      "outputs": [
        {
          "name": "stdout",
          "output_type": "stream",
          "text": "Made in the 1990s!\n"
        }
      ],
      "execution_count": 92
    },
    {
      "id": "ea648ee4-5f75-4608-9fe7-25b69e2c2cbc",
      "cell_type": "code",
      "source": "#Was an album made in the 1990s elif\n\nAlbumYr=1989\n\nif AlbumYr < 1925:\n    print(\"Classical\")\nelif AlbumYr < 1950:\n    print(\"Swing era\")\nelif AlbumYr < 1970:\n    print(\"Modern era\")\nelif AlbumYr < 1980:\n    print(\"Rock era\")\nelif AlbumYr < 1984:\n    print(\"MTV era\")\nelif AlbumYr < 1985:\n    print(\"Big Brother era\")\nelif AlbumYr < 1990:\n    print(\"MTV era\")\nelif AlbumYr < 1999:\n    print(\"1990s\")\nelif AlbumYr < 2020:\n    print(\"Liminal\")\nelse:\n    print(\"Modern\")",
      "metadata": {
        "trusted": true
      },
      "outputs": [
        {
          "name": "stdout",
          "output_type": "stream",
          "text": "MTV era\n"
        }
      ],
      "execution_count": 133
    },
    {
      "id": "ddf0d9ab-2e9f-466d-b0b1-48ea3310e83c",
      "cell_type": "code",
      "source": "player = \"Bill Tramvolli\"\nsport = \"summer luge\"\nachievements = 64\n\nif achievements > 15:\n    print(f\"{player}, in {sport}, has {achievements} penultimate finishes.\")\nelse:\n    print(f\"{player} in {sport} does *not* have more than 15 penultimate finishes.\")",
      "metadata": {
        "trusted": true
      },
      "outputs": [
        {
          "name": "stdout",
          "output_type": "stream",
          "text": "Bill Tramvolli, in summer luge, has 64 penultimate finishes.\n"
        }
      ],
      "execution_count": 146
    },
    {
      "id": "4749c2fe-429b-4036-8f8e-5e510d85c61b",
      "cell_type": "code",
      "source": "player = \"Bill Tramvolli\"\nsport = \"drain bowling\"\nachievements = 20\n\nif sport == \"summer luge\" or achievements == 20:\n    print(f\"{player}, belongs to summer luge *or* has exactly 20 penultimate finishes.\")\nelse:\n    print(f\"{player} does not belong to summer luge or does not have exactly 20 penultimate finishes.\")",
      "metadata": {
        "trusted": true
      },
      "outputs": [
        {
          "name": "stdout",
          "output_type": "stream",
          "text": "Bill Tramvolli, belongs to summer luge *or* has exactly 20 penultimate finishes.\n"
        }
      ],
      "execution_count": 149
    },
    {
      "id": "66ee7ba8-534c-457f-8560-3b9e08c3b746",
      "cell_type": "code",
      "source": "player = \"Bill Tramvolli\"\nsport = \"drain bowling\"\nachievements = 3\n\nif sport != \"soccer\" and achievements < 10:\n    print(f\"{player}, does not play soccer AND has fewer than 10 penultimate finishes.\")\nelse:\n    print(f\"{player} plays soccer OR has 10 or more penultimate finishes.\")",
      "metadata": {
        "trusted": true
      },
      "outputs": [
        {
          "name": "stdout",
          "output_type": "stream",
          "text": "Bill Tramvolli, does not play soccer AND has fewer than 10 penultimate finishes.\n"
        }
      ],
      "execution_count": 154
    }
  ]
}