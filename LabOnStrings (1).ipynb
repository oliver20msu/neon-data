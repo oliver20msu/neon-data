{
  "metadata": {
    "kernelspec": {
      "name": "python",
      "display_name": "Python (Pyodide)",
      "language": "python"
    },
    "language_info": {
      "codemirror_mode": {
        "name": "python",
        "version": 3
      },
      "file_extension": ".py",
      "mimetype": "text/x-python",
      "name": "python",
      "nbconvert_exporter": "python",
      "pygments_lexer": "ipython3",
      "version": "3.8"
    }
  },
  "nbformat_minor": 5,
  "nbformat": 4,
  "cells": [
    {
      "id": "b1690f41-bdf7-4a05-9c18-170fc8d42a90",
      "cell_type": "code",
      "source": "#Name a string 'name' :D\nname = \"Age of Ultron\"",
      "metadata": {
        "trusted": true
      },
      "outputs": [],
      "execution_count": 35
    },
    {
      "id": "0bfa5c1d-dd95-4ba9-934c-7d4491e7f8be",
      "cell_type": "code",
      "source": "name",
      "metadata": {
        "trusted": true
      },
      "outputs": [
        {
          "execution_count": 4,
          "output_type": "execute_result",
          "data": {
            "text/plain": "'Age of Ultron'"
          },
          "metadata": {}
        }
      ],
      "execution_count": 4
    },
    {
      "id": "832e928b-d639-4e22-85f1-beeab9dd5151",
      "cell_type": "code",
      "source": "#Show the nth character in a string\nprint(name[4])",
      "metadata": {
        "trusted": true
      },
      "outputs": [
        {
          "name": "stdout",
          "output_type": "stream",
          "text": "o\n"
        }
      ],
      "execution_count": 34
    },
    {
      "id": "dc409f59-7a78-479e-8fcc-1a3d997fc820",
      "cell_type": "code",
      "source": "print(name[3])",
      "metadata": {
        "trusted": true
      },
      "outputs": [
        {
          "name": "stdout",
          "output_type": "stream",
          "text": " \n"
        }
      ],
      "execution_count": 6
    },
    {
      "id": "7b172253-f081-479e-a556-ea1cbd4c1f8f",
      "cell_type": "code",
      "source": "print(name[6])",
      "metadata": {
        "trusted": true
      },
      "outputs": [
        {
          "name": "stdout",
          "output_type": "stream",
          "text": " \n"
        }
      ],
      "execution_count": 7
    },
    {
      "id": "36e4d56d-39c3-470f-944a-8ceac4e38c19",
      "cell_type": "code",
      "source": "print(name[2])",
      "metadata": {
        "trusted": true
      },
      "outputs": [
        {
          "name": "stdout",
          "output_type": "stream",
          "text": "e\n"
        }
      ],
      "execution_count": 8
    },
    {
      "id": "cc161cfa-156e-4a82-9084-f56a7d76d282",
      "cell_type": "code",
      "source": "print(name[0])",
      "metadata": {
        "trusted": true
      },
      "outputs": [
        {
          "name": "stdout",
          "output_type": "stream",
          "text": "A\n"
        }
      ],
      "execution_count": 11
    },
    {
      "id": "7fdb13ae-6baf-4cd6-91dc-85be0679d690",
      "cell_type": "code",
      "source": "print(name[1])",
      "metadata": {
        "trusted": true
      },
      "outputs": [
        {
          "name": "stdout",
          "output_type": "stream",
          "text": "g\n"
        }
      ],
      "execution_count": 12
    },
    {
      "id": "1d6fe0b2-2acd-47de-804b-a62127a3df64",
      "cell_type": "code",
      "source": "print(name[5])",
      "metadata": {
        "trusted": true
      },
      "outputs": [
        {
          "name": "stdout",
          "output_type": "stream",
          "text": "f\n"
        }
      ],
      "execution_count": 13
    },
    {
      "id": "24eeaef0-4fc2-4176-abfd-b62e25a72ef1",
      "cell_type": "code",
      "source": "print(name[7])",
      "metadata": {
        "trusted": true
      },
      "outputs": [
        {
          "name": "stdout",
          "output_type": "stream",
          "text": "U\n"
        }
      ],
      "execution_count": 14
    },
    {
      "id": "1cc560f0-4442-4b1d-a80b-a693d7aa2779",
      "cell_type": "code",
      "source": "print(name[-1])",
      "metadata": {
        "trusted": true
      },
      "outputs": [
        {
          "name": "stdout",
          "output_type": "stream",
          "text": "n\n"
        }
      ],
      "execution_count": 15
    },
    {
      "id": "08481835-1f7c-4bb5-9c80-3ea5a1bdc221",
      "cell_type": "code",
      "source": "print(name[-3])",
      "metadata": {
        "trusted": true
      },
      "outputs": [
        {
          "name": "stdout",
          "output_type": "stream",
          "text": "r\n"
        }
      ],
      "execution_count": 16
    },
    {
      "id": "7aaaeb5a-a9c2-4193-a4ed-d159c4b656ff",
      "cell_type": "code",
      "source": "print(name[-4])",
      "metadata": {
        "trusted": true
      },
      "outputs": [
        {
          "name": "stdout",
          "output_type": "stream",
          "text": "t\n"
        }
      ],
      "execution_count": 17
    },
    {
      "id": "1d0beffb-a6e8-4e37-ad2d-163ec56214dc",
      "cell_type": "code",
      "source": "print(name[-13])",
      "metadata": {
        "trusted": true
      },
      "outputs": [
        {
          "name": "stdout",
          "output_type": "stream",
          "text": "A\n"
        }
      ],
      "execution_count": 18
    },
    {
      "id": "5501305e-ab1b-4840-a902-be524521efdc",
      "cell_type": "code",
      "source": "#Get the length of your string variable\n\nlen(name)",
      "metadata": {
        "trusted": true
      },
      "outputs": [
        {
          "execution_count": 32,
          "output_type": "execute_result",
          "data": {
            "text/plain": "13"
          },
          "metadata": {}
        }
      ],
      "execution_count": 32
    },
    {
      "id": "583b9182-6493-497e-a3c4-bfede50d6729",
      "cell_type": "code",
      "source": "len(\"Age of Ultron\")",
      "metadata": {
        "trusted": true
      },
      "outputs": [
        {
          "execution_count": 20,
          "output_type": "execute_result",
          "data": {
            "text/plain": "13"
          },
          "metadata": {}
        }
      ],
      "execution_count": 20
    },
    {
      "id": "f1f0f7e8-5290-4c04-956f-f6a48e13e322",
      "cell_type": "code",
      "source": "name[0-3]",
      "metadata": {
        "trusted": true
      },
      "outputs": [
        {
          "execution_count": 21,
          "output_type": "execute_result",
          "data": {
            "text/plain": "'r'"
          },
          "metadata": {}
        }
      ],
      "execution_count": 21
    },
    {
      "id": "9ecda32b-fbf8-4760-87f2-bd4e2e98192d",
      "cell_type": "code",
      "source": "#Slicing: take a range of the letters\n\nname[0:3]",
      "metadata": {
        "trusted": true
      },
      "outputs": [
        {
          "execution_count": 31,
          "output_type": "execute_result",
          "data": {
            "text/plain": "'Age'"
          },
          "metadata": {}
        }
      ],
      "execution_count": 31
    },
    {
      "id": "9a312b4f-9ad2-4994-bd19-0c8e95ab330d",
      "cell_type": "code",
      "source": "name[-6:-1]",
      "metadata": {
        "trusted": true
      },
      "outputs": [
        {
          "execution_count": 28,
          "output_type": "execute_result",
          "data": {
            "text/plain": "'Ultro'"
          },
          "metadata": {}
        }
      ],
      "execution_count": 28
    },
    {
      "id": "e8096559-2df1-4927-a379-ddaa830fca2f",
      "cell_type": "code",
      "source": "#every nth element\nname[::3]",
      "metadata": {
        "trusted": true
      },
      "outputs": [
        {
          "execution_count": 30,
          "output_type": "execute_result",
          "data": {
            "text/plain": "'A  tn'"
          },
          "metadata": {}
        }
      ],
      "execution_count": 30
    },
    {
      "id": "bcd0ede7-8e70-401e-a78e-5d6c876901d4",
      "cell_type": "code",
      "source": "#Get every nth element from range\nname[0:10:2]",
      "metadata": {
        "trusted": true
      },
      "outputs": [
        {
          "execution_count": 36,
          "output_type": "execute_result",
          "data": {
            "text/plain": "'Aeo l'"
          },
          "metadata": {}
        }
      ],
      "execution_count": 36
    },
    {
      "id": "06f79991-3048-46cf-bb6e-291aea92a45a",
      "cell_type": "code",
      "source": "#Concatenation\n\nMerge=name+\" is the best movie ever!\"",
      "metadata": {
        "trusted": true
      },
      "outputs": [],
      "execution_count": 37
    },
    {
      "id": "d6099fbc-ccda-4690-a43b-a214fcd7c916",
      "cell_type": "code",
      "source": "print(Merge)",
      "metadata": {
        "trusted": true
      },
      "outputs": [
        {
          "name": "stdout",
          "output_type": "stream",
          "text": "Age of Ultron is the best movie ever!\n"
        }
      ],
      "execution_count": 38
    },
    {
      "id": "3d533013-d1cf-4a06-91ec-a162d5556de2",
      "cell_type": "code",
      "source": "#Print the string n times\n3 * name",
      "metadata": {
        "trusted": true
      },
      "outputs": [
        {
          "execution_count": 41,
          "output_type": "execute_result",
          "data": {
            "text/plain": "'Age of UltronAge of UltronAge of Ultron'"
          },
          "metadata": {}
        }
      ],
      "execution_count": 41
    },
    {
      "id": "ec1ec0df-4248-4658-b0ce-8cc6f441cd86",
      "cell_type": "code",
      "source": "#New line escape\nprint(\"Age of Ultron\\n is the best movie ever!\")",
      "metadata": {
        "trusted": true
      },
      "outputs": [
        {
          "name": "stdout",
          "output_type": "stream",
          "text": "Age of Ultron\n is the best movie ever!\n"
        }
      ],
      "execution_count": 45
    },
    {
      "id": "3bc78ab1-36ba-4411-b3aa-0a55272f4fc6",
      "cell_type": "code",
      "source": "#Tab escape\nprint(\"Age of Ultron\\t is the best movie ever!\")",
      "metadata": {
        "trusted": true
      },
      "outputs": [
        {
          "name": "stdout",
          "output_type": "stream",
          "text": "Age of Ultron\t is the best movie ever!\n"
        }
      ],
      "execution_count": 48
    },
    {
      "id": "b445906f-f2e8-4971-90d9-25f59b784a36",
      "cell_type": "code",
      "source": "#How to get a \\ in your string\nprint(\"Put a double back slash \\\\ in the string\")",
      "metadata": {
        "trusted": true
      },
      "outputs": [
        {
          "name": "stdout",
          "output_type": "stream",
          "text": "Put a double back slash \\ in the string\n"
        }
      ],
      "execution_count": 51
    },
    {
      "id": "b2a51235-22a5-4532-90dd-45d5806d7f18",
      "cell_type": "code",
      "source": "#Print a raw string\nprint(r\"The ' mark of Python!\")",
      "metadata": {
        "trusted": true
      },
      "outputs": [
        {
          "name": "stdout",
          "output_type": "stream",
          "text": "The ' mark of Python!\n"
        }
      ],
      "execution_count": 52
    },
    {
      "id": "ed9c20be-989e-44b5-8440-c785d587742f",
      "cell_type": "code",
      "source": "print(r\"I'm free from unexpected \\ backslash restraints!\")",
      "metadata": {
        "trusted": true
      },
      "outputs": [
        {
          "name": "stdout",
          "output_type": "stream",
          "text": "I'm free from unexpected \\ backslash restraints!\n"
        }
      ],
      "execution_count": 54
    },
    {
      "id": "222fb04c-ddc1-4810-9442-87c7add7c50d",
      "cell_type": "code",
      "source": "print(r\"The 'r' shall set you free!\")",
      "metadata": {
        "trusted": true
      },
      "outputs": [
        {
          "name": "stdout",
          "output_type": "stream",
          "text": "The 'r' shall set you free!\n"
        }
      ],
      "execution_count": 55
    },
    {
      "id": "e3badfd8-7c47-456e-8b5b-170114885816",
      "cell_type": "code",
      "source": "#Convert all to upper case (pt 1)\nlower=\"here is an all lowercase sentence\"\nprint(\"lowercase:\", lower)",
      "metadata": {
        "trusted": true
      },
      "outputs": [
        {
          "name": "stdout",
          "output_type": "stream",
          "text": "lowercase: here is an all lowercase sentence\n"
        }
      ],
      "execution_count": 56
    },
    {
      "id": "466d8a80-21a9-473e-bd6c-c22c57b87ae0",
      "cell_type": "code",
      "source": "#Convert all to upper case (pt 2)\nupper=lower.upper()\nprint(\"converted (ironically) to uppercase:\",upper)",
      "metadata": {
        "trusted": true
      },
      "outputs": [
        {
          "name": "stdout",
          "output_type": "stream",
          "text": "converted (ironically) to uppercase: HERE IS AN ALL LOWERCASE SENTENCE\n"
        }
      ],
      "execution_count": 58
    },
    {
      "id": "56f0f5d1-7a8d-4d5e-a3ad-a6cf74c05046",
      "cell_type": "code",
      "source": "#Replacement clean-up\na=\"Here is the Published by JSTOR sentence with unwanted text in it\"\nb=a.replace(\"Published by JSTOR\",\"\")\nb",
      "metadata": {
        "trusted": true
      },
      "outputs": [
        {
          "execution_count": 59,
          "output_type": "execute_result",
          "data": {
            "text/plain": "'Here is the  sentence with unwanted text in it'"
          },
          "metadata": {}
        }
      ],
      "execution_count": 59
    },
    {
      "id": "ad43b959-9b8c-4474-8a8a-08f922e259ac",
      "cell_type": "code",
      "source": "#Removal clean-up\na=\"Here is the Published by JSTOR sentence with unwanted text in it\"\nb=a.strip(\"Published by JSTOR\")\nb",
      "metadata": {
        "trusted": true
      },
      "outputs": [
        {
          "execution_count": 62,
          "output_type": "execute_result",
          "data": {
            "text/plain": "'Here is the Published by JSTOR sentence with unwanted text in it'"
          },
          "metadata": {}
        }
      ],
      "execution_count": 62
    },
    {
      "id": "e76b5113-9ba7-4ba4-af91-0fae9a8e16ab",
      "cell_type": "code",
      "source": "#SEARCH Find the starting position of a substring in a string. \nname=\"Catcher in the Rye\"\nname.find(\"r i\")",
      "metadata": {
        "trusted": true
      },
      "outputs": [
        {
          "execution_count": 64,
          "output_type": "execute_result",
          "data": {
            "text/plain": "6"
          },
          "metadata": {}
        }
      ],
      "execution_count": 64
    },
    {
      "id": "1f52c836-19d8-4d8c-87e2-7f9c5b02a5dd",
      "cell_type": "code",
      "source": "#Example of how -1 is displayed if not found\nname.find(\"chet\")",
      "metadata": {
        "trusted": true
      },
      "outputs": [
        {
          "execution_count": 66,
          "output_type": "execute_result",
          "data": {
            "text/plain": "-1"
          },
          "metadata": {}
        }
      ],
      "execution_count": 66
    },
    {
      "id": "9e99c9ca-ddf1-4840-b3c7-9064482223ab",
      "cell_type": "code",
      "source": "#Split the words in a string\nname=\"Catcher in the Rye\"\nsplit_string=(name.split())\nsplit_string",
      "metadata": {
        "trusted": true
      },
      "outputs": [
        {
          "execution_count": 67,
          "output_type": "execute_result",
          "data": {
            "text/plain": "['Catcher', 'in', 'the', 'Rye']"
          },
          "metadata": {}
        }
      ],
      "execution_count": 67
    },
    {
      "id": "22a5a631-dab6-471b-872b-3fc4f5d2790b",
      "cell_type": "code",
      "source": "#Using RegEx\nimport re",
      "metadata": {
        "trusted": true
      },
      "outputs": [],
      "execution_count": 76
    },
    {
      "id": "afae4a97-affa-4786-8ee6-d01d41c2b85d",
      "cell_type": "code",
      "source": "s1=\"Age of Ultron is the best movie ever!\"\n\n#define the pattern to search for\npattern=r\"Ultron\"\n\n#Use the search() function to search for the pattern in the string\nresult=re.search(pattern, s1)\n\n#Check if a match was found\nif result:\n    print(\"Match found!\")\nelse:\n    print(\"Match not found.\")",
      "metadata": {
        "trusted": true
      },
      "outputs": [
        {
          "name": "stdout",
          "output_type": "stream",
          "text": "Match found!\n"
        }
      ],
      "execution_count": 69
    },
    {
      "id": "f24952fd-4ce0-4ac6-b7ad-2a533dc83782",
      "cell_type": "markdown",
      "source": "Regular expressions (RegEx) are patterns used to match and manipulate strings of text. There are several special sequences in RegEx that can be used to match specific characters or patterns.\n\n| Special Sequence | Meaning                 | \tExample             |\n| -----------  | ----------------------- | ----------------------|\n| \\d|Matches any digit character (0-9)|\"123\" matches \"\\d\\d\\d\"|\n|\\D|Matches any non-digit character|\"hello\" matches \"\\D\\D\\D\\D\\D\"|\n|\\w|Matches any word character (a-z, A-Z, 0-9, and _)|\"hello_world\" matches \"\\w\\w\\w\\w\\w\\w\\w\\w\\w\\w\\w\"|\n|\\W|Matches any non-word character|\t\"@#$%\" matches \"\\W\\W\\W\\W\"|\n|\\s|Matches any whitespace character (space, tab, newline, etc.)|\"hello world\" matches \"\\w\\w\\w\\w\\w\\s\\w\\w\\w\\w\\w\"|\n|\\S|Matches any non-whitespace character|\"hello_world\" matches \"\\S\\S\\S\\S\\S\\S\\S\\S\\S\\S\\S\"|\n|\\b|Matches the boundary between a word character and a non-word character|\"cat\" matches \"\\bcat\\b\" in \"The cat sat on the mat\"|\n|\\B|Matches any position that is not a word boundary|\"cat\" matches \"\\Bcat\\B\" in \"category\" but not in \"The cat sat on the mat\"|\n",
      "metadata": {}
    },
    {
      "id": "50019739-bd16-4cdb-add0-aebdeb277c4b",
      "cell_type": "code",
      "source": "#Example of using \\d \n\npattern = r\"\\d\\d\\d\\d\\d\\d\\d\\d\\d\\d\"  # Matches any ten consecutive digits\ntext = \"My Phone number is 1234567890\"\nmatch = re.search(pattern, text)\n\nif match:\n    print(\"Phone number found:\", match.group())\nelse:\n    print(\"No match\")",
      "metadata": {
        "trusted": true
      },
      "outputs": [
        {
          "name": "stdout",
          "output_type": "stream",
          "text": "Phone number found: 1234567890\n"
        }
      ],
      "execution_count": 71
    },
    {
      "id": "d7d37fcd-7ebc-4cdc-9e82-8da6fe3ade5f",
      "cell_type": "code",
      "source": "#Example of using /W\n\npattern = r\"\\W\"  # Matches any non-word character\ntext = \"Hello, world!\"\nmatches = re.findall(pattern, text)\n\nprint(\"Matches:\", matches)",
      "metadata": {
        "trusted": true
      },
      "outputs": [
        {
          "name": "stdout",
          "output_type": "stream",
          "text": "Matches: [',', ' ', '!']\n"
        }
      ],
      "execution_count": 72
    },
    {
      "id": "db9be17c-3fd5-4f4b-bbfe-798a5bbebd7d",
      "cell_type": "markdown",
      "source": "## Seems like you could integrate these like: \ntext.strip(\\d)",
      "metadata": {}
    },
    {
      "id": "dc7a3fb0-4219-4aca-9f2d-a8c5bdb5813f",
      "cell_type": "code",
      "source": "#Findall() function\n\nS2 = \"Ice ice baby ... ice ice baby ... Vanilla Ice Ice baby...\"\n\nresult = re.findall(\"ice\",S2)\n\nprint(result)",
      "metadata": {
        "trusted": true
      },
      "outputs": [
        {
          "name": "stdout",
          "output_type": "stream",
          "text": "['ice', 'ice', 'ice']\n"
        }
      ],
      "execution_count": 79
    },
    {
      "id": "6f9c9b71-b578-4f71-9d70-defac2af0334",
      "cell_type": "code",
      "source": "#Split by white space character\n\nsplit_array = re.split(r\"\\s\", S2)\n\n# The split_array contains all the substrings, split by whitespace characters\nprint(split_array)",
      "metadata": {
        "trusted": true
      },
      "outputs": [
        {
          "name": "stdout",
          "output_type": "stream",
          "text": "['Ice', 'ice', 'baby', '...', 'ice', 'ice', 'baby', '...', 'Vanilla', 'Ice', 'Ice', 'baby...']\n"
        }
      ],
      "execution_count": 82
    },
    {
      "id": "00e23bac-f72b-40d1-9449-b477c748b548",
      "cell_type": "code",
      "source": "#Replace all occurrences of a pattern\n\n# Define the regular expression pattern to search for\npattern = r\"Whitney Houston\"\n\n# Define the replacement string\nreplacement = \"legend\"\n\n# Use the sub function to replace the pattern with the replacement string\nnew_string = re.sub(pattern, replacement, s2, flags=re.IGNORECASE)\n\n# The new_string contains the original string with the pattern replaced by the replacement string\nprint(new_string) ",
      "metadata": {
        "trusted": true
      },
      "outputs": [],
      "execution_count": null
    },
    {
      "id": "7eb7ac0c-153c-4964-b36b-0acad5d1f86e",
      "cell_type": "code",
      "source": "#Conconating strings again\n\nA = \"Hey\"\nB = \"Slow it down \"\nC = \"Whaddaya want from me?\"\n\nD = A + B + C\nprint(D)",
      "metadata": {
        "trusted": true
      },
      "outputs": [
        {
          "name": "stdout",
          "output_type": "stream",
          "text": "HeySlow it down Whaddaya want from me?\n"
        }
      ],
      "execution_count": 86
    },
    {
      "id": "089d89b2-6b79-4b4a-98ed-9b9f273bc420",
      "cell_type": "code",
      "source": "print(\"\\\\\")",
      "metadata": {
        "trusted": true
      },
      "outputs": [
        {
          "name": "stdout",
          "output_type": "stream",
          "text": "\\\n"
        }
      ],
      "execution_count": 89
    },
    {
      "id": "d857c226-d88a-498d-9de0-5483d758fc67",
      "cell_type": "code",
      "source": "F = \"You are wrong\"\nF2 = F.upper()\nprint(F2)",
      "metadata": {
        "trusted": true
      },
      "outputs": [
        {
          "name": "stdout",
          "output_type": "stream",
          "text": "YOU ARE WRONG\n"
        }
      ],
      "execution_count": 92
    },
    {
      "id": "9f9ce738-895a-4732-93f7-03dcc9c263c4",
      "cell_type": "code",
      "source": "g = \"Mary had a little lamb Little lamb, little lamb Mary had a little lamb \\\nIts fleece was white as snow And everywhere that Mary went Mary went, Mary went \\\nEverywhere that Mary went The lamb was sure to go\"\n\ng.find(\"snow\")",
      "metadata": {
        "trusted": true
      },
      "outputs": [
        {
          "execution_count": 93,
          "output_type": "execute_result",
          "data": {
            "text/plain": "95"
          },
          "metadata": {}
        }
      ],
      "execution_count": 93
    },
    {
      "id": "124e9038-a210-4b21-b88e-396aa1cb188e",
      "cell_type": "code",
      "source": "BOB = g.replace(\"Mary\",\"BOB!!\")\nprint(BOB)",
      "metadata": {
        "trusted": true
      },
      "outputs": [
        {
          "name": "stdout",
          "output_type": "stream",
          "text": "BOB!! had a little lamb Little lamb, little lamb BOB!! had a little lamb Its fleece was white as snow And everywhere that BOB!! went BOB!! went, BOB!! went Everywhere that BOB!! went The lamb was sure to go\n"
        }
      ],
      "execution_count": 95
    },
    {
      "id": "b2665fc8-c9bc-4e70-b6fb-9cbec8c1315c",
      "cell_type": "code",
      "source": "lamb_words = re.split(r\"\\s\", BOB)\nprint(lamb_words)",
      "metadata": {
        "trusted": true
      },
      "outputs": [
        {
          "name": "stdout",
          "output_type": "stream",
          "text": "['BOB!!', 'had', 'a', 'little', 'lamb', 'Little', 'lamb,', 'little', 'lamb', 'BOB!!', 'had', 'a', 'little', 'lamb', 'Its', 'fleece', 'was', 'white', 'as', 'snow', 'And', 'everywhere', 'that', 'BOB!!', 'went', 'BOB!!', 'went,', 'BOB!!', 'went', 'Everywhere', 'that', 'BOB!!', 'went', 'The', 'lamb', 'was', 'sure', 'to', 'go']\n"
        }
      ],
      "execution_count": 96
    },
    {
      "id": "bfb9e802-55b1-4366-b80e-bfe69d14a3df",
      "cell_type": "code",
      "source": "s3 = \"House number- 1105\"\n\n#Use the search() function to search for the pattern in the string\nresult=re.search(r\"\\d\", s3)\n\n#Check if a match was found\nif result:\n    print(\"Match found!\")\nelse:\n    print(\"Match not found.\")",
      "metadata": {
        "trusted": true
      },
      "outputs": [
        {
          "name": "stdout",
          "output_type": "stream",
          "text": "Match found!\n"
        }
      ],
      "execution_count": 99
    },
    {
      "id": "fcad4f9f-a214-4e0b-8536-19c928fde62c",
      "cell_type": "code",
      "source": "s3.find(r\"\\d\")",
      "metadata": {
        "trusted": true
      },
      "outputs": [
        {
          "execution_count": 103,
          "output_type": "execute_result",
          "data": {
            "text/plain": "-1"
          },
          "metadata": {}
        }
      ],
      "execution_count": 103
    },
    {
      "id": "f20cc073-5603-4c05-86b7-53b92fddfce5",
      "cell_type": "code",
      "source": "str1= \"The quick brown fox jumps over the lazy dog.\"\nstr1.replace(\"fox\",\"bear\")",
      "metadata": {
        "trusted": true
      },
      "outputs": [
        {
          "execution_count": 104,
          "output_type": "execute_result",
          "data": {
            "text/plain": "'The quick brown bear jumps over the lazy dog.'"
          },
          "metadata": {}
        }
      ],
      "execution_count": 104
    },
    {
      "id": "3c1a22ff-bc8f-40da-b063-b0e1f4acc4de",
      "cell_type": "code",
      "source": "str2= \"How much wood would a woodchuck chuck, if a woodchuck could chuck wood?\"\nmatches = re.findall(r\"woo\",str2)\nprint(matches)",
      "metadata": {
        "trusted": true
      },
      "outputs": [
        {
          "name": "stdout",
          "output_type": "stream",
          "text": "['woo', 'woo', 'woo', 'woo']\n"
        }
      ],
      "execution_count": 107
    }
  ]
}