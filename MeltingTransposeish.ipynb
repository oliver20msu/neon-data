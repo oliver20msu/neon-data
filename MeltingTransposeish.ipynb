{
 "cells": [
  {
   "cell_type": "markdown",
   "id": "61a6b9f3-52f2-42a2-b15f-cb977dcdcc58",
   "metadata": {},
   "source": [
    "# Time series prepper!\n",
    "* this tool converts wide data (e.g. semesters as column headers) to long data (semesters as a column) and moves time variable to column 0."
   ]
  },
  {
   "cell_type": "code",
   "execution_count": 1,
   "id": "115f4cd1-9673-424f-88ec-8cc080ff95ce",
   "metadata": {},
   "outputs": [],
   "source": [
    "import pandas as pd"
   ]
  },
  {
   "cell_type": "code",
   "execution_count": 2,
   "id": "e5370368-6b6b-42f7-a3de-ab560f9bd0e7",
   "metadata": {},
   "outputs": [
    {
     "name": "stdout",
     "output_type": "stream",
     "text": [
      "    COURSE  SP21  WI22  FA22  SP22  WI23  FA23  SP23  WI24  FA24  SP24  WI25  \\\n",
      "0   ENG101    23    40    26    28    41    25    22    31    41    20    41   \n",
      "1   ENG102    42    21    36    36    22    31    22    29    35    44    22   \n",
      "2   ENG201    25    23    26    25    44    21    21    24    22    19    32   \n",
      "3   ENG202    41    42    30    22    39    34    28    21    20    18    27   \n",
      "4   ENG212    23    32    17    43    20    36    28    25    27    24    19   \n",
      "5   ENG215    25    16    30    42    29    18    19    27    41    39    32   \n",
      "6   ENG301    26    18    27    22    36    17    33    44    36    34    19   \n",
      "7   ENG301    25    19    27    17    35    35    22    27    44    29    17   \n",
      "8   ENG324    22    37    41    39    40    43    41    31    24    29    17   \n",
      "9   ENG340    37    44    32    18    44    39    20    26    32    38    19   \n",
      "10  ENG344    17    42    19    31    31    29    38    34    44    29    26   \n",
      "11  ENG400    29    39    28    17    26    44    29    21    33    37    31   \n",
      "12  ENG450    43    33    41    37    16    41    18    40    23    24    23   \n",
      "13  ENG490    29    34    27    25    36    37    35    30    16    26    38   \n",
      "\n",
      "    SP25  \n",
      "0     17  \n",
      "1     33  \n",
      "2     30  \n",
      "3     31  \n",
      "4     40  \n",
      "5     28  \n",
      "6     21  \n",
      "7     27  \n",
      "8     22  \n",
      "9     18  \n",
      "10    23  \n",
      "11    29  \n",
      "12    26  \n",
      "13    36  \n"
     ]
    }
   ],
   "source": [
    "df_wide = pd.read_csv('meltC.CSV')\n",
    "print(df_wide)"
   ]
  },
  {
   "cell_type": "code",
   "execution_count": 3,
   "id": "8afca17f-e7f5-4ea1-8b4b-da8c2cd87e95",
   "metadata": {},
   "outputs": [
    {
     "name": "stdout",
     "output_type": "stream",
     "text": [
      "     COURSE SEMESTER  ENROLLMENT\n",
      "0    ENG101     SP21          23\n",
      "1    ENG102     SP21          42\n",
      "2    ENG201     SP21          25\n",
      "3    ENG202     SP21          41\n",
      "4    ENG212     SP21          23\n",
      "..      ...      ...         ...\n",
      "163  ENG340     SP25          18\n",
      "164  ENG344     SP25          23\n",
      "165  ENG400     SP25          29\n",
      "166  ENG450     SP25          26\n",
      "167  ENG490     SP25          36\n",
      "\n",
      "[168 rows x 3 columns]\n"
     ]
    }
   ],
   "source": [
    "df_long = pd.melt(df_wide,\n",
    "                  id_vars=['COURSE'],\n",
    "                  value_vars=['SP21',\t'WI22',\t'FA22',\t'SP22',\t'WI23',\t'FA23',\t'SP23',\t'WI24',\t'FA24',\t'SP24',\t'WI25',\t'SP25'],\n",
    "                  var_name='SEMESTER',\n",
    "                  value_name='ENROLLMENT')\n",
    "print(df_long)                 "
   ]
  },
  {
   "cell_type": "code",
   "execution_count": 5,
   "id": "ef7e5e0e-8bf9-4c04-a5c7-80a7d14d93ca",
   "metadata": {},
   "outputs": [
    {
     "name": "stdout",
     "output_type": "stream",
     "text": [
      "\n",
      "Final dataframe ready for time series analysis!:\n",
      "     COURSE  ENROLLMENT       DATE\n",
      "0    ENG101          23 2021-04-19\n",
      "1    ENG102          42 2021-04-19\n",
      "2    ENG201          25 2021-04-19\n",
      "3    ENG202          41 2021-04-19\n",
      "4    ENG212          23 2021-04-19\n",
      "..      ...         ...        ...\n",
      "163  ENG340          18 2021-04-19\n",
      "164  ENG344          23 2021-04-19\n",
      "165  ENG400          29 2021-04-19\n",
      "166  ENG450          26 2021-04-19\n",
      "167  ENG490          36 2021-04-19\n",
      "\n",
      "[168 rows x 3 columns]\n",
      "<class 'pandas.core.frame.DataFrame'>\n",
      "RangeIndex: 168 entries, 0 to 167\n",
      "Data columns (total 3 columns):\n",
      " #   Column      Non-Null Count  Dtype         \n",
      "---  ------      --------------  -----         \n",
      " 0   COURSE      168 non-null    object        \n",
      " 1   ENROLLMENT  168 non-null    int64         \n",
      " 2   DATE        168 non-null    datetime64[ns]\n",
      "dtypes: datetime64[ns](1), int64(1), object(1)\n",
      "memory usage: 4.1+ KB\n",
      "None\n"
     ]
    }
   ],
   "source": [
    "#Map to actual dates --- making sure our time variable has correct dtype!\n",
    "#For reference: chrome-extension://efaidnbmnnnibpcajpcglclefindmkaj/https://brightspotcdn.byui.edu/d1/49/8fac3c0a40729543e1a3e033dfc8/term-begin-end-dates.pdf\n",
    "# *Some dates used are approximate\n",
    "\n",
    "semester_to_date_map = {\n",
    "    'SP21': '2021-04-19',\n",
    "    'WI22': '2022-01-05',\n",
    "    'FA22': '2022-09-12',\n",
    "    'SP22': '2021-04-18',\n",
    "    'WI23': '2022-01-04',\n",
    "    'FA23': '2022-09-16',\n",
    "    'SP23': '2021-04-19',\n",
    "    'WI24': '2022-01-05',\n",
    "    'FA24': '2022-09-12',\n",
    "    'SP24': '2021-04-19',\n",
    "    'WI25': '2022-01-05',\n",
    "    'FA25': '2022-09-12',\n",
    "    'SP25': '2021-04-19',\n",
    "    'WI26': '2022-01-05',\n",
    "    'FA26': '2022-09-12',\n",
    "    'SP26': '2021-04-19',\n",
    "    'WI27': '2022-01-05',\n",
    "    'FA27': '2022-09-12',\n",
    "    'SP27': '2021-04-19',\n",
    "    'WI28': '2022-01-05',\n",
    "    'FA28': '2022-09-12',\n",
    "    'SP28': '2021-04-19',\n",
    "    'WI29': '2022-01-05',\n",
    "    'FA29': '2022-09-12',\n",
    "    'SP29': '2021-04-19',\n",
    "    'WI30': '2022-01-05',\n",
    "    'FA30': '2022-09-12',\n",
    "    'SP30': '2021-04-19',\n",
    "    'WI31': '2022-01-05',\n",
    "    'FA31': '2022-09-12',\n",
    "    'SP31': '2021-04-19',\n",
    "    'WI32': '2022-01-05',\n",
    "    'FA32': '2022-09-12',\n",
    "}\n",
    "\n",
    "df_long['DATE'] = df_long['SEMESTER'].map(semester_to_date_map)\n",
    "df_long['DATE'] = pd.to_datetime(df_long['DATE'])\n",
    "df_long = df_long.drop(columns=['SEMESTER']) # Remove 'DATE' from its current position\n",
    "\n",
    "\n",
    "print(\"\\nFinal dataframe ready for time series analysis!:\")\n",
    "print(df_long)\n",
    "print(df_long.info()) #Make sure 'SEMESTER' is now a time variable!"
   ]
  },
  {
   "cell_type": "code",
   "execution_count": 6,
   "id": "2a7251f0-329d-4d20-bf03-2b6f12f2c62d",
   "metadata": {},
   "outputs": [
    {
     "name": "stdout",
     "output_type": "stream",
     "text": [
      "\n",
      "Final dataframe ready for time series analysis!:\n",
      "          DATE  COURSE  ENROLLMENT\n",
      "0   2021-04-19  ENG101          23\n",
      "1   2021-04-19  ENG102          42\n",
      "2   2021-04-19  ENG201          25\n",
      "3   2021-04-19  ENG202          41\n",
      "4   2021-04-19  ENG212          23\n",
      "..         ...     ...         ...\n",
      "163 2021-04-19  ENG340          18\n",
      "164 2021-04-19  ENG344          23\n",
      "165 2021-04-19  ENG400          29\n",
      "166 2021-04-19  ENG450          26\n",
      "167 2021-04-19  ENG490          36\n",
      "\n",
      "[168 rows x 3 columns]\n"
     ]
    }
   ],
   "source": [
    "#Moving the time variable to column position 0\n",
    "\n",
    "cols = df_long.columns.tolist()\n",
    "cols.remove('DATE') #Pick it up\n",
    "cols.insert(0, 'DATE') #Drop it back at 0\n",
    "df = df_long[cols] #Call it df ... our final usable df for time series work\n",
    "\n",
    "print(\"\\nFinal dataframe ready for time series analysis!:\")\n",
    "print(df)"
   ]
  },
  {
   "cell_type": "code",
   "execution_count": null,
   "id": "56db84ef-8db4-4f63-a3c2-29db59e5c40e",
   "metadata": {},
   "outputs": [],
   "source": []
  }
 ],
 "metadata": {
  "kernelspec": {
   "display_name": "Python 3 (ipykernel)",
   "language": "python",
   "name": "python3"
  },
  "language_info": {
   "codemirror_mode": {
    "name": "ipython",
    "version": 3
   },
   "file_extension": ".py",
   "mimetype": "text/x-python",
   "name": "python",
   "nbconvert_exporter": "python",
   "pygments_lexer": "ipython3",
   "version": "3.12.7"
  }
 },
 "nbformat": 4,
 "nbformat_minor": 5
}
