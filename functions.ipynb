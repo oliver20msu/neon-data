{
 "cells": [
  {
   "cell_type": "code",
   "execution_count": 4,
   "id": "dfda3ccf-b9ee-46d2-9794-19e4c341c1ee",
   "metadata": {},
   "outputs": [],
   "source": [
    "# First funciton: Add 1 to a and store as b\n",
    "\n",
    "def add(a):\n",
    "    \"\"\"\n",
    "    Add 1 to a\n",
    "    \"\"\"\n",
    "    b=a+1\n",
    "    print(a,\"if you add one\",b)\n",
    "    return(b)"
   ]
  },
  {
   "cell_type": "code",
   "execution_count": 5,
   "id": "d57a00a4-7356-4ba7-ac62-1e4ab166d90a",
   "metadata": {},
   "outputs": [
    {
     "name": "stdout",
     "output_type": "stream",
     "text": [
      "5 if you add one 6\n"
     ]
    },
    {
     "data": {
      "text/plain": [
       "6"
      ]
     },
     "execution_count": 5,
     "metadata": {},
     "output_type": "execute_result"
    }
   ],
   "source": [
    "#Calling the function, example\n",
    "\n",
    "add(5)"
   ]
  },
  {
   "cell_type": "code",
   "execution_count": 6,
   "id": "7b135127-2e5d-4535-8786-16b8b6d750ce",
   "metadata": {},
   "outputs": [
    {
     "name": "stdout",
     "output_type": "stream",
     "text": [
      "Help on function add in module __main__:\n",
      "\n",
      "add(a)\n",
      "    Add 1 to a\n",
      "\n"
     ]
    }
   ],
   "source": [
    "help(add)"
   ]
  },
  {
   "cell_type": "code",
   "execution_count": 7,
   "id": "6a427699-324c-4aa0-b387-821afe8e14dd",
   "metadata": {},
   "outputs": [
    {
     "name": "stdout",
     "output_type": "stream",
     "text": [
      "2.5 if you add one 3.5\n"
     ]
    },
    {
     "data": {
      "text/plain": [
       "3.5"
      ]
     },
     "execution_count": 7,
     "metadata": {},
     "output_type": "execute_result"
    }
   ],
   "source": [
    "#Calling the function a different way\n",
    "\n",
    "add(5/2)"
   ]
  },
  {
   "cell_type": "code",
   "execution_count": 10,
   "id": "1080d3d5-055b-44ff-bda3-2967125f4023",
   "metadata": {},
   "outputs": [
    {
     "name": "stdout",
     "output_type": "stream",
     "text": [
      "24\n"
     ]
    }
   ],
   "source": [
    "def Mult(a,b):\n",
    "    c=a*b\n",
    "    return(c)\n",
    "    print('This is not printed')\n",
    "result=Mult(12,2)\n",
    "print(result)"
   ]
  },
  {
   "cell_type": "code",
   "execution_count": 11,
   "id": "ec18ed2e-90c1-4e68-8006-d1e5e1d6501e",
   "metadata": {},
   "outputs": [
    {
     "data": {
      "text/plain": [
       "17721.6"
      ]
     },
     "execution_count": 11,
     "metadata": {},
     "output_type": "execute_result"
    }
   ],
   "source": [
    "# Multiplication using Mult\n",
    "\n",
    "Mult(48,369.2)"
   ]
  },
  {
   "cell_type": "markdown",
   "id": "08475262-6a39-4cb7-92e4-3b754e867640",
   "metadata": {},
   "source": [
    "### Steps for functions\n",
    "1. define the function (name, arguments, and variable names for arguments)\n",
    "2. define the desired function equal to new name (this is equal to argument one times/div/+ argument two)\n",
    "3. tell it what to return when the function is used (the new variable in 2)"
   ]
  },
  {
   "cell_type": "code",
   "execution_count": 12,
   "id": "94ca8ceb-18f4-4f10-89d0-a30ed4449d1e",
   "metadata": {},
   "outputs": [],
   "source": [
    "#e.g., playing around\n",
    "\n",
    "def Mash(x,y,z):\n",
    "    \"\"\"\n",
    "    multiplies a coefficient times x, one by y, one by z and adds 32000\n",
    "    \"\"\"\n",
    "    v=32.8*x+64.5*y+138.8*z+32000\n",
    "    return(v)\n",
    "    print(\"When you spend\",x,\"dollars on research\",y,\"dollars on productivity, and\",z,\"dollars on R&D, you get\",v,\"dollars roi.\")"
   ]
  },
  {
   "cell_type": "code",
   "execution_count": 13,
   "id": "c7456a5f-bbd1-40e6-8477-e3a56f0e811e",
   "metadata": {},
   "outputs": [
    {
     "data": {
      "text/plain": [
       "22229800.0"
      ]
     },
     "execution_count": 13,
     "metadata": {},
     "output_type": "execute_result"
    }
   ],
   "source": [
    "Mash(32000,18000,144000)"
   ]
  },
  {
   "cell_type": "code",
   "execution_count": 24,
   "id": "a8108692-b982-4f51-886a-878dbb7e2023",
   "metadata": {},
   "outputs": [],
   "source": [
    "#e.g. 2, playing around\n",
    "\n",
    "def Create(I,R,D,T,SP):\n",
    "    L=I*.23+R*.11+D*.17+T*.10+SP*.16\n",
    "    return(L)"
   ]
  },
  {
   "cell_type": "code",
   "execution_count": 27,
   "id": "076ece21-cadb-4afe-9a7f-ce25d8ab86f1",
   "metadata": {},
   "outputs": [
    {
     "data": {
      "text/plain": [
       "0.567"
      ]
     },
     "execution_count": 27,
     "metadata": {},
     "output_type": "execute_result"
    }
   ],
   "source": [
    "Create(.7,.5,.9,.7,.8)"
   ]
  },
  {
   "cell_type": "code",
   "execution_count": 38,
   "id": "bd1bbadc-ec0c-4940-9a5c-899298d493f2",
   "metadata": {},
   "outputs": [],
   "source": [
    "#e.g. 3, playing around\n",
    "\n",
    "def Kite(ST,PP,WD,TN):\n",
    "    HG=ST*8+PP*32+(94*WD)/(.8/TN)\n",
    "    print(\"Your kite will fly for\",HG,\"seconds\")\n",
    "    return(HG)"
   ]
  },
  {
   "cell_type": "code",
   "execution_count": 42,
   "id": "ca9e0f0b-f18a-4222-8b2c-5a1838ec2208",
   "metadata": {},
   "outputs": [
    {
     "name": "stdout",
     "output_type": "stream",
     "text": [
      "Your kite will fly for 5968.5 seconds\n"
     ]
    },
    {
     "data": {
      "text/plain": [
       "5968.5"
      ]
     },
     "execution_count": 42,
     "metadata": {},
     "output_type": "execute_result"
    }
   ],
   "source": [
    "Kite(200,8,35,1)"
   ]
  },
  {
   "cell_type": "code",
   "execution_count": 43,
   "id": "7b3f7675-2353-4248-bba9-b46fc4f89537",
   "metadata": {},
   "outputs": [],
   "source": [
    "#Math with strings?\n",
    "\n",
    "def Dup(o,p):\n",
    "    q=o*p\n",
    "    return(q)    "
   ]
  },
  {
   "cell_type": "code",
   "execution_count": 44,
   "id": "c19e7b5c-3bbe-4923-bc8d-afeeb6a39f4c",
   "metadata": {},
   "outputs": [
    {
     "data": {
      "text/plain": [
       "'NO!NO!NO!'"
      ]
     },
     "execution_count": 44,
     "metadata": {},
     "output_type": "execute_result"
    }
   ],
   "source": [
    "Dup(3,\"NO!\")"
   ]
  },
  {
   "cell_type": "code",
   "execution_count": 45,
   "id": "b074795d-19a4-4af5-88aa-8495e067560f",
   "metadata": {},
   "outputs": [
    {
     "data": {
      "text/plain": [
       "\"haha! That's awesome!\""
      ]
     },
     "execution_count": 45,
     "metadata": {},
     "output_type": "execute_result"
    }
   ],
   "source": [
    "\"haha! That's awesome!\""
   ]
  },
  {
   "cell_type": "code",
   "execution_count": 50,
   "id": "12d3fa47-7877-4655-a6f1-955b5662f5a4",
   "metadata": {},
   "outputs": [],
   "source": [
    "#Constant\n",
    "\n",
    "def OLS(BETA):\n",
    "    CONST=280\n",
    "    Y=62*BETA+CONST\n",
    "    print(\"When BETA is\",BETA,\"we predict\", Y)\n",
    "    return(Y)"
   ]
  },
  {
   "cell_type": "code",
   "execution_count": 52,
   "id": "a50269b3-5541-40ff-9af6-52ef736d200a",
   "metadata": {},
   "outputs": [
    {
     "name": "stdout",
     "output_type": "stream",
     "text": [
      "When BETA is 21.8 we predict 1631.6000000000001\n"
     ]
    },
    {
     "data": {
      "text/plain": [
       "1631.6000000000001"
      ]
     },
     "execution_count": 52,
     "metadata": {},
     "output_type": "execute_result"
    }
   ],
   "source": [
    "OLS(21.8)"
   ]
  },
  {
   "cell_type": "code",
   "execution_count": 54,
   "id": "dc56d296-532b-4cf0-998d-4727b55b5cf4",
   "metadata": {},
   "outputs": [
    {
     "name": "stdout",
     "output_type": "stream",
     "text": [
      "When BETA is 65 we predict 4310\n"
     ]
    },
    {
     "data": {
      "text/plain": [
       "4310"
      ]
     },
     "execution_count": 54,
     "metadata": {},
     "output_type": "execute_result"
    }
   ],
   "source": [
    "# Initialize global variable\n",
    "\n",
    "idealOHMS=OLS(65)\n",
    "idealOHMS"
   ]
  },
  {
   "cell_type": "code",
   "execution_count": 55,
   "id": "6f2739e4-3b74-4212-83e0-6d42a2d8701a",
   "metadata": {},
   "outputs": [],
   "source": [
    "# No return\n",
    "\n",
    "def EMPTY():\n",
    "    print('Nothing here to see')\n",
    "\n",
    "#OR\n",
    "\n",
    "def EMPTY1():\n",
    "    print('Nothing here to see')\n",
    "    return(None)"
   ]
  },
  {
   "cell_type": "code",
   "execution_count": 56,
   "id": "20f72559-3a4b-49fc-8a71-acd2c4b71b34",
   "metadata": {},
   "outputs": [
    {
     "name": "stdout",
     "output_type": "stream",
     "text": [
      "Nothing here to see\n",
      "Nothing here to see\n"
     ]
    }
   ],
   "source": [
    "#Verify\n",
    "\n",
    "EMPTY()\n",
    "EMPTY1()"
   ]
  },
  {
   "cell_type": "code",
   "execution_count": 59,
   "id": "fb041706-9b70-40d3-832e-0371caf30f9f",
   "metadata": {},
   "outputs": [
    {
     "name": "stdout",
     "output_type": "stream",
     "text": [
      "Nothing here to see\n",
      "None\n",
      "Nothing here to see\n",
      "None\n"
     ]
    }
   ],
   "source": [
    "# See what fuctions returns are\n",
    "\n",
    "print(EMPTY())\n",
    "print(EMPTY1())"
   ]
  },
  {
   "cell_type": "code",
   "execution_count": 63,
   "id": "0b33631a-5011-48a7-b338-a9cd110158af",
   "metadata": {},
   "outputs": [],
   "source": [
    "# Function for concatenation\n",
    "\n",
    "def link(a,b):\n",
    "    return(a+b)"
   ]
  },
  {
   "cell_type": "code",
   "execution_count": 65,
   "id": "6bb13c63-cd85-4f99-8d04-93cdc927fe78",
   "metadata": {},
   "outputs": [
    {
     "data": {
      "text/plain": [
       "'Epic rise of Aries the mage knight'"
      ]
     },
     "execution_count": 65,
     "metadata": {},
     "output_type": "execute_result"
    }
   ],
   "source": [
    "#da proof\n",
    "link('Epic rise',' of Aries the mage knight')"
   ]
  },
  {
   "cell_type": "code",
   "execution_count": 72,
   "id": "cc353f5f-c76b-4d5f-bd8f-e9fd70cab73c",
   "metadata": {},
   "outputs": [
    {
     "name": "stdout",
     "output_type": "stream",
     "text": [
      "Your kite will fly for 129986.0 seconds\n"
     ]
    },
    {
     "data": {
      "text/plain": [
       "129986.0"
      ]
     },
     "execution_count": 72,
     "metadata": {},
     "output_type": "execute_result"
    }
   ],
   "source": [
    "#Saving time\n",
    "## Instead of running separate blocks of equations, you can plug and go with functions! e.g.:\n",
    "\n",
    "### This is the setup; now you can just change the variables below and run over and over...\n",
    "ST=80\n",
    "PP=3\n",
    "WD=20\n",
    "TN=55\n",
    "SEC=Kite(ST,PP,WD,TN)\n",
    "SEC"
   ]
  },
  {
   "cell_type": "markdown",
   "id": "766bda83-e413-4dd6-bf8a-5cd42b851c57",
   "metadata": {},
   "source": [
    "# Predefined functions\n",
    "1. print()\n",
    "2. sum() for list or tuple...\n",
    "3. len()\n",
    "\n",
    "# In-Built functions\n",
    "1. Define a tuple | a=(1,2)\n",
    "2. Sum a tuple | b=sum(a)\n",
    "3. Define a list | c=[1,2]\n",
    "4. Sum a list | d=sum(c)\n",
    "5. Print outputs | print(f\"The sum of elements in list {a} is {d}.\")"
   ]
  },
  {
   "cell_type": "code",
   "execution_count": 75,
   "id": "1064f095-25d3-4569-9310-320fe499adb1",
   "metadata": {},
   "outputs": [
    {
     "name": "stdout",
     "output_type": "stream",
     "text": [
      "800 8\n",
      "low haptic wave capabilities\n"
     ]
    }
   ],
   "source": [
    "#If/else returns\n",
    "\n",
    "def bionicT(OO,OOO):\n",
    "    print(OO,OOO)\n",
    "    if OOO > 10:\n",
    "        return \"high haptic wave capabilities\"\n",
    "    else:\n",
    "        return \"low haptic wave capabilities\"\n",
    "\n",
    "YYY=bionicT(800,8)\n",
    "print(YYY)"
   ]
  },
  {
   "cell_type": "code",
   "execution_count": 76,
   "id": "5feb0fd7-a6eb-4722-93a6-2326b57b6e73",
   "metadata": {},
   "outputs": [],
   "source": [
    "# Print list using 'for' loop\n",
    "\n",
    "def IT(this):\n",
    "    for VVV in this:\n",
    "        print(VVV)"
   ]
  },
  {
   "cell_type": "code",
   "execution_count": 77,
   "id": "57d6fbe8-095c-4ede-919f-04723105bf6f",
   "metadata": {},
   "outputs": [
    {
     "name": "stdout",
     "output_type": "stream",
     "text": [
      "1\n",
      "lurk\n",
      "stage\n",
      "flood\n",
      "35\n",
      "40\n"
     ]
    }
   ],
   "source": [
    "#Implement\n",
    "\n",
    "IT([1,'lurk','stage','flood',35,40])"
   ]
  },
  {
   "cell_type": "code",
   "execution_count": 81,
   "id": "ba97be2c-3d2c-442b-9135-55f8c3c08a02",
   "metadata": {},
   "outputs": [
    {
     "data": {
      "text/plain": [
       "'match'"
      ]
     },
     "execution_count": 81,
     "metadata": {},
     "output_type": "execute_result"
    }
   ],
   "source": [
    "#Compare two strings\n",
    "## Add string\n",
    "\n",
    "words='this is the moment' #This is the target / correct / desired phrase, let's say\n",
    "\n",
    "# Define a function\n",
    "def Eword(text):\n",
    "\n",
    "# If/else an in to compare string\n",
    "    if text in words:\n",
    "        return 'match'\n",
    "    else:\n",
    "        return 'go fish'\n",
    "        \n",
    "Eword('this is the moment') #This is the one you use to check -- does it match?"
   ]
  },
  {
   "cell_type": "code",
   "execution_count": 83,
   "id": "392e2bd1-2a73-43d5-b118-473612d59d0c",
   "metadata": {},
   "outputs": [
    {
     "name": "stdout",
     "output_type": "stream",
     "text": [
      "\n",
      "String Matched\n"
     ]
    }
   ],
   "source": [
    "# Compare two strings using == operator and function\n",
    "\n",
    "def compstrg(De,Te):\n",
    "    if De==Te:\n",
    "        return 1\n",
    "strg1='megaman has returned'\n",
    "strg2='megaman has returned'\n",
    "\n",
    "check=compstrg(strg1,strg2)\n",
    "if check==1:\n",
    "    print('\\nString Matched')\n",
    "else:\n",
    "    print('\\nString Not Matched')"
   ]
  },
  {
   "cell_type": "code",
   "execution_count": 86,
   "id": "726be5cd-4938-48d5-a738-e8f92fb63760",
   "metadata": {},
   "outputs": [
    {
     "name": "stdout",
     "output_type": "stream",
     "text": [
      "The frequency of words is: {'hey': 1, 'slow': 1, 'it': 1, 'down': 1, 'whaddaya': 2, 'want': 2, 'from': 2, 'me': 2}\n"
     ]
    }
   ],
   "source": [
    "# Count words in a string using Dictionary\n",
    "def freq(words):\n",
    "    ToFill=[] #Initialize empty list\n",
    "    ToFill=words.split()\n",
    "    Dict={} #Declare a dictionary\n",
    "    for key in ToFill:\n",
    "        Dict[key]=ToFill.count(key)\n",
    "    print(\"The frequency of words is:\",Dict)\n",
    "\n",
    "#Call function and pass string in it\n",
    "freq(\"hey slow it down whaddaya want from me whaddaya want from me\")\n"
   ]
  },
  {
   "cell_type": "code",
   "execution_count": 87,
   "id": "765a7548-2f82-4bb8-95a3-8a276116ecc0",
   "metadata": {},
   "outputs": [],
   "source": [
    "#Simplifying the above:\n",
    "\n",
    "def FUNCT(argument):\n",
    "    Empty_list=[]\n",
    "    Empty_list=argument.split()\n",
    "    Dictionary={}\n",
    "    for key in Empty_list:\n",
    "        Dict[key]=Empty_list.count(key)\n",
    "    print(\"The frequency of words is:\",Dict)"
   ]
  },
  {
   "cell_type": "code",
   "execution_count": 88,
   "id": "b8fd6d4e-1eee-4a81-a9a6-8b58808f418f",
   "metadata": {},
   "outputs": [
    {
     "name": "stdout",
     "output_type": "stream",
     "text": [
      "The frequency of words is: {'this': 1, 'is': 1, 'the': 3, 'moment': 1, 'these': 1, 'are': 2, 'words': 4, 'we': 3, 'want': 2, 'to': 4, 'get': 3, 'frequencies': 1, 'of': 3, 'so': 1, 'repeat': 1, 'some': 1, 'frequency': 1}\n"
     ]
    }
   ],
   "source": [
    "FUNCT(\"these are the words words words we want to get the frequencies of of so we repeat some are the words we want get to to get to frequency of\")"
   ]
  },
  {
   "cell_type": "code",
   "execution_count": 89,
   "id": "95cd77e0-33f7-42e5-b51b-3ccc60cc9b29",
   "metadata": {},
   "outputs": [],
   "source": [
    "# Default values for functions\n",
    "\n",
    "def Pass(grade=50):\n",
    "    if(grade<70):\n",
    "        print(\"I'm sorry, you failed the class with a\",grade)\n",
    "    else:\n",
    "        print(\"Congratulations! You passed the class with a\",grade)"
   ]
  },
  {
   "cell_type": "code",
   "execution_count": 92,
   "id": "cbe92254-b952-4d94-a3af-e463700f7a45",
   "metadata": {},
   "outputs": [
    {
     "name": "stdout",
     "output_type": "stream",
     "text": [
      "I'm sorry, you failed the class with a 50\n",
      "***defaults to 50...\n"
     ]
    }
   ],
   "source": [
    "Pass()\n",
    "print(\"***defaults to 50...\")"
   ]
  },
  {
   "cell_type": "code",
   "execution_count": 94,
   "id": "374510db-c4ef-487c-b268-5a12725e451b",
   "metadata": {},
   "outputs": [
    {
     "name": "stdout",
     "output_type": "stream",
     "text": [
      "Congratulations! You passed the class with a 97\n",
      "***customizes the grade\n"
     ]
    }
   ],
   "source": [
    "Pass(97)\n",
    "print(\"***customizes the grade\")"
   ]
  },
  {
   "cell_type": "code",
   "execution_count": 95,
   "id": "d89cf1ae-6746-459a-adc3-16a2c4a7c8ea",
   "metadata": {},
   "outputs": [
    {
     "name": "stdout",
     "output_type": "stream",
     "text": [
      "value is a value\n",
      "another value is a value\n"
     ]
    }
   ],
   "source": [
    "#Global variables (the \"add to dictionary\" of programming!) -- now globvar is a variable outside of just this context...\n",
    "\n",
    "variable=\"value\"\n",
    "def functionn(variable):\n",
    "    global globvar\n",
    "    globvar=\"another value\"\n",
    "    print(variable, \"is a value\")\n",
    "\n",
    "functionn(variable)\n",
    "functionn(globvar)"
   ]
  },
  {
   "cell_type": "code",
   "execution_count": 96,
   "id": "e60cf92b-977d-4ab6-8098-1d087ec9658d",
   "metadata": {},
   "outputs": [
    {
     "name": "stdout",
     "output_type": "stream",
     "text": [
      "AC/DC's rating is: 10.0\n",
      "Deep Purple's rating is: 0.0\n",
      "My favourite band is: AC/DC\n"
     ]
    }
   ],
   "source": [
    "#Here's there example of using something like this with some printouts:\n",
    "\n",
    "# Example of global variable\n",
    "\n",
    "myFavouriteBand = \"AC/DC\"\n",
    "\n",
    "def getBandRating(bandname):\n",
    "    if bandname == myFavouriteBand:\n",
    "        return 10.0\n",
    "    else:\n",
    "        return 0.0\n",
    "\n",
    "print(\"AC/DC's rating is:\", getBandRating(\"AC/DC\"))\n",
    "print(\"Deep Purple's rating is:\",getBandRating(\"Deep Purple\"))\n",
    "print(\"My favourite band is:\", myFavouriteBand)"
   ]
  },
  {
   "cell_type": "code",
   "execution_count": 97,
   "id": "23ba14e0-83ca-4576-a5b0-3be19331ab8b",
   "metadata": {},
   "outputs": [
    {
     "name": "stdout",
     "output_type": "stream",
     "text": [
      "Number of arguments is 3\n",
      "Ares\n",
      "Zeus\n",
      "Mardok\n",
      "Number of arguments is 4\n",
      "Hermes\n",
      "Hera\n",
      "Chronos\n",
      "Xerxes\n"
     ]
    }
   ],
   "source": [
    "# Allowing an unknown / variable number of arguments:\n",
    "\n",
    "def legion(*UK_args):\n",
    "    print(f\"Number of arguments is {len(UK_args)}\")\n",
    "    for todos in UK_args:\n",
    "        print(todos)\n",
    "\n",
    "legion(\"Ares\",\"Zeus\",\"Mardok\")\n",
    "legion(\"Hermes\",\"Hera\",\"Chronos\",\"Xerxes\")"
   ]
  },
  {
   "cell_type": "code",
   "execution_count": 100,
   "id": "d3c1c128-304b-4524-a710-e0ec935b7ca7",
   "metadata": {},
   "outputs": [
    {
     "name": "stdout",
     "output_type": "stream",
     "text": [
      "The count is 23\n",
      "1\n",
      "2\n",
      "3\n",
      "4\n",
      "5\n",
      "5\n",
      "6\n",
      "6\n",
      "6\n",
      "6\n",
      "6\n",
      "7\n",
      "7\n",
      "8\n",
      "8\n",
      "9\n",
      "11\n",
      "13\n",
      "14\n",
      "14\n",
      "15\n",
      "16\n",
      "18\n"
     ]
    }
   ],
   "source": [
    "# This could be packaged as a \"get count\" type function\n",
    "\n",
    "def getcount(*args):\n",
    "    print(f\"The count is {len(args)}\")\n",
    "    for everything in args:\n",
    "        print(everything)\n",
    "\n",
    "getcount(1,2,3,4,5,5,6,6,6,6,6,7,7,8,8,9,11,13,14,14,15,16,18) # load the list here and it will count them"
   ]
  },
  {
   "cell_type": "code",
   "execution_count": 108,
   "id": "1c75d296-d0ac-49c9-b668-d3331fb847ae",
   "metadata": {},
   "outputs": [
    {
     "name": "stdout",
     "output_type": "stream",
     "text": [
      "place:here\n",
      "time:now\n",
      "who:you\n"
     ]
    }
   ],
   "source": [
    "# Pack and print previously undetermined number of arguments into a dictionary:\n",
    "def dictionarytopack(**argmts):\n",
    "    for keys in argmts:\n",
    "        print(keys + \":\" + argmts[keys])\n",
    "\n",
    "dictionarytopack(place='here',time='now',who='you')"
   ]
  },
  {
   "cell_type": "markdown",
   "id": "b71d4c46-425f-48d3-8689-00860bbb713a",
   "metadata": {},
   "source": [
    "# Homework"
   ]
  },
  {
   "cell_type": "code",
   "execution_count": 110,
   "id": "5e317bd3-2b46-4b73-acb9-68cc4d6176fa",
   "metadata": {},
   "outputs": [
    {
     "data": {
      "text/plain": [
       "10.0"
      ]
     },
     "execution_count": 110,
     "metadata": {},
     "output_type": "execute_result"
    }
   ],
   "source": [
    "def DIV(Aa,Bb):\n",
    "    Cc=Aa/Bb\n",
    "    return(Cc)\n",
    "DIV(100,10)"
   ]
  },
  {
   "cell_type": "code",
   "execution_count": 112,
   "id": "998e1b2d-fa76-49f5-a136-f824a0db840d",
   "metadata": {},
   "outputs": [
    {
     "data": {
      "text/plain": [
       "10.0"
      ]
     },
     "execution_count": 112,
     "metadata": {},
     "output_type": "execute_result"
    }
   ],
   "source": [
    "#Shorter version\n",
    "\n",
    "def DIV(aaa,bbb):\n",
    "    return(aaa/bbb)\n",
    "DIV(100,10)"
   ]
  },
  {
   "cell_type": "code",
   "execution_count": 116,
   "id": "8e1489fe-e1fb-469f-8aaf-e42ca3fd287c",
   "metadata": {},
   "outputs": [
    {
     "name": "stdout",
     "output_type": "stream",
     "text": [
      "10.0 :D\n"
     ]
    }
   ],
   "source": [
    "#Though here's an even shorter version haha:\n",
    "\n",
    "100/10\n",
    "print(100/10,\":D\")"
   ]
  },
  {
   "cell_type": "code",
   "execution_count": 120,
   "id": "c76c28e6-7ea3-4a46-a80c-21fe9b45174e",
   "metadata": {},
   "outputs": [
    {
     "data": {
      "text/plain": [
       "4"
      ]
     },
     "execution_count": 120,
     "metadata": {},
     "output_type": "execute_result"
    }
   ],
   "source": [
    "def con(a,b):\n",
    "    return(a+b)\n",
    "con(2,2)"
   ]
  },
  {
   "cell_type": "code",
   "execution_count": 121,
   "id": "50245bcf-cfa3-4c15-93f9-7e1e87d14e9c",
   "metadata": {},
   "outputs": [
    {
     "data": {
      "text/plain": [
       "\"I'm a happy snowman.\""
      ]
     },
     "execution_count": 121,
     "metadata": {},
     "output_type": "execute_result"
    }
   ],
   "source": [
    "def join(a,b):\n",
    "    return(a+b)\n",
    "join(\"I'm a\",\" happy snowman.\")"
   ]
  },
  {
   "cell_type": "code",
   "execution_count": 123,
   "id": "27f99fab-86e8-4304-8c47-ea34770ab7fb",
   "metadata": {},
   "outputs": [
    {
     "data": {
      "text/plain": [
       "['h', 57, 'over', 98, 'go', 4, 5, 't99', 64]"
      ]
     },
     "execution_count": 123,
     "metadata": {},
     "output_type": "execute_result"
    }
   ],
   "source": [
    "listy=['h',57,'over',98,'go']\n",
    "listy2=[4,5,'t99',64]\n",
    "\n",
    "join(listy,listy2)"
   ]
  },
  {
   "cell_type": "code",
   "execution_count": 124,
   "id": "dc75d5af-0ab1-4685-9cac-ff8b0a3ead3e",
   "metadata": {},
   "outputs": [
    {
     "name": "stdout",
     "output_type": "stream",
     "text": [
      "Total count: {'hey': 3}\n"
     ]
    }
   ],
   "source": [
    "#Finding a given word count in a string\n",
    "\n",
    "def findword(texttosplit,searchkey):\n",
    "    openlist=[]\n",
    "    openlist=text.split()\n",
    "    Dictionario={}\n",
    "    for i in openlist:\n",
    "        if(i==searchkey):\n",
    "            Dictionario[i]=openlist.count(i)\n",
    "    print(\"Total count:\",Dictionario)\n",
    "\n",
    "findword(\"hey heya heya hey heya heya hey heya heya\",\"hey\")"
   ]
  }
 ],
 "metadata": {
  "kernelspec": {
   "display_name": "Python 3 (ipykernel)",
   "language": "python",
   "name": "python3"
  },
  "language_info": {
   "codemirror_mode": {
    "name": "ipython",
    "version": 3
   },
   "file_extension": ".py",
   "mimetype": "text/x-python",
   "name": "python",
   "nbconvert_exporter": "python",
   "pygments_lexer": "ipython3",
   "version": "3.12.7"
  }
 },
 "nbformat": 4,
 "nbformat_minor": 5
}
