{
 "cells": [
  {
   "cell_type": "code",
   "execution_count": 2,
   "id": "048ea226-d44b-4673-b0d1-5262c55994a2",
   "metadata": {},
   "outputs": [
    {
     "data": {
      "text/plain": [
       "('Example1.txt', <http.client.HTTPMessage at 0x2679a5249e0>)"
      ]
     },
     "execution_count": 2,
     "metadata": {},
     "output_type": "execute_result"
    }
   ],
   "source": [
    "# Download a file from url (JupyterLite / pyodide route)\n",
    "import urllib.request\n",
    "url = 'https://cf-courses-data.s3.us.cloud-object-storage.appdomain.cloud/IBMDeveloperSkillsNetwork-PY0101EN-SkillsNetwork/labs/Module%204/data/example1.txt'\n",
    "filename = 'Example1.txt'\n",
    "urllib.request.urlretrieve(url, filename)\n",
    "\n",
    "from pyodide.http import pyfetch\n",
    "\n",
    "import pandas as pd\n",
    "\n",
    "filename = \"https://cf-courses-data.s3.us.cloud-object-storage.appdomain.cloud/IBMDeveloperSkillsNetwork-PY0101EN-SkillsNetwork/labs/Module%204/data/example1.txt\"\n",
    "\n",
    "async def download(url, filename):\n",
    "\n",
    "    response = await pyfetch(url)\n",
    "\n",
    "    if response.status == 200:\n",
    "\n",
    "        with open(filename, \"wb\") as f:\n",
    "\n",
    "            f.write(await response.bytes())\n",
    "\n",
    "await download(filename, \"example1.txt\")\n",
    "\n",
    "print(\"done\")\n",
    "\n",
    "# Download Example file\n",
    "#!wget Example1.txt https://cf-courses-data.s3.us.cloud-object-storage.appdomain.cloud/IBMDeveloperSkillsNetwork-PY0101EN-SkillsNetwork/labs/Module%204/data/example1.txt"
   ]
  },
  {
   "cell_type": "code",
   "execution_count": 7,
   "id": "76008a7e-8ed6-4def-b77a-58720ec692b4",
   "metadata": {
    "scrolled": true
   },
   "outputs": [
    {
     "name": "stdout",
     "output_type": "stream",
     "text": [
      "Attempting to download from: https://cf-courses-data.s3.us.cloud-object-storage.appdomain.cloud/IBMDeveloperSkillsNetwork-PY0101EN-SkillsNetwork/labs/Module%204/data/example1.txt\n",
      "File 'example1.txt' downloaded successfully using requests.get().\n",
      "Done.\n"
     ]
    }
   ],
   "source": [
    "#For Jupyter Notebook that doesn't support pyodide / pyfetch, you can just do this:\n",
    "\n",
    "import requests\n",
    "import os # Import os module for path manipulation\n",
    "\n",
    "# The URL of the file you want to download\n",
    "url = \"https://cf-courses-data.s3.us.cloud-object-storage.appdomain.cloud/IBMDeveloperSkillsNetwork-PY0101EN-SkillsNetwork/labs/Module%204/data/example1.txt\"\n",
    "\n",
    "# The desired filename to save the downloaded file as\n",
    "# You can extract the filename from the URL, or give it a custom name\n",
    "filename = \"example1.txt\"\n",
    "\n",
    "# --- Option 1: Using requests.get() and writing to file ---\n",
    "try:\n",
    "    print(f\"Attempting to download from: {url}\")\n",
    "    response = requests.get(url)\n",
    "\n",
    "    # Check if the request was successful (status code 200)\n",
    "    response.raise_for_status() # This will raise an HTTPError for bad responses (4xx or 5xx)\n",
    "\n",
    "    # Open the file in binary write mode ('wb')\n",
    "    with open(filename, 'wb') as f:\n",
    "        f.write(response.content) # response.content holds the binary content of the file\n",
    "    print(f\"File '{filename}' downloaded successfully using requests.get().\")\n",
    "\n",
    "except requests.exceptions.RequestException as e:\n",
    "    print(f\"An error occurred during download: {e}\")\n",
    "except Exception as e:\n",
    "    print(f\"An unexpected error occurred: {e}\")\n",
    "\n",
    "print(\"Done.\")\n",
    "\n",
    "# --- Option 2: Using urllib.request.urlretrieve (as previously discussed) ---\n",
    "# This is also a valid alternative if you don't want to use 'requests'\n",
    "# import urllib.request\n",
    "\n",
    "# url_urllib = \"https://cf-courses-data.s3.us.cloud-object-storage.appdomain.cloud/IBMDeveloperSkillsNetwork-PY0101EN-SkillsNetwork/labs/Module%204/data/example1.txt\"\n",
    "# filename_urllib = \"example1_urllib.txt\"\n",
    "\n",
    "# try:\n",
    "#     print(f\"\\nAttempting to download from: {url_urllib} using urllib.request.urlretrieve.\")\n",
    "#     urllib.request.urlretrieve(url_urllib, filename_urllib)\n",
    "#     print(f\"File '{filename_urllib}' downloaded successfully using urllib.request.urlretrieve.\")\n",
    "# except Exception as e:\n",
    "#     print(f\"An error occurred during download with urllib: {e}\")"
   ]
  },
  {
   "cell_type": "code",
   "execution_count": 12,
   "id": "85417050-9c01-4663-bf8d-51afd77d8380",
   "metadata": {},
   "outputs": [],
   "source": [
    "import pandas as pd"
   ]
  },
  {
   "cell_type": "code",
   "execution_count": 13,
   "id": "236e7607-e2f1-4379-87fa-9a0f7244c041",
   "metadata": {},
   "outputs": [],
   "source": [
    "example1=\"example1.txt\"\n",
    "file1=open(example1,'r')"
   ]
  },
  {
   "cell_type": "code",
   "execution_count": 14,
   "id": "6774861f-fcbe-4dcf-9069-a8c80ff1109f",
   "metadata": {},
   "outputs": [
    {
     "data": {
      "text/plain": [
       "'example1.txt'"
      ]
     },
     "execution_count": 14,
     "metadata": {},
     "output_type": "execute_result"
    }
   ],
   "source": [
    "file1.name"
   ]
  },
  {
   "cell_type": "code",
   "execution_count": 15,
   "id": "ebf83d2f-8f1c-411a-9dd2-70c65c87b792",
   "metadata": {},
   "outputs": [
    {
     "data": {
      "text/plain": [
       "'r'"
      ]
     },
     "execution_count": 15,
     "metadata": {},
     "output_type": "execute_result"
    }
   ],
   "source": [
    "file1.mode"
   ]
  },
  {
   "cell_type": "code",
   "execution_count": 16,
   "id": "8cacaac8-5115-48c6-8256-84ebfee171fd",
   "metadata": {},
   "outputs": [
    {
     "data": {
      "text/plain": [
       "'This is line 1 \\nThis is line 2\\nThis is line 3'"
      ]
     },
     "execution_count": 16,
     "metadata": {},
     "output_type": "execute_result"
    }
   ],
   "source": [
    "FileContent=file1.read()\n",
    "FileContent"
   ]
  },
  {
   "cell_type": "code",
   "execution_count": 17,
   "id": "15c94ae0-2159-4b81-8f9b-a8885e1c8a9c",
   "metadata": {},
   "outputs": [
    {
     "name": "stdout",
     "output_type": "stream",
     "text": [
      "This is line 1 \n",
      "This is line 2\n",
      "This is line 3\n"
     ]
    }
   ],
   "source": [
    "print(FileContent)"
   ]
  },
  {
   "cell_type": "code",
   "execution_count": 19,
   "id": "142980dc-cb4b-4a34-89ed-47c4ac7035d3",
   "metadata": {},
   "outputs": [
    {
     "data": {
      "text/plain": [
       "str"
      ]
     },
     "execution_count": 19,
     "metadata": {},
     "output_type": "execute_result"
    }
   ],
   "source": [
    "type(FileContent)\n",
    "#Shows that this is string data"
   ]
  },
  {
   "cell_type": "code",
   "execution_count": 20,
   "id": "18a061c4-e2c8-424a-b352-74dc7162316f",
   "metadata": {
    "jupyter": {
     "source_hidden": true
    }
   },
   "outputs": [],
   "source": [
    "file1.close()"
   ]
  },
  {
   "cell_type": "markdown",
   "id": "4deaae42-cc46-429d-91f7-e3c09c3a2b31",
   "metadata": {},
   "source": [
    "# And we learned all that only to refute it!"
   ]
  },
  {
   "cell_type": "code",
   "execution_count": 21,
   "id": "1f9c08a3-88b1-463b-bf83-147d76d927ed",
   "metadata": {},
   "outputs": [
    {
     "name": "stdout",
     "output_type": "stream",
     "text": [
      "This is line 1 \n",
      "This is line 2\n",
      "This is line 3\n"
     ]
    }
   ],
   "source": [
    "#Better way to open a file\n",
    "\n",
    "with open(example1,'r') as file1:\n",
    "    FileContent=file1.read()\n",
    "    print(FileContent)"
   ]
  },
  {
   "cell_type": "code",
   "execution_count": 22,
   "id": "53f4baab-444c-47db-aa33-2ba0f4738573",
   "metadata": {},
   "outputs": [
    {
     "data": {
      "text/plain": [
       "True"
      ]
     },
     "execution_count": 22,
     "metadata": {},
     "output_type": "execute_result"
    }
   ],
   "source": [
    "#Verify if the file is closed\n",
    "\n",
    "file1.closed"
   ]
  },
  {
   "cell_type": "code",
   "execution_count": 23,
   "id": "999e504d-ac86-433a-85c1-d7073f5a5d98",
   "metadata": {},
   "outputs": [
    {
     "name": "stdout",
     "output_type": "stream",
     "text": [
      "This is line 1 \n",
      "This is line 2\n",
      "This is line 3\n"
     ]
    }
   ],
   "source": [
    "# See content of file\n",
    "\n",
    "print(FileContent)"
   ]
  },
  {
   "cell_type": "code",
   "execution_count": 24,
   "id": "0d78f52f-0099-4aac-aefa-6b4629fa2233",
   "metadata": {},
   "outputs": [
    {
     "name": "stdout",
     "output_type": "stream",
     "text": [
      "This\n"
     ]
    }
   ],
   "source": [
    "# Read first four characters\n",
    "\n",
    "with open(example1,'r')as file1:\n",
    "    print(file1.read(4))"
   ]
  },
  {
   "cell_type": "code",
   "execution_count": 27,
   "id": "04a9b4a5-f809-497c-a26b-1ec077435739",
   "metadata": {},
   "outputs": [
    {
     "name": "stdout",
     "output_type": "stream",
     "text": [
      "This\n",
      " is \n",
      "line 1 \n",
      "\n",
      "This is line 2\n"
     ]
    }
   ],
   "source": [
    "# Read N (next) characters\n",
    "\n",
    "with open(example1,'r') as file1:\n",
    "    print(file1.read(4))\n",
    "    print(file1.read(4))\n",
    "    print(file1.read(7))\n",
    "    print(file1.read(15))"
   ]
  },
  {
   "cell_type": "code",
   "execution_count": 28,
   "id": "3603f0f9-bc4d-4054-89ec-661a531365c1",
   "metadata": {},
   "outputs": [
    {
     "name": "stdout",
     "output_type": "stream",
     "text": [
      "This is line 1 \n",
      "\n",
      "This \n",
      "is line 2\n"
     ]
    }
   ],
   "source": [
    "with open(example1, \"r\") as file1:\n",
    "    print(file1.read(16))\n",
    "    print(file1.read(5))\n",
    "    print(file1.read(9))"
   ]
  },
  {
   "cell_type": "code",
   "execution_count": 29,
   "id": "a6376c3e-0309-4bb7-9754-7507a848a20c",
   "metadata": {},
   "outputs": [
    {
     "name": "stdout",
     "output_type": "stream",
     "text": [
      "first line: This is line 1 \n",
      "\n"
     ]
    }
   ],
   "source": [
    "# Read one line with 'readline()'\n",
    "\n",
    "with open(example1,'r') as file1:\n",
    "    print('first line: '+file1.readline())"
   ]
  },
  {
   "cell_type": "code",
   "execution_count": 31,
   "id": "c6c1b8a6-ffc9-4647-aa3b-6f00aa499406",
   "metadata": {},
   "outputs": [
    {
     "name": "stdout",
     "output_type": "stream",
     "text": [
      "Iteration 0 :  This is line 1 \n",
      "\n",
      "Iteration 1 :  This is line 2\n",
      "\n",
      "Iteration 2 :  This is line 3\n"
     ]
    }
   ],
   "source": [
    "# Iterate through lines and print\n",
    "\n",
    "with open(example1,'r')as file1:\n",
    "    i=0 #iterate starting from 0 (first position)\n",
    "    for line in file1: #define new thing 'line' that is the result of the loop\n",
    "        print('Iteration',str(i),': ',line) #What we will do\n",
    "        i=i+1 #Move to next position and do it again"
   ]
  },
  {
   "cell_type": "code",
   "execution_count": 33,
   "id": "4608f1ed-86f7-4a17-9ac0-504ae57f7048",
   "metadata": {},
   "outputs": [],
   "source": [
    "# Read all lines and save as a list\n",
    "\n",
    "with open(example1,'r') as file1:\n",
    "    FileasList=file1.readlines()"
   ]
  },
  {
   "cell_type": "code",
   "execution_count": 34,
   "id": "fef8497d-fa08-4f0a-92c9-c9dbcf734849",
   "metadata": {},
   "outputs": [
    {
     "data": {
      "text/plain": [
       "['This is line 1 \\n', 'This is line 2\\n', 'This is line 3']"
      ]
     },
     "execution_count": 34,
     "metadata": {},
     "output_type": "execute_result"
    }
   ],
   "source": [
    "FileasList"
   ]
  },
  {
   "cell_type": "code",
   "execution_count": 35,
   "id": "b040c6d8-3202-458e-bef6-ed69fe8389f0",
   "metadata": {},
   "outputs": [
    {
     "data": {
      "text/plain": [
       "'This is line 1 \\n'"
      ]
     },
     "execution_count": 35,
     "metadata": {},
     "output_type": "execute_result"
    }
   ],
   "source": [
    "# Print the first line\n",
    "\n",
    "FileasList[0]"
   ]
  },
  {
   "cell_type": "code",
   "execution_count": 36,
   "id": "71ada23d-2169-4b46-80c7-96617d8b1574",
   "metadata": {},
   "outputs": [
    {
     "data": {
      "text/plain": [
       "'This is line 2\\n'"
      ]
     },
     "execution_count": 36,
     "metadata": {},
     "output_type": "execute_result"
    }
   ],
   "source": [
    "# Print the second line\n",
    "\n",
    "FileasList[1]"
   ]
  },
  {
   "cell_type": "code",
   "execution_count": 37,
   "id": "c8242719-a7d2-4f9e-a536-7fa0e53a3043",
   "metadata": {},
   "outputs": [
    {
     "data": {
      "text/plain": [
       "'This is line 3'"
      ]
     },
     "execution_count": 37,
     "metadata": {},
     "output_type": "execute_result"
    }
   ],
   "source": [
    "# Print the third line\n",
    "\n",
    "FileasList[2]"
   ]
  },
  {
   "cell_type": "markdown",
   "id": "6b6a9ffe-d8ef-4fcf-abfb-e04a6a86a272",
   "metadata": {},
   "source": [
    "# Decision tree on when, while, for, if elsif else:\n",
    "## 1] Are you interacting with a resource (like a file, network connection, or lock) that needs to be properly set up and then guaranteed to be cleaned up/closed afterward, even if errors occur?\n",
    "YES → Use with (This is for context management and safe resource handling.)\n",
    "\n",
    "## 2] If NO (you're not primarily using a managed resource), do you need to repeat a block of code (loop)?\n",
    "YES → Go to step 3.\n",
    "NO → You likely need if/elif/else for decision-making, or just sequential code execution. (No loop needed).\n",
    "\n",
    "## 3] To repeat the code, do you know exactly how many times you need to repeat it, or are you going through each item in a known collection (like a list, string, or range of numbers)?\n",
    "YES → Use for (This is for \"definite iteration\" – you know when it starts and when it will    end, typically based on the size of a collection.)\n",
    "\n",
    "## 4] If NO (meaning you don't know exactly how many times, but you need to keep going as long as a certain condition remains true)?\n",
    "YES → Use while (This is for \"indefinite iteration\" – the loop continues until a specific    condition becomes false.)"
   ]
  }
 ],
 "metadata": {
  "kernelspec": {
   "display_name": "Python 3 (ipykernel)",
   "language": "python",
   "name": "python3"
  },
  "language_info": {
   "codemirror_mode": {
    "name": "ipython",
    "version": 3
   },
   "file_extension": ".py",
   "mimetype": "text/x-python",
   "name": "python",
   "nbconvert_exporter": "python",
   "pygments_lexer": "ipython3",
   "version": "3.12.7"
  }
 },
 "nbformat": 4,
 "nbformat_minor": 5
}
