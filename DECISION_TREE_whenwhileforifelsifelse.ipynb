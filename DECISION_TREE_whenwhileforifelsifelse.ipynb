{
 "cells": [
  {
   "cell_type": "markdown",
   "id": "e8349aa2-28e1-4dac-ad8f-46211335c5be",
   "metadata": {},
   "source": [
    "# Decision tree on when, while, for, if elsif else:\n",
    "## 1] Are you interacting with a resource (like a file, network connection, or lock) that needs to be properly set up and then guaranteed to be cleaned up/closed afterward, even if errors occur?\n",
    "YES → Use with (This is for context management and safe resource handling.)\n",
    "\n",
    "## 2] If NO (you're not primarily using a managed resource), do you need to repeat a block of code (loop)?\n",
    "YES → Go to step 3.\n",
    "NO → You likely need if/elif/else for decision-making, or just sequential code execution. (No loop needed).\n",
    "\n",
    "## 3] To repeat the code, do you know exactly how many times you need to repeat it, or are you going through each item in a known collection (like a list, string, or range of numbers)?\n",
    "YES → Use for (This is for \"definite iteration\" – you know when it starts and when it will    end, typically based on the size of a collection.)\n",
    "\n",
    "## 4] If NO (meaning you don't know exactly how many times, but you need to keep going as long as a certain condition remains true)?\n",
    "YES → Use while (This is for \"indefinite iteration\" – the loop continues until a specific    condition becomes false.)"
   ]
  }
 ],
 "metadata": {
  "kernelspec": {
   "display_name": "Python 3 (ipykernel)",
   "language": "python",
   "name": "python3"
  },
  "language_info": {
   "codemirror_mode": {
    "name": "ipython",
    "version": 3
   },
   "file_extension": ".py",
   "mimetype": "text/x-python",
   "name": "python",
   "nbconvert_exporter": "python",
   "pygments_lexer": "ipython3",
   "version": "3.12.7"
  }
 },
 "nbformat": 4,
 "nbformat_minor": 5
}
