{
  "metadata": {
    "kernelspec": {
      "name": "python",
      "display_name": "Python (Pyodide)",
      "language": "python"
    },
    "language_info": {
      "codemirror_mode": {
        "name": "python",
        "version": 3
      },
      "file_extension": ".py",
      "mimetype": "text/x-python",
      "name": "python",
      "nbconvert_exporter": "python",
      "pygments_lexer": "ipython3",
      "version": "3.8"
    }
  },
  "nbformat_minor": 5,
  "nbformat": 4,
  "cells": [
    {
      "id": "bed8edf5-e06a-46ba-8cee-fbdb1e092b38",
      "cell_type": "code",
      "source": "#Create a dictionary\n\nDict = {\"SILLY\":\"Horrible\",\"OK\":\"No! Why? No!\",\"DATE\":4.25,\"LISTIE\":[1,2,3]}\nDict",
      "metadata": {
        "trusted": true
      },
      "outputs": [
        {
          "execution_count": 1,
          "output_type": "execute_result",
          "data": {
            "text/plain": "{'SILLY': 'Horrible', 'OK': 'No! Why? No!', 'DATE': 4.25, 'LISTIE': [1, 2, 3]}"
          },
          "metadata": {}
        }
      ],
      "execution_count": 1
    },
    {
      "id": "20964599-a792-456e-a9cc-05692a90cfb3",
      "cell_type": "code",
      "source": "# Keys can be immutable objects, including tuples\n\nLKR = {(4,12,38):\"Locker1\",(32,18,6):\"Locker2\",(8,7,91):\"Locker3\"}\nLKR",
      "metadata": {
        "trusted": true
      },
      "outputs": [
        {
          "execution_count": 7,
          "output_type": "execute_result",
          "data": {
            "text/plain": "{(4, 12, 38): 'Locker1', (32, 18, 6): 'Locker2', (8, 7, 91): 'Locker3'}"
          },
          "metadata": {}
        }
      ],
      "execution_count": 7
    },
    {
      "id": "9c02bf93-a7ed-4090-8f6b-621502c61d2a",
      "cell_type": "code",
      "source": "# Break key/entry pairs onto different lines\n\nrelease_year_dict = {\"Thriller\": \"1982\", \"Back in Black\": \"1980\", \\\n                    \"The Dark Side of the Moon\": \"1973\", \"The Bodyguard\": \"1992\", \\\n                    \"Bat Out of Hell\": \"1977\", \"Their Greatest Hits (1971-1975)\": \"1976\", \\\n                    \"Saturday Night Fever\": \"1977\", \"Rumours\": \"1977\"}\nrelease_year_dict",
      "metadata": {
        "trusted": true
      },
      "outputs": [
        {
          "execution_count": 8,
          "output_type": "execute_result",
          "data": {
            "text/plain": "{'Thriller': '1982',\n 'Back in Black': '1980',\n 'The Dark Side of the Moon': '1973',\n 'The Bodyguard': '1992',\n 'Bat Out of Hell': '1977',\n 'Their Greatest Hits (1971-1975)': '1976',\n 'Saturday Night Fever': '1977',\n 'Rumours': '1977'}"
          },
          "metadata": {}
        }
      ],
      "execution_count": 8
    },
    {
      "id": "0d000096-6ad3-46bb-9a08-fc8c3fa45bcc",
      "cell_type": "code",
      "source": "#Look up entry by key\n\nLKR[(4,12,38)]",
      "metadata": {
        "trusted": true
      },
      "outputs": [
        {
          "execution_count": 9,
          "output_type": "execute_result",
          "data": {
            "text/plain": "'Locker1'"
          },
          "metadata": {}
        }
      ],
      "execution_count": 9
    },
    {
      "id": "3e2ccdbb-77c9-45f5-b4c3-c350cec1ff55",
      "cell_type": "markdown",
      "source": "## \"haha! Would have made more sense to do locker # as the key, and then the combo as the entry! Lol!\"",
      "metadata": {}
    },
    {
      "id": "a251fafa-8f57-4988-a9cc-7840c5488b43",
      "cell_type": "code",
      "source": "LKRS = {1:(4,16,38),2:(19,11,45),3:(61,38,8),4:(12,3,22),5:(19,84,11)}\nLKRS",
      "metadata": {
        "trusted": true
      },
      "outputs": [
        {
          "execution_count": 12,
          "output_type": "execute_result",
          "data": {
            "text/plain": "{1: (4, 16, 38),\n 2: (19, 11, 45),\n 3: (61, 38, 8),\n 4: (12, 3, 22),\n 5: (19, 84, 11)}"
          },
          "metadata": {}
        }
      ],
      "execution_count": 12
    },
    {
      "id": "da8ec2c5-606b-44c3-b70a-3002d4c1be6c",
      "cell_type": "code",
      "source": "#That's better!\n\nLKRS[4]",
      "metadata": {
        "trusted": true
      },
      "outputs": [
        {
          "execution_count": 13,
          "output_type": "execute_result",
          "data": {
            "text/plain": "(12, 3, 22)"
          },
          "metadata": {}
        }
      ],
      "execution_count": 13
    },
    {
      "id": "3b60b515-10d4-40c3-b5f2-2dbb29246c3b",
      "cell_type": "code",
      "source": "#Hey. What's the combo for locker #2?\n\nLKRS[2]",
      "metadata": {
        "trusted": true
      },
      "outputs": [
        {
          "execution_count": 14,
          "output_type": "execute_result",
          "data": {
            "text/plain": "(19, 11, 45)"
          },
          "metadata": {}
        }
      ],
      "execution_count": 14
    },
    {
      "id": "a74531e9-77ae-4114-8fe4-6be0a269b6e9",
      "cell_type": "code",
      "source": "#4?\n\nLKRS[4]",
      "metadata": {
        "trusted": true
      },
      "outputs": [
        {
          "execution_count": 15,
          "output_type": "execute_result",
          "data": {
            "text/plain": "(12, 3, 22)"
          },
          "metadata": {}
        }
      ],
      "execution_count": 15
    },
    {
      "id": "1eaced01-7afc-410e-aa51-672ddb841a1b",
      "cell_type": "code",
      "source": "#What about 3?\n\nLKRS[3]",
      "metadata": {
        "trusted": true
      },
      "outputs": [
        {
          "execution_count": 16,
          "output_type": "execute_result",
          "data": {
            "text/plain": "(61, 38, 8)"
          },
          "metadata": {}
        }
      ],
      "execution_count": 16
    },
    {
      "id": "ff064950-6883-4bae-b12d-efd0057d6286",
      "cell_type": "code",
      "source": "#1?\n\nLKRS[1]",
      "metadata": {
        "trusted": true
      },
      "outputs": [
        {
          "execution_count": 17,
          "output_type": "execute_result",
          "data": {
            "text/plain": "(4, 16, 38)"
          },
          "metadata": {}
        }
      ],
      "execution_count": 17
    },
    {
      "id": "2bb4e16b-a3df-4e38-ba9e-9ce325e7da55",
      "cell_type": "code",
      "source": "#What about 5?\n\nLKRS[5]",
      "metadata": {
        "trusted": true
      },
      "outputs": [
        {
          "execution_count": 18,
          "output_type": "execute_result",
          "data": {
            "text/plain": "(19, 84, 11)"
          },
          "metadata": {}
        }
      ],
      "execution_count": 18
    },
    {
      "id": "3fcad77e-fc5f-4790-bb45-64385809003d",
      "cell_type": "code",
      "source": "# get all values in a dictionary\n\nLKRS.values()",
      "metadata": {
        "trusted": true
      },
      "outputs": [
        {
          "execution_count": 19,
          "output_type": "execute_result",
          "data": {
            "text/plain": "dict_values([(4, 16, 38), (19, 11, 45), (61, 38, 8), (12, 3, 22), (19, 84, 11)])"
          },
          "metadata": {}
        }
      ],
      "execution_count": 19
    },
    {
      "id": "21a3a8bd-7f47-4bb6-b7ce-2141cacfb81b",
      "cell_type": "code",
      "source": "#Add an entry: Dictionary_name[KEY] = entry\n\nLKRS[6] = (4,88,7)\nLKRS",
      "metadata": {
        "trusted": true
      },
      "outputs": [
        {
          "execution_count": 20,
          "output_type": "execute_result",
          "data": {
            "text/plain": "{1: (4, 16, 38),\n 2: (19, 11, 45),\n 3: (61, 38, 8),\n 4: (12, 3, 22),\n 5: (19, 84, 11),\n 6: (4, 88, 7)}"
          },
          "metadata": {}
        }
      ],
      "execution_count": 20
    },
    {
      "id": "ad3cb830-9817-460e-8752-d2cb70a04de7",
      "cell_type": "code",
      "source": "#Delete entries by their key\n\ndel(LKRS[1])\ndel(LKRS[4])\nLKRS",
      "metadata": {
        "trusted": true
      },
      "outputs": [
        {
          "execution_count": 21,
          "output_type": "execute_result",
          "data": {
            "text/plain": "{2: (19, 11, 45), 3: (61, 38, 8), 5: (19, 84, 11), 6: (4, 88, 7)}"
          },
          "metadata": {}
        }
      ],
      "execution_count": 21
    },
    {
      "id": "859afe00-623b-4be2-a460-b65d9bd78646",
      "cell_type": "code",
      "source": "LKRS[1] = (32,1,11)\nLKRS[4] = (6,18,41)\nLKRS",
      "metadata": {
        "trusted": true
      },
      "outputs": [
        {
          "execution_count": 24,
          "output_type": "execute_result",
          "data": {
            "text/plain": "{2: (19, 11, 45),\n 3: (61, 38, 8),\n 5: (19, 84, 11),\n 6: (4, 88, 7),\n 1: (32, 1, 11),\n 4: (6, 18, 41)}"
          },
          "metadata": {}
        }
      ],
      "execution_count": 24
    },
    {
      "id": "bc26228f-6b4d-4c69-b27b-e2af9daa7c79",
      "cell_type": "code",
      "source": "#Get all keys\n\nLKRS.keys()",
      "metadata": {
        "trusted": true
      },
      "outputs": [
        {
          "execution_count": 25,
          "output_type": "execute_result",
          "data": {
            "text/plain": "dict_keys([2, 3, 5, 6, 1, 4])"
          },
          "metadata": {}
        }
      ],
      "execution_count": 25
    },
    {
      "id": "4d4df180-693f-4310-b88c-0e7386373316",
      "cell_type": "code",
      "source": "#Get all values\n\nLKRS.values()",
      "metadata": {
        "trusted": true
      },
      "outputs": [
        {
          "execution_count": 26,
          "output_type": "execute_result",
          "data": {
            "text/plain": "dict_values([(19, 11, 45), (61, 38, 8), (19, 84, 11), (4, 88, 7), (32, 1, 11), (6, 18, 41)])"
          },
          "metadata": {}
        }
      ],
      "execution_count": 26
    },
    {
      "id": "7ca0e30d-0cfd-4fd5-8e2c-5c9ec9018202",
      "cell_type": "code",
      "source": "#Verify a key is in a dictionary\n\n1 in LKRS",
      "metadata": {
        "trusted": true
      },
      "outputs": [
        {
          "execution_count": 27,
          "output_type": "execute_result",
          "data": {
            "text/plain": "True"
          },
          "metadata": {}
        }
      ],
      "execution_count": 27
    },
    {
      "id": "f0177deb-d48a-4f7c-a90a-368d6d33ba6e",
      "cell_type": "markdown",
      "source": "# HOMEWORK!",
      "metadata": {}
    },
    {
      "id": "de60d20e-ede3-48be-9735-86d418618bdd",
      "cell_type": "code",
      "source": "# Question sample dictionary\n\nsoundtrack_dic = {\"The Bodyguard\":\"1992\", \"Saturday Night Fever\":\"1977\"}\nsoundtrack_dic ",
      "metadata": {
        "trusted": true
      },
      "outputs": [
        {
          "execution_count": 28,
          "output_type": "execute_result",
          "data": {
            "text/plain": "{'The Bodyguard': '1992', 'Saturday Night Fever': '1977'}"
          },
          "metadata": {}
        }
      ],
      "execution_count": 28
    },
    {
      "id": "1b8bced0-fa9e-4ed4-b154-5126074f5f4a",
      "cell_type": "code",
      "source": "soundtrack_dic.keys()",
      "metadata": {
        "trusted": true
      },
      "outputs": [
        {
          "execution_count": 30,
          "output_type": "execute_result",
          "data": {
            "text/plain": "dict_keys(['The Bodyguard', 'Saturday Night Fever'])"
          },
          "metadata": {}
        }
      ],
      "execution_count": 30
    },
    {
      "id": "d454e1af-4339-48cf-9be9-079c4d781de1",
      "cell_type": "code",
      "source": "soundtrack_dic.values()",
      "metadata": {
        "trusted": true
      },
      "outputs": [
        {
          "execution_count": 32,
          "output_type": "execute_result",
          "data": {
            "text/plain": "dict_values(['1992', '1977'])"
          },
          "metadata": {}
        }
      ],
      "execution_count": 32
    },
    {
      "id": "ee310d91-1cde-42c7-8a2b-ab74e984ba40",
      "cell_type": "code",
      "source": "album_sales_dict = {\"Back in Black\":50,\"The Bodyguard\":50,\"Thriller\":65}\nalbum_sales_dict",
      "metadata": {
        "trusted": true
      },
      "outputs": [
        {
          "execution_count": 33,
          "output_type": "execute_result",
          "data": {
            "text/plain": "{'Back in Black': 50, 'The Bodyguard': 50, 'Thriller': 65}"
          },
          "metadata": {}
        }
      ],
      "execution_count": 33
    },
    {
      "id": "04e62eca-43e0-4c0c-aa52-af25adb0d143",
      "cell_type": "code",
      "source": "album_sales_dict[\"Thriller\"]",
      "metadata": {
        "trusted": true
      },
      "outputs": [
        {
          "execution_count": 34,
          "output_type": "execute_result",
          "data": {
            "text/plain": "65"
          },
          "metadata": {}
        }
      ],
      "execution_count": 34
    },
    {
      "id": "7710da66-af8d-4f5a-8627-8907127e3a71",
      "cell_type": "code",
      "source": "album_sales_dict.keys()",
      "metadata": {
        "trusted": true
      },
      "outputs": [
        {
          "execution_count": 35,
          "output_type": "execute_result",
          "data": {
            "text/plain": "dict_keys(['Back in Black', 'The Bodyguard', 'Thriller'])"
          },
          "metadata": {}
        }
      ],
      "execution_count": 35
    },
    {
      "id": "7d571182-6a31-42fa-8ff4-4d1d7fa07309",
      "cell_type": "code",
      "source": "album_sales_dict.values()",
      "metadata": {
        "trusted": true
      },
      "outputs": [
        {
          "execution_count": 36,
          "output_type": "execute_result",
          "data": {
            "text/plain": "dict_values([50, 50, 65])"
          },
          "metadata": {}
        }
      ],
      "execution_count": 36
    },
    {
      "id": "02771c9b-f7cb-4b33-963c-40efa574a848",
      "cell_type": "code",
      "source": "INV = {}",
      "metadata": {
        "trusted": true
      },
      "outputs": [],
      "execution_count": 37
    },
    {
      "id": "63730fc8-f30e-44bb-9846-e6356c78eefb",
      "cell_type": "code",
      "source": "INV = {\"Quantity\":5,\"Price\":20000,\"Release\":2020}\nINV",
      "metadata": {
        "trusted": true
      },
      "outputs": [
        {
          "execution_count": 42,
          "output_type": "execute_result",
          "data": {
            "text/plain": "{'Quantity': 5, 'Price': 20000, 'Release': 2020}"
          },
          "metadata": {}
        }
      ],
      "execution_count": 42
    },
    {
      "id": "2a7a5750-64de-4645-bf71-e5228b1250eb",
      "cell_type": "code",
      "source": "ProductNo1 = \"Mobile Phone\"\nProductNo1_quantity = 5\nProductNo1_price = 20000\nProductNo1_releaseYear= 2020",
      "metadata": {
        "trusted": true
      },
      "outputs": [],
      "execution_count": 43
    },
    {
      "id": "dbccd646-6ef0-43b7-884c-87732bfe0112",
      "cell_type": "code",
      "source": "ProductNo2 = \"Laptop\"\nProductNo2_quantity = 10\nProductNo2_price = 50000\nProductNo2_releaseYear= 2023",
      "metadata": {
        "trusted": true
      },
      "outputs": [],
      "execution_count": 44
    },
    {
      "id": "43c1c222-6812-484c-88e2-5e2d9c78e0ce",
      "cell_type": "code",
      "source": "INV[\"ProductNo2\"]= ProductNo2\nINV[\"ProductNo2_quantity\"]= ProductNo2_quantity\nINV[\"ProductNo2_price\"]= ProductNo2_price\nINV[\"ProductNo2_releaseYear\"]=ProductNo2_releaseYear",
      "metadata": {
        "trusted": true
      },
      "outputs": [],
      "execution_count": 48
    },
    {
      "id": "efa409e8-c53a-49aa-9d31-310863aef7a7",
      "cell_type": "raw",
      "source": "INV",
      "metadata": {}
    },
    {
      "id": "85438e03-4029-4706-ab1b-8037a7e059e8",
      "cell_type": "code",
      "source": "inventory = {}\nProductNo1 = \"Mobile Phone\"\nProductNo1_quantity = 5\nProductNo1_price = 20000\nProductNo1_releaseYear= 2020\nProductNo2 = \"Laptop\"\nProductNo2_quantity = 10\nProductNo2_price = 50000\nProductNo2_releaseYear= 2023\ninventory[\"ProductNo1\"]= ProductNo1\ninventory[\"ProductNo1_quantity\"]= ProductNo1_quantity\ninventory[\"ProductNo1_price\"]= ProductNo1_price\ninventory[\"ProductNo1_releaseYear\"]=ProductNo1_releaseYear\ninventory[\"ProductNo2\"]= ProductNo2\ninventory[\"ProductNo2_quantity\"]= ProductNo2_quantity\ninventory[\"ProductNo2_price\"]= ProductNo2_price\ninventory[\"ProductNo2_releaseYear\"]=ProductNo2_releaseYear\nprint(inventory)",
      "metadata": {
        "trusted": true
      },
      "outputs": [
        {
          "name": "stdout",
          "output_type": "stream",
          "text": "{'ProductNo1': 'Mobile Phone', 'ProductNo1_quantity': 5, 'ProductNo1_price': 20000, 'ProductNo1_releaseYear': 2020, 'ProductNo2': 'Laptop', 'ProductNo2_quantity': 10, 'ProductNo2_price': 50000, 'ProductNo2_releaseYear': 2023}\n"
        }
      ],
      "execution_count": 52
    },
    {
      "id": "b2643d1b-5115-4c13-9a6a-cbc6048d8443",
      "cell_type": "code",
      "source": "",
      "metadata": {
        "trusted": true
      },
      "outputs": [],
      "execution_count": null
    }
  ]
}